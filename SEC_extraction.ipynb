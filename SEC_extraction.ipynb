{
 "cells": [
  {
   "cell_type": "code",
   "execution_count": 1,
   "id": "f02d01d2",
   "metadata": {},
   "outputs": [],
   "source": [
    "import requests as rq\n",
    "import pandas as pd\n",
    "from bs4 import BeautifulSoup\n",
    "# !pip install -U sec-edgar-downloader\n",
    "from sec_edgar_downloader import Downloader\n",
    "from tqdm import tqdm\n",
    "import re\n",
    "from urllib.parse import urlparse\n",
    "# import ast\n",
    "import sys\n",
    "import json\n",
    "import os\n",
    "import gc\n",
    "import pickle"
   ]
  },
  {
   "cell_type": "markdown",
   "id": "291ff19b",
   "metadata": {},
   "source": [
    "# Preparation"
   ]
  },
  {
   "cell_type": "code",
   "execution_count": 2,
   "id": "0f4745ab",
   "metadata": {},
   "outputs": [],
   "source": [
    "#API extraction function & Definition of headers:\n",
    "\n",
    "headers_data = {\n",
    "    \"User-Agent\": \"Ludwig Kunz (ludwig.kunz@uni-konstanz.de)\",\n",
    "    \"Accept-Encoding\": \"gzip, deflate\",\n",
    "    \"Host\": \"data.sec.gov\"\n",
    "}\n",
    "headers_doc = {\n",
    "        \"User-Agent\": \"Ludwig Kunz (ludwig.kunz@uni-konstanz.de)\",\n",
    "        \"Accept-Encoding\": \"gzip, deflate\",\n",
    "        \"Host\": \"www.sec.gov\"\n",
    "}\n",
    "\n",
    "def get_json(url, headers):\n",
    "    response = rq.get(url, headers = headers)\n",
    "    if response.status_code == 200:\n",
    "        return response.json()\n",
    "    else:\n",
    "        raise ImportError(response.status_code)"
   ]
  },
  {
   "cell_type": "code",
   "execution_count": 3,
   "id": "4ac58fb7",
   "metadata": {},
   "outputs": [
    {
     "name": "stdout",
     "output_type": "stream",
     "text": [
      "Missing ticker(s): ['HES', 'BF.B']\n"
     ]
    },
    {
     "data": {
      "application/vnd.microsoft.datawrangler.viewer.v0+json": {
       "columns": [
        {
         "name": "index",
         "rawType": "int64",
         "type": "integer"
        },
        {
         "name": "ticker",
         "rawType": "object",
         "type": "string"
        },
        {
         "name": "cik",
         "rawType": "object",
         "type": "string"
        }
       ],
       "ref": "98f64820-19e3-4a82-9f7e-b649513ef024",
       "rows": [
        [
         "0",
         "NVDA",
         "0001045810"
        ],
        [
         "1",
         "MSFT",
         "0000789019"
        ],
        [
         "2",
         "AAPL",
         "0000320193"
        ],
        [
         "3",
         "JPM",
         "0000019617"
        ],
        [
         "4",
         "WMT",
         "0000104169"
        ],
        [
         "5",
         "ORCL",
         "0001341439"
        ],
        [
         "6",
         "LLY",
         "0000059478"
        ],
        [
         "7",
         "XOM",
         "0000034088"
        ],
        [
         "8",
         "COST",
         "0000909832"
        ],
        [
         "9",
         "JNJ",
         "0000200406"
        ],
        [
         "10",
         "HD",
         "0000354950"
        ],
        [
         "11",
         "PG",
         "0000080424"
        ],
        [
         "12",
         "BAC",
         "0000070858"
        ],
        [
         "13",
         "CVX",
         "0000093410"
        ],
        [
         "14",
         "KO",
         "0000021344"
        ],
        [
         "15",
         "GE",
         "0000040545"
        ],
        [
         "16",
         "CSCO",
         "0000858877"
        ],
        [
         "17",
         "WFC",
         "0000072971"
        ],
        [
         "18",
         "IBM",
         "0000051143"
        ],
        [
         "19",
         "MS",
         "0000895421"
        ],
        [
         "20",
         "ABT",
         "0000001800"
        ],
        [
         "21",
         "GS",
         "0000886982"
        ],
        [
         "22",
         "MCD",
         "0000063908"
        ],
        [
         "23",
         "INTU",
         "0000896878"
        ],
        [
         "24",
         "UNH",
         "0000731766"
        ],
        [
         "25",
         "DIS",
         "0001744489"
        ],
        [
         "26",
         "AXP",
         "0000004962"
        ],
        [
         "27",
         "CAT",
         "0000018230"
        ],
        [
         "28",
         "MRK",
         "0000310158"
        ],
        [
         "29",
         "T",
         "0000732717"
        ],
        [
         "30",
         "PEP",
         "0000077476"
        ],
        [
         "31",
         "VZ",
         "0000732712"
        ],
        [
         "32",
         "TMO",
         "0000097745"
        ],
        [
         "33",
         "SCHW",
         "0000316709"
        ],
        [
         "34",
         "C",
         "0000831001"
        ],
        [
         "35",
         "BA",
         "0000012927"
        ],
        [
         "36",
         "SPGI",
         "0000064040"
        ],
        [
         "37",
         "TXN",
         "0000097476"
        ],
        [
         "38",
         "AMGN",
         "0000318154"
        ],
        [
         "39",
         "QCOM",
         "0000804328"
        ],
        [
         "40",
         "BSX",
         "0000885725"
        ],
        [
         "41",
         "ETN",
         "0001551182"
        ],
        [
         "42",
         "ADBE",
         "0000796343"
        ],
        [
         "43",
         "NEE",
         "0000753308"
        ],
        [
         "44",
         "AMAT",
         "0000006951"
        ],
        [
         "45",
         "SYK",
         "0000310764"
        ],
        [
         "46",
         "PGR",
         "0000080661"
        ],
        [
         "47",
         "GILD",
         "0000882095"
        ],
        [
         "48",
         "DHR",
         "0000313616"
        ],
        [
         "49",
         "TJX",
         "0000109198"
        ]
       ],
       "shape": {
        "columns": 2,
        "rows": 215
       }
      },
      "text/html": [
       "<div>\n",
       "<style scoped>\n",
       "    .dataframe tbody tr th:only-of-type {\n",
       "        vertical-align: middle;\n",
       "    }\n",
       "\n",
       "    .dataframe tbody tr th {\n",
       "        vertical-align: top;\n",
       "    }\n",
       "\n",
       "    .dataframe thead th {\n",
       "        text-align: right;\n",
       "    }\n",
       "</style>\n",
       "<table border=\"1\" class=\"dataframe\">\n",
       "  <thead>\n",
       "    <tr style=\"text-align: right;\">\n",
       "      <th></th>\n",
       "      <th>ticker</th>\n",
       "      <th>cik</th>\n",
       "    </tr>\n",
       "  </thead>\n",
       "  <tbody>\n",
       "    <tr>\n",
       "      <th>0</th>\n",
       "      <td>NVDA</td>\n",
       "      <td>0001045810</td>\n",
       "    </tr>\n",
       "    <tr>\n",
       "      <th>1</th>\n",
       "      <td>MSFT</td>\n",
       "      <td>0000789019</td>\n",
       "    </tr>\n",
       "    <tr>\n",
       "      <th>2</th>\n",
       "      <td>AAPL</td>\n",
       "      <td>0000320193</td>\n",
       "    </tr>\n",
       "    <tr>\n",
       "      <th>3</th>\n",
       "      <td>JPM</td>\n",
       "      <td>0000019617</td>\n",
       "    </tr>\n",
       "    <tr>\n",
       "      <th>4</th>\n",
       "      <td>WMT</td>\n",
       "      <td>0000104169</td>\n",
       "    </tr>\n",
       "    <tr>\n",
       "      <th>...</th>\n",
       "      <td>...</td>\n",
       "      <td>...</td>\n",
       "    </tr>\n",
       "    <tr>\n",
       "      <th>210</th>\n",
       "      <td>EMN</td>\n",
       "      <td>0000915389</td>\n",
       "    </tr>\n",
       "    <tr>\n",
       "      <th>211</th>\n",
       "      <td>APA</td>\n",
       "      <td>0001841666</td>\n",
       "    </tr>\n",
       "    <tr>\n",
       "      <th>212</th>\n",
       "      <td>FITB</td>\n",
       "      <td>0000035527</td>\n",
       "    </tr>\n",
       "    <tr>\n",
       "      <th>213</th>\n",
       "      <td>HES</td>\n",
       "      <td>0000004447</td>\n",
       "    </tr>\n",
       "    <tr>\n",
       "      <th>214</th>\n",
       "      <td>BF.B</td>\n",
       "      <td>0000014693</td>\n",
       "    </tr>\n",
       "  </tbody>\n",
       "</table>\n",
       "<p>215 rows × 2 columns</p>\n",
       "</div>"
      ],
      "text/plain": [
       "    ticker         cik\n",
       "0     NVDA  0001045810\n",
       "1     MSFT  0000789019\n",
       "2     AAPL  0000320193\n",
       "3      JPM  0000019617\n",
       "4      WMT  0000104169\n",
       "..     ...         ...\n",
       "210    EMN  0000915389\n",
       "211    APA  0001841666\n",
       "212   FITB  0000035527\n",
       "213    HES  0000004447\n",
       "214   BF.B  0000014693\n",
       "\n",
       "[215 rows x 2 columns]"
      ]
     },
     "metadata": {},
     "output_type": "display_data"
    }
   ],
   "source": [
    "sp500_changes = pd.read_csv(\"s&p500_hist_changes.csv\") # from https://github.com/fja05680/sp500\n",
    "sp500_changes[\"date\"] = pd.to_datetime(sp500_changes[\"date\"])\n",
    "sp500_changes[\"year\"] = sp500_changes[\"date\"].dt.year \n",
    "sp500_changes = sp500_changes[((sp500_changes[\"year\"] >= 2005) & (sp500_changes[\"year\"] < 2025))]\n",
    "sp500_changes.reset_index(drop = True,inplace=True)\n",
    "sp500_changes[\"tickers\"] = sp500_changes[\"tickers\"].apply(lambda x: x.split(\",\"))\n",
    "\n",
    "sp500_changes\n",
    "\n",
    "#iterating over the dataset and creating intersections, to get permanent constituents\n",
    "common_tickers = set(sp500_changes.iloc[0][\"tickers\"])\n",
    "for _, row in sp500_changes[1:].iterrows():\n",
    "    common_tickers &= set(row[\"tickers\"])\n",
    "common_tickers = list(common_tickers)\n",
    "\n",
    "#converting the permanent constituents tickers to ciks\n",
    "url = \"https://www.sec.gov/files/company_tickers.json\"\n",
    "company_tickers = get_json(url, headers_doc)\n",
    "company_tickers = list(company_tickers.values())\n",
    "company_tickers = pd.DataFrame(company_tickers)\n",
    "company_tickers\n",
    "\n",
    "company_tickers = company_tickers[company_tickers[\"ticker\"].isin(common_tickers)]\n",
    "company_tickers[\"cik\"] = company_tickers[\"cik_str\"].apply(str).str.zfill(10)\n",
    "company_tickers = company_tickers[[\"ticker\", \"cik\"]]\n",
    "matched_tickers = set(company_tickers[\"ticker\"])\n",
    "missing_tickers = list(set(common_tickers) - matched_tickers)\n",
    "\n",
    "df_missing = pd.DataFrame({\n",
    "    \"ticker\": missing_tickers,\n",
    "    \"cik\": [pd.NA] * len(missing_tickers)\n",
    "})\n",
    "\n",
    "company_tickers = pd.concat([company_tickers, df_missing], ignore_index=True)\n",
    "\n",
    "print(\"Missing ticker(s):\", missing_tickers)\n",
    "\n",
    "#manually filling the missing CIKs:\n",
    "company_tickers.loc[company_tickers[\"ticker\"] == \"BF.B\", \"cik\"] = \"0000014693\"\n",
    "company_tickers.loc[company_tickers[\"ticker\"] == \"HES\", \"cik\"] = \"0000004447\"\n",
    "company_tickers.loc[company_tickers[\"ticker\"] == \"PPL\", \"cik\"] = \"0000922224\"\n",
    "\n",
    "# company_tickers = company_tickers[189:] #shortening, for checks and bug fixing\n",
    "# company_tickers = company_tickers[company_tickers[\"ticker\"] == \"ORCL\"]\n",
    "\n",
    "display(company_tickers)"
   ]
  },
  {
   "cell_type": "markdown",
   "id": "e839aaed",
   "metadata": {},
   "source": [
    "# Webscraping"
   ]
  },
  {
   "cell_type": "code",
   "execution_count": 8,
   "id": "b4e26ed8",
   "metadata": {},
   "outputs": [
    {
     "name": "stdout",
     "output_type": "stream",
     "text": [
      "\u001b[KWebscraping for company: NVDA (1/215)"
     ]
    },
    {
     "name": "stderr",
     "output_type": "stream",
     "text": [
      "100%|██████████| 21/21 [00:22<00:00,  1.05s/it]"
     ]
    },
    {
     "name": "stdout",
     "output_type": "stream",
     "text": [
      "1 errors found\n",
      "\u001b[KWebscraping for company: MSFT (2/215)"
     ]
    },
    {
     "name": "stderr",
     "output_type": "stream",
     "text": [
      "\n",
      "100%|██████████| 21/21 [00:36<00:00,  1.73s/it]"
     ]
    },
    {
     "name": "stdout",
     "output_type": "stream",
     "text": [
      "1 errors found\n",
      "\u001b[KWebscraping for company: AAPL (3/215)"
     ]
    },
    {
     "name": "stderr",
     "output_type": "stream",
     "text": [
      "\n",
      "100%|██████████| 20/20 [00:18<00:00,  1.06it/s]\n"
     ]
    },
    {
     "name": "stdout",
     "output_type": "stream",
     "text": [
      "1 errors found\n",
      "\u001b[KWebscraping for company: JPM (4/215)"
     ]
    },
    {
     "name": "stderr",
     "output_type": "stream",
     "text": [
      "100%|██████████| 20/20 [04:11<00:00, 12.55s/it]\n"
     ]
    },
    {
     "name": "stdout",
     "output_type": "stream",
     "text": [
      "2 errors found\n",
      "\u001b[KWebscraping for company: WMT (5/215)"
     ]
    },
    {
     "name": "stderr",
     "output_type": "stream",
     "text": [
      "100%|██████████| 21/21 [00:15<00:00,  1.35it/s]"
     ]
    },
    {
     "name": "stdout",
     "output_type": "stream",
     "text": [
      "1 errors found\n",
      "\u001b[KWebscraping for company: ORCL (6/215)"
     ]
    },
    {
     "name": "stderr",
     "output_type": "stream",
     "text": [
      "\n",
      "100%|██████████| 20/20 [00:38<00:00,  1.94s/it]\n"
     ]
    },
    {
     "name": "stdout",
     "output_type": "stream",
     "text": [
      "0 errors found\n",
      "\u001b[KWebscraping for company: LLY (7/215)"
     ]
    },
    {
     "name": "stderr",
     "output_type": "stream",
     "text": [
      "100%|██████████| 20/20 [00:22<00:00,  1.13s/it]"
     ]
    },
    {
     "name": "stdout",
     "output_type": "stream",
     "text": [
      "2 errors found\n",
      "\u001b[KWebscraping for company: XOM (8/215)"
     ]
    },
    {
     "name": "stderr",
     "output_type": "stream",
     "text": [
      "\n",
      "100%|██████████| 20/20 [00:59<00:00,  2.98s/it]\n"
     ]
    },
    {
     "name": "stdout",
     "output_type": "stream",
     "text": [
      "5 errors found\n",
      "\u001b[KWebscraping for company: COST (9/215)"
     ]
    },
    {
     "name": "stderr",
     "output_type": "stream",
     "text": [
      "100%|██████████| 20/20 [00:18<00:00,  1.08it/s]"
     ]
    },
    {
     "name": "stdout",
     "output_type": "stream",
     "text": [
      "1 errors found\n",
      "\u001b[KWebscraping for company: JNJ (10/215)"
     ]
    },
    {
     "name": "stderr",
     "output_type": "stream",
     "text": [
      "\n",
      "100%|██████████| 21/21 [00:19<00:00,  1.07it/s]\n"
     ]
    },
    {
     "name": "stdout",
     "output_type": "stream",
     "text": [
      "2 errors found\n",
      "\u001b[KWebscraping for company: HD (11/215)"
     ]
    },
    {
     "name": "stderr",
     "output_type": "stream",
     "text": [
      "100%|██████████| 21/21 [00:16<00:00,  1.28it/s]"
     ]
    },
    {
     "name": "stdout",
     "output_type": "stream",
     "text": [
      "1 errors found\n",
      "\u001b[KWebscraping for company: PG (12/215)"
     ]
    },
    {
     "name": "stderr",
     "output_type": "stream",
     "text": [
      "\n",
      "100%|██████████| 21/21 [00:16<00:00,  1.25it/s]"
     ]
    },
    {
     "name": "stdout",
     "output_type": "stream",
     "text": [
      "8 errors found\n",
      "\u001b[KWebscraping for company: BAC (13/215)"
     ]
    },
    {
     "name": "stderr",
     "output_type": "stream",
     "text": [
      "\n",
      "100%|██████████| 20/20 [05:22<00:00, 16.13s/it]\n"
     ]
    },
    {
     "name": "stdout",
     "output_type": "stream",
     "text": [
      "0 errors found\n",
      "\u001b[KWebscraping for company: CVX (14/215)"
     ]
    },
    {
     "name": "stderr",
     "output_type": "stream",
     "text": [
      "100%|██████████| 20/20 [00:58<00:00,  2.92s/it]\n"
     ]
    },
    {
     "name": "stdout",
     "output_type": "stream",
     "text": [
      "0 errors found\n",
      "\u001b[KWebscraping for company: KO (15/215)"
     ]
    },
    {
     "name": "stderr",
     "output_type": "stream",
     "text": [
      "100%|██████████| 20/20 [00:34<00:00,  1.75s/it]"
     ]
    },
    {
     "name": "stdout",
     "output_type": "stream",
     "text": [
      "1 errors found\n",
      "\u001b[KWebscraping for company: GE (16/215)"
     ]
    },
    {
     "name": "stderr",
     "output_type": "stream",
     "text": [
      "\n",
      "100%|██████████| 20/20 [00:55<00:00,  2.78s/it]"
     ]
    },
    {
     "name": "stdout",
     "output_type": "stream",
     "text": [
      "11 errors found\n",
      "\u001b[KWebscraping for company: CSCO (17/215)"
     ]
    },
    {
     "name": "stderr",
     "output_type": "stream",
     "text": [
      "\n",
      "100%|██████████| 20/20 [00:27<00:00,  1.39s/it]"
     ]
    },
    {
     "name": "stdout",
     "output_type": "stream",
     "text": [
      "1 errors found\n",
      "\u001b[KWebscraping for company: WFC (18/215)"
     ]
    },
    {
     "name": "stderr",
     "output_type": "stream",
     "text": [
      "\n",
      "100%|██████████| 20/20 [00:09<00:00,  2.07it/s]"
     ]
    },
    {
     "name": "stdout",
     "output_type": "stream",
     "text": [
      "6 errors found\n",
      "\u001b[KWebscraping for company: IBM (19/215)"
     ]
    },
    {
     "name": "stderr",
     "output_type": "stream",
     "text": [
      "\n",
      "100%|██████████| 20/20 [00:08<00:00,  2.47it/s]"
     ]
    },
    {
     "name": "stdout",
     "output_type": "stream",
     "text": [
      "0 errors found\n",
      "\u001b[KWebscraping for company: MS (20/215)"
     ]
    },
    {
     "name": "stderr",
     "output_type": "stream",
     "text": [
      "\n",
      "100%|██████████| 20/20 [01:33<00:00,  4.66s/it]\n"
     ]
    },
    {
     "name": "stdout",
     "output_type": "stream",
     "text": [
      "0 errors found\n",
      "\u001b[KWebscraping for company: ABT (21/215)"
     ]
    },
    {
     "name": "stderr",
     "output_type": "stream",
     "text": [
      "100%|██████████| 20/20 [00:22<00:00,  1.13s/it]"
     ]
    },
    {
     "name": "stdout",
     "output_type": "stream",
     "text": [
      "0 errors found\n",
      "\u001b[KWebscraping for company: GS (22/215)"
     ]
    },
    {
     "name": "stderr",
     "output_type": "stream",
     "text": [
      "\n",
      "100%|██████████| 20/20 [01:44<00:00,  5.20s/it]\n"
     ]
    },
    {
     "name": "stdout",
     "output_type": "stream",
     "text": [
      "3 errors found\n",
      "\u001b[KWebscraping for company: MCD (23/215)"
     ]
    },
    {
     "name": "stderr",
     "output_type": "stream",
     "text": [
      "100%|██████████| 20/20 [00:23<00:00,  1.18s/it]"
     ]
    },
    {
     "name": "stdout",
     "output_type": "stream",
     "text": [
      "5 errors found\n",
      "\u001b[KWebscraping for company: INTU (24/215)"
     ]
    },
    {
     "name": "stderr",
     "output_type": "stream",
     "text": [
      "\n",
      "100%|██████████| 20/20 [00:27<00:00,  1.38s/it]"
     ]
    },
    {
     "name": "stdout",
     "output_type": "stream",
     "text": [
      "1 errors found\n",
      "\u001b[KWebscraping for company: UNH (25/215)"
     ]
    },
    {
     "name": "stderr",
     "output_type": "stream",
     "text": [
      "\n",
      "100%|██████████| 20/20 [00:26<00:00,  1.35s/it]"
     ]
    },
    {
     "name": "stdout",
     "output_type": "stream",
     "text": [
      "0 errors found\n",
      "\u001b[KWebscraping for company: DIS (26/215)"
     ]
    },
    {
     "name": "stderr",
     "output_type": "stream",
     "text": [
      "\n",
      "100%|██████████| 6/6 [00:08<00:00,  1.37s/it]\n"
     ]
    },
    {
     "name": "stdout",
     "output_type": "stream",
     "text": [
      "0 errors found\n",
      "\u001b[KWebscraping for company: AXP (27/215)"
     ]
    },
    {
     "name": "stderr",
     "output_type": "stream",
     "text": [
      "100%|██████████| 20/20 [00:31<00:00,  1.58s/it]\n"
     ]
    },
    {
     "name": "stdout",
     "output_type": "stream",
     "text": [
      "0 errors found\n",
      "\u001b[KWebscraping for company: CAT (28/215)"
     ]
    },
    {
     "name": "stderr",
     "output_type": "stream",
     "text": [
      "100%|██████████| 21/21 [00:43<00:00,  2.07s/it]"
     ]
    },
    {
     "name": "stdout",
     "output_type": "stream",
     "text": [
      "1 errors found\n",
      "\u001b[KWebscraping for company: MRK (29/215)"
     ]
    },
    {
     "name": "stderr",
     "output_type": "stream",
     "text": [
      "\n",
      "100%|██████████| 20/20 [00:39<00:00,  1.95s/it]\n"
     ]
    },
    {
     "name": "stdout",
     "output_type": "stream",
     "text": [
      "0 errors found\n",
      "\u001b[KWebscraping for company: T (30/215)"
     ]
    },
    {
     "name": "stderr",
     "output_type": "stream",
     "text": [
      "100%|██████████| 20/20 [00:14<00:00,  1.37it/s]"
     ]
    },
    {
     "name": "stdout",
     "output_type": "stream",
     "text": [
      "19 errors found\n",
      "\u001b[KWebscraping for company: PEP (31/215)"
     ]
    },
    {
     "name": "stderr",
     "output_type": "stream",
     "text": [
      "\n",
      "100%|██████████| 20/20 [00:50<00:00,  2.54s/it]\n"
     ]
    },
    {
     "name": "stdout",
     "output_type": "stream",
     "text": [
      "0 errors found\n",
      "\u001b[KWebscraping for company: VZ (32/215)"
     ]
    },
    {
     "name": "stderr",
     "output_type": "stream",
     "text": [
      "100%|██████████| 20/20 [00:16<00:00,  1.24it/s]"
     ]
    },
    {
     "name": "stdout",
     "output_type": "stream",
     "text": [
      "0 errors found\n",
      "\u001b[KWebscraping for company: TMO (33/215)"
     ]
    },
    {
     "name": "stderr",
     "output_type": "stream",
     "text": [
      "\n",
      "100%|██████████| 20/20 [00:41<00:00,  2.08s/it]\n"
     ]
    },
    {
     "name": "stdout",
     "output_type": "stream",
     "text": [
      "0 errors found\n",
      "\u001b[KWebscraping for company: SCHW (34/215)"
     ]
    },
    {
     "name": "stderr",
     "output_type": "stream",
     "text": [
      "100%|██████████| 20/20 [00:44<00:00,  2.21s/it]"
     ]
    },
    {
     "name": "stdout",
     "output_type": "stream",
     "text": [
      "0 errors found\n",
      "\u001b[KWebscraping for company: C (35/215)"
     ]
    },
    {
     "name": "stderr",
     "output_type": "stream",
     "text": [
      "\n",
      "100%|██████████| 20/20 [02:53<00:00,  8.68s/it]\n"
     ]
    },
    {
     "name": "stdout",
     "output_type": "stream",
     "text": [
      "5 errors found\n",
      "\u001b[KWebscraping for company: BA (36/215)"
     ]
    },
    {
     "name": "stderr",
     "output_type": "stream",
     "text": [
      "100%|██████████| 20/20 [00:32<00:00,  1.62s/it]\n"
     ]
    },
    {
     "name": "stdout",
     "output_type": "stream",
     "text": [
      "0 errors found\n",
      "\u001b[KWebscraping for company: SPGI (37/215)"
     ]
    },
    {
     "name": "stderr",
     "output_type": "stream",
     "text": [
      "100%|██████████| 20/20 [00:30<00:00,  1.52s/it]\n"
     ]
    },
    {
     "name": "stdout",
     "output_type": "stream",
     "text": [
      "0 errors found\n",
      "\u001b[KWebscraping for company: TXN (38/215)"
     ]
    },
    {
     "name": "stderr",
     "output_type": "stream",
     "text": [
      "100%|██████████| 20/20 [00:13<00:00,  1.43it/s]"
     ]
    },
    {
     "name": "stdout",
     "output_type": "stream",
     "text": [
      "6 errors found\n",
      "\u001b[KWebscraping for company: AMGN (39/215)"
     ]
    },
    {
     "name": "stderr",
     "output_type": "stream",
     "text": [
      "\n",
      "100%|██████████| 20/20 [00:26<00:00,  1.33s/it]\n"
     ]
    },
    {
     "name": "stdout",
     "output_type": "stream",
     "text": [
      "0 errors found\n",
      "\u001b[KWebscraping for company: QCOM (40/215)"
     ]
    },
    {
     "name": "stderr",
     "output_type": "stream",
     "text": [
      "100%|██████████| 20/20 [00:20<00:00,  1.02s/it]"
     ]
    },
    {
     "name": "stdout",
     "output_type": "stream",
     "text": [
      "1 errors found\n",
      "\u001b[KWebscraping for company: BSX (41/215)"
     ]
    },
    {
     "name": "stderr",
     "output_type": "stream",
     "text": [
      "\n",
      "100%|██████████| 20/20 [00:28<00:00,  1.42s/it]"
     ]
    },
    {
     "name": "stdout",
     "output_type": "stream",
     "text": [
      "0 errors found\n",
      "\u001b[KWebscraping for company: ETN (42/215)"
     ]
    },
    {
     "name": "stderr",
     "output_type": "stream",
     "text": [
      "\n",
      "100%|██████████| 13/13 [00:22<00:00,  1.72s/it]"
     ]
    },
    {
     "name": "stdout",
     "output_type": "stream",
     "text": [
      "0 errors found\n",
      "\u001b[KWebscraping for company: ADBE (43/215)"
     ]
    },
    {
     "name": "stderr",
     "output_type": "stream",
     "text": [
      "\n",
      "100%|██████████| 20/20 [00:27<00:00,  1.37s/it]"
     ]
    },
    {
     "name": "stdout",
     "output_type": "stream",
     "text": [
      "0 errors found\n",
      "\u001b[KWebscraping for company: NEE (44/215)"
     ]
    },
    {
     "name": "stderr",
     "output_type": "stream",
     "text": [
      "\n",
      "100%|██████████| 20/20 [00:50<00:00,  2.51s/it]"
     ]
    },
    {
     "name": "stdout",
     "output_type": "stream",
     "text": [
      "0 errors found\n",
      "\u001b[KWebscraping for company: AMAT (45/215)"
     ]
    },
    {
     "name": "stderr",
     "output_type": "stream",
     "text": [
      "\n",
      "100%|██████████| 20/20 [00:26<00:00,  1.30s/it]\n"
     ]
    },
    {
     "name": "stdout",
     "output_type": "stream",
     "text": [
      "1 errors found\n",
      "\u001b[KWebscraping for company: SYK (46/215)"
     ]
    },
    {
     "name": "stderr",
     "output_type": "stream",
     "text": [
      "100%|██████████| 20/20 [00:17<00:00,  1.15it/s]"
     ]
    },
    {
     "name": "stdout",
     "output_type": "stream",
     "text": [
      "5 errors found\n",
      "\u001b[KWebscraping for company: PGR (47/215)"
     ]
    },
    {
     "name": "stderr",
     "output_type": "stream",
     "text": [
      "\n",
      "100%|██████████| 20/20 [00:11<00:00,  1.82it/s]"
     ]
    },
    {
     "name": "stdout",
     "output_type": "stream",
     "text": [
      "5 errors found\n",
      "\u001b[KWebscraping for company: GILD (48/215)"
     ]
    },
    {
     "name": "stderr",
     "output_type": "stream",
     "text": [
      "\n",
      "100%|██████████| 20/20 [00:23<00:00,  1.18s/it]"
     ]
    },
    {
     "name": "stdout",
     "output_type": "stream",
     "text": [
      "0 errors found\n",
      "\u001b[KWebscraping for company: DHR (49/215)"
     ]
    },
    {
     "name": "stderr",
     "output_type": "stream",
     "text": [
      "\n",
      "100%|██████████| 20/20 [00:22<00:00,  1.11s/it]"
     ]
    },
    {
     "name": "stdout",
     "output_type": "stream",
     "text": [
      "0 errors found\n",
      "\u001b[KWebscraping for company: TJX (50/215)"
     ]
    },
    {
     "name": "stderr",
     "output_type": "stream",
     "text": [
      "\n",
      "100%|██████████| 21/21 [00:19<00:00,  1.06it/s]"
     ]
    },
    {
     "name": "stdout",
     "output_type": "stream",
     "text": [
      "2 errors found\n",
      "\u001b[KWebscraping for company: HON (51/215)"
     ]
    },
    {
     "name": "stderr",
     "output_type": "stream",
     "text": [
      "\n",
      "100%|██████████| 20/20 [00:37<00:00,  1.87s/it]"
     ]
    },
    {
     "name": "stdout",
     "output_type": "stream",
     "text": [
      "0 errors found\n",
      "\u001b[KWebscraping for company: DE (52/215)"
     ]
    },
    {
     "name": "stderr",
     "output_type": "stream",
     "text": [
      "\n",
      "100%|██████████| 20/20 [00:45<00:00,  2.28s/it]"
     ]
    },
    {
     "name": "stdout",
     "output_type": "stream",
     "text": [
      "9 errors found\n",
      "\u001b[KWebscraping for company: PFE (53/215)"
     ]
    },
    {
     "name": "stderr",
     "output_type": "stream",
     "text": [
      "\n",
      "100%|██████████| 20/20 [00:15<00:00,  1.29it/s]"
     ]
    },
    {
     "name": "stdout",
     "output_type": "stream",
     "text": [
      "5 errors found\n",
      "\u001b[KWebscraping for company: COF (54/215)"
     ]
    },
    {
     "name": "stderr",
     "output_type": "stream",
     "text": [
      "\n",
      "100%|██████████| 20/20 [01:37<00:00,  4.85s/it]\n"
     ]
    },
    {
     "name": "stdout",
     "output_type": "stream",
     "text": [
      "0 errors found\n",
      "\u001b[KWebscraping for company: UNP (55/215)"
     ]
    },
    {
     "name": "stderr",
     "output_type": "stream",
     "text": [
      "100%|██████████| 20/20 [00:21<00:00,  1.08s/it]\n"
     ]
    },
    {
     "name": "stdout",
     "output_type": "stream",
     "text": [
      "0 errors found\n",
      "\u001b[KWebscraping for company: LOW (56/215)"
     ]
    },
    {
     "name": "stderr",
     "output_type": "stream",
     "text": [
      "100%|██████████| 21/21 [00:16<00:00,  1.26it/s]"
     ]
    },
    {
     "name": "stdout",
     "output_type": "stream",
     "text": [
      "2 errors found\n",
      "\u001b[KWebscraping for company: ADP (57/215)"
     ]
    },
    {
     "name": "stderr",
     "output_type": "stream",
     "text": [
      "\n",
      "100%|██████████| 20/20 [00:18<00:00,  1.07it/s]\n"
     ]
    },
    {
     "name": "stdout",
     "output_type": "stream",
     "text": [
      "1 errors found\n",
      "\u001b[KWebscraping for company: CMCSA (58/215)"
     ]
    },
    {
     "name": "stderr",
     "output_type": "stream",
     "text": [
      "100%|██████████| 20/20 [00:31<00:00,  1.60s/it]"
     ]
    },
    {
     "name": "stdout",
     "output_type": "stream",
     "text": [
      "0 errors found\n",
      "\u001b[KWebscraping for company: COP (59/215)"
     ]
    },
    {
     "name": "stderr",
     "output_type": "stream",
     "text": [
      "\n",
      "100%|██████████| 20/20 [00:59<00:00,  3.00s/it]\n"
     ]
    },
    {
     "name": "stdout",
     "output_type": "stream",
     "text": [
      "0 errors found\n",
      "\u001b[KWebscraping for company: KLAC (60/215)"
     ]
    },
    {
     "name": "stderr",
     "output_type": "stream",
     "text": [
      "100%|██████████| 20/20 [00:23<00:00,  1.17s/it]\n"
     ]
    },
    {
     "name": "stdout",
     "output_type": "stream",
     "text": [
      "1 errors found\n",
      "\u001b[KWebscraping for company: MU (61/215)"
     ]
    },
    {
     "name": "stderr",
     "output_type": "stream",
     "text": [
      "100%|██████████| 20/20 [00:22<00:00,  1.13s/it]"
     ]
    },
    {
     "name": "stdout",
     "output_type": "stream",
     "text": [
      "3 errors found\n",
      "\u001b[KWebscraping for company: MDT (62/215)"
     ]
    },
    {
     "name": "stderr",
     "output_type": "stream",
     "text": [
      "\n",
      "100%|██████████| 11/11 [00:22<00:00,  2.04s/it]\n"
     ]
    },
    {
     "name": "stdout",
     "output_type": "stream",
     "text": [
      "0 errors found\n",
      "\u001b[KWebscraping for company: NKE (63/215)"
     ]
    },
    {
     "name": "stderr",
     "output_type": "stream",
     "text": [
      "100%|██████████| 21/21 [00:23<00:00,  1.14s/it]"
     ]
    },
    {
     "name": "stdout",
     "output_type": "stream",
     "text": [
      "1 errors found\n",
      "\u001b[KWebscraping for company: ADI (64/215)"
     ]
    },
    {
     "name": "stderr",
     "output_type": "stream",
     "text": [
      "\n",
      "100%|██████████| 20/20 [00:24<00:00,  1.22s/it]"
     ]
    },
    {
     "name": "stdout",
     "output_type": "stream",
     "text": [
      "1 errors found\n",
      "\u001b[KWebscraping for company: CB (65/215)"
     ]
    },
    {
     "name": "stderr",
     "output_type": "stream",
     "text": [
      "\n",
      "100%|██████████| 20/20 [01:35<00:00,  4.75s/it]\n"
     ]
    },
    {
     "name": "stdout",
     "output_type": "stream",
     "text": [
      "0 errors found\n",
      "\u001b[KWebscraping for company: SO (66/215)"
     ]
    },
    {
     "name": "stderr",
     "output_type": "stream",
     "text": [
      "100%|██████████| 20/20 [04:57<00:00, 14.90s/it]\n"
     ]
    },
    {
     "name": "stdout",
     "output_type": "stream",
     "text": [
      "0 errors found\n",
      "\u001b[KWebscraping for company: MO (67/215)"
     ]
    },
    {
     "name": "stderr",
     "output_type": "stream",
     "text": [
      "100%|██████████| 20/20 [00:27<00:00,  1.39s/it]"
     ]
    },
    {
     "name": "stdout",
     "output_type": "stream",
     "text": [
      "0 errors found\n",
      "\u001b[KWebscraping for company: LMT (68/215)"
     ]
    },
    {
     "name": "stderr",
     "output_type": "stream",
     "text": [
      "\n",
      "100%|██████████| 20/20 [00:22<00:00,  1.14s/it]\n"
     ]
    },
    {
     "name": "stdout",
     "output_type": "stream",
     "text": [
      "0 errors found\n",
      "\u001b[KWebscraping for company: SBUX (69/215)"
     ]
    },
    {
     "name": "stderr",
     "output_type": "stream",
     "text": [
      "100%|██████████| 20/20 [00:33<00:00,  1.65s/it]"
     ]
    },
    {
     "name": "stdout",
     "output_type": "stream",
     "text": [
      "0 errors found\n",
      "\u001b[KWebscraping for company: PLD (70/215)"
     ]
    },
    {
     "name": "stderr",
     "output_type": "stream",
     "text": [
      "\n",
      "100%|██████████| 20/20 [01:36<00:00,  4.84s/it]\n"
     ]
    },
    {
     "name": "stdout",
     "output_type": "stream",
     "text": [
      "0 errors found\n",
      "\u001b[KWebscraping for company: MMC (71/215)"
     ]
    },
    {
     "name": "stderr",
     "output_type": "stream",
     "text": [
      "100%|██████████| 20/20 [00:30<00:00,  1.53s/it]"
     ]
    },
    {
     "name": "stdout",
     "output_type": "stream",
     "text": [
      "0 errors found\n",
      "\u001b[KWebscraping for company: DUK (72/215)"
     ]
    },
    {
     "name": "stderr",
     "output_type": "stream",
     "text": [
      "\n",
      "100%|██████████| 19/19 [03:16<00:00, 10.32s/it]\n"
     ]
    },
    {
     "name": "stdout",
     "output_type": "stream",
     "text": [
      "0 errors found\n",
      "\u001b[KWebscraping for company: WM (73/215)"
     ]
    },
    {
     "name": "stderr",
     "output_type": "stream",
     "text": [
      "100%|██████████| 20/20 [00:36<00:00,  1.81s/it]\n"
     ]
    },
    {
     "name": "stdout",
     "output_type": "stream",
     "text": [
      "0 errors found\n",
      "\u001b[KWebscraping for company: PH (74/215)"
     ]
    },
    {
     "name": "stderr",
     "output_type": "stream",
     "text": [
      "100%|██████████| 20/20 [00:13<00:00,  1.52it/s]"
     ]
    },
    {
     "name": "stdout",
     "output_type": "stream",
     "text": [
      "1 errors found\n",
      "\u001b[KWebscraping for company: BMY (75/215)"
     ]
    },
    {
     "name": "stderr",
     "output_type": "stream",
     "text": [
      "\n",
      "100%|██████████| 20/20 [00:39<00:00,  1.99s/it]"
     ]
    },
    {
     "name": "stdout",
     "output_type": "stream",
     "text": [
      "0 errors found\n",
      "\u001b[KWebscraping for company: MCO (76/215)"
     ]
    },
    {
     "name": "stderr",
     "output_type": "stream",
     "text": [
      "\n",
      "100%|██████████| 20/20 [00:38<00:00,  1.90s/it]"
     ]
    },
    {
     "name": "stdout",
     "output_type": "stream",
     "text": [
      "0 errors found\n",
      "\u001b[KWebscraping for company: CTAS (77/215)"
     ]
    },
    {
     "name": "stderr",
     "output_type": "stream",
     "text": [
      "\n",
      "100%|██████████| 21/21 [00:31<00:00,  1.51s/it]"
     ]
    },
    {
     "name": "stdout",
     "output_type": "stream",
     "text": [
      "2 errors found\n",
      "\u001b[KWebscraping for company: MCK (78/215)"
     ]
    },
    {
     "name": "stderr",
     "output_type": "stream",
     "text": [
      "\n",
      "100%|██████████| 21/21 [00:28<00:00,  1.36s/it]"
     ]
    },
    {
     "name": "stdout",
     "output_type": "stream",
     "text": [
      "1 errors found\n",
      "\u001b[KWebscraping for company: SHW (79/215)"
     ]
    },
    {
     "name": "stderr",
     "output_type": "stream",
     "text": [
      "\n",
      "100%|██████████| 20/20 [00:10<00:00,  1.83it/s]"
     ]
    },
    {
     "name": "stdout",
     "output_type": "stream",
     "text": [
      "0 errors found\n",
      "\u001b[KWebscraping for company: INTC (80/215)"
     ]
    },
    {
     "name": "stderr",
     "output_type": "stream",
     "text": [
      "\n",
      "100%|██████████| 20/20 [00:34<00:00,  1.72s/it]\n"
     ]
    },
    {
     "name": "stdout",
     "output_type": "stream",
     "text": [
      "5 errors found\n",
      "\u001b[KWebscraping for company: NOC (81/215)"
     ]
    },
    {
     "name": "stderr",
     "output_type": "stream",
     "text": [
      "100%|██████████| 20/20 [00:26<00:00,  1.33s/it]"
     ]
    },
    {
     "name": "stdout",
     "output_type": "stream",
     "text": [
      "0 errors found\n",
      "\u001b[KWebscraping for company: GD (82/215)"
     ]
    },
    {
     "name": "stderr",
     "output_type": "stream",
     "text": [
      "\n",
      "100%|██████████| 20/20 [00:28<00:00,  1.41s/it]"
     ]
    },
    {
     "name": "stdout",
     "output_type": "stream",
     "text": [
      "0 errors found\n",
      "\u001b[KWebscraping for company: EMR (83/215)"
     ]
    },
    {
     "name": "stderr",
     "output_type": "stream",
     "text": [
      "\n",
      "100%|██████████| 20/20 [00:11<00:00,  1.78it/s]"
     ]
    },
    {
     "name": "stdout",
     "output_type": "stream",
     "text": [
      "6 errors found\n",
      "\u001b[KWebscraping for company: CVS (84/215)"
     ]
    },
    {
     "name": "stderr",
     "output_type": "stream",
     "text": [
      "\n",
      "100%|██████████| 21/21 [00:14<00:00,  1.43it/s]"
     ]
    },
    {
     "name": "stdout",
     "output_type": "stream",
     "text": [
      "1 errors found\n",
      "\u001b[KWebscraping for company: MMM (85/215)"
     ]
    },
    {
     "name": "stderr",
     "output_type": "stream",
     "text": [
      "\n",
      "100%|██████████| 20/20 [00:44<00:00,  2.24s/it]"
     ]
    },
    {
     "name": "stdout",
     "output_type": "stream",
     "text": [
      "0 errors found\n",
      "\u001b[KWebscraping for company: AON (86/215)"
     ]
    },
    {
     "name": "stderr",
     "output_type": "stream",
     "text": [
      "\n",
      "100%|██████████| 20/20 [00:36<00:00,  1.85s/it]"
     ]
    },
    {
     "name": "stdout",
     "output_type": "stream",
     "text": [
      "0 errors found\n",
      "\u001b[KWebscraping for company: ECL (87/215)"
     ]
    },
    {
     "name": "stderr",
     "output_type": "stream",
     "text": [
      "\n",
      "100%|██████████| 20/20 [00:29<00:00,  1.48s/it]"
     ]
    },
    {
     "name": "stdout",
     "output_type": "stream",
     "text": [
      "0 errors found\n",
      "\u001b[KWebscraping for company: ITW (88/215)"
     ]
    },
    {
     "name": "stderr",
     "output_type": "stream",
     "text": [
      "\n",
      "100%|██████████| 20/20 [00:21<00:00,  1.08s/it]"
     ]
    },
    {
     "name": "stdout",
     "output_type": "stream",
     "text": [
      "0 errors found\n",
      "\u001b[KWebscraping for company: WMB (89/215)"
     ]
    },
    {
     "name": "stderr",
     "output_type": "stream",
     "text": [
      "\n",
      "100%|██████████| 20/20 [00:44<00:00,  2.22s/it]\n"
     ]
    },
    {
     "name": "stdout",
     "output_type": "stream",
     "text": [
      "0 errors found\n",
      "\u001b[KWebscraping for company: PNC (90/215)"
     ]
    },
    {
     "name": "stderr",
     "output_type": "stream",
     "text": [
      "100%|██████████| 20/20 [01:17<00:00,  3.86s/it]\n"
     ]
    },
    {
     "name": "stdout",
     "output_type": "stream",
     "text": [
      "0 errors found\n",
      "\u001b[KWebscraping for company: MSI (91/215)"
     ]
    },
    {
     "name": "stderr",
     "output_type": "stream",
     "text": [
      "100%|██████████| 20/20 [00:29<00:00,  1.48s/it]\n"
     ]
    },
    {
     "name": "stdout",
     "output_type": "stream",
     "text": [
      "3 errors found\n",
      "\u001b[KWebscraping for company: UPS (92/215)"
     ]
    },
    {
     "name": "stderr",
     "output_type": "stream",
     "text": [
      "100%|██████████| 20/20 [00:34<00:00,  1.72s/it]"
     ]
    },
    {
     "name": "stdout",
     "output_type": "stream",
     "text": [
      "0 errors found\n",
      "\u001b[KWebscraping for company: BK (93/215)"
     ]
    },
    {
     "name": "stderr",
     "output_type": "stream",
     "text": [
      "\n",
      "100%|██████████| 18/18 [00:07<00:00,  2.35it/s]"
     ]
    },
    {
     "name": "stdout",
     "output_type": "stream",
     "text": [
      "0 errors found\n",
      "\u001b[KWebscraping for company: MAR (94/215)"
     ]
    },
    {
     "name": "stderr",
     "output_type": "stream",
     "text": [
      "\n",
      "100%|██████████| 20/20 [00:26<00:00,  1.33s/it]"
     ]
    },
    {
     "name": "stdout",
     "output_type": "stream",
     "text": [
      "0 errors found\n",
      "\u001b[KWebscraping for company: JCI (95/215)"
     ]
    },
    {
     "name": "stderr",
     "output_type": "stream",
     "text": [
      "\n",
      "100%|██████████| 20/20 [00:37<00:00,  1.88s/it]"
     ]
    },
    {
     "name": "stdout",
     "output_type": "stream",
     "text": [
      "0 errors found\n",
      "\u001b[KWebscraping for company: CI (96/215)"
     ]
    },
    {
     "name": "stderr",
     "output_type": "stream",
     "text": [
      "\n",
      "100%|██████████| 7/7 [00:14<00:00,  2.05s/it]\n"
     ]
    },
    {
     "name": "stdout",
     "output_type": "stream",
     "text": [
      "0 errors found\n",
      "\u001b[KWebscraping for company: NEM (97/215)"
     ]
    },
    {
     "name": "stderr",
     "output_type": "stream",
     "text": [
      "100%|██████████| 20/20 [01:05<00:00,  3.28s/it]\n"
     ]
    },
    {
     "name": "stdout",
     "output_type": "stream",
     "text": [
      "16 errors found\n",
      "\u001b[KWebscraping for company: USB (98/215)"
     ]
    },
    {
     "name": "stderr",
     "output_type": "stream",
     "text": [
      "100%|██████████| 20/20 [00:13<00:00,  1.53it/s]\n"
     ]
    },
    {
     "name": "stdout",
     "output_type": "stream",
     "text": [
      "2 errors found\n",
      "\u001b[KWebscraping for company: CL (99/215)"
     ]
    },
    {
     "name": "stderr",
     "output_type": "stream",
     "text": [
      "100%|██████████| 20/20 [00:29<00:00,  1.48s/it]"
     ]
    },
    {
     "name": "stdout",
     "output_type": "stream",
     "text": [
      "5 errors found\n",
      "\u001b[KWebscraping for company: CSX (100/215)"
     ]
    },
    {
     "name": "stderr",
     "output_type": "stream",
     "text": [
      "\n",
      "100%|██████████| 20/20 [00:29<00:00,  1.46s/it]"
     ]
    },
    {
     "name": "stdout",
     "output_type": "stream",
     "text": [
      "0 errors found\n",
      "\u001b[KWebscraping for company: AZO (101/215)"
     ]
    },
    {
     "name": "stderr",
     "output_type": "stream",
     "text": [
      "\n",
      "100%|██████████| 20/20 [00:16<00:00,  1.22it/s]"
     ]
    },
    {
     "name": "stdout",
     "output_type": "stream",
     "text": [
      "1 errors found\n",
      "\u001b[KWebscraping for company: EOG (102/215)"
     ]
    },
    {
     "name": "stderr",
     "output_type": "stream",
     "text": [
      "\n",
      "100%|██████████| 20/20 [00:29<00:00,  1.46s/it]"
     ]
    },
    {
     "name": "stdout",
     "output_type": "stream",
     "text": [
      "5 errors found\n",
      "\u001b[KWebscraping for company: ADSK (103/215)"
     ]
    },
    {
     "name": "stderr",
     "output_type": "stream",
     "text": [
      "\n",
      "100%|██████████| 21/21 [00:26<00:00,  1.28s/it]"
     ]
    },
    {
     "name": "stdout",
     "output_type": "stream",
     "text": [
      "1 errors found\n",
      "\u001b[KWebscraping for company: APD (104/215)"
     ]
    },
    {
     "name": "stderr",
     "output_type": "stream",
     "text": [
      "\n",
      "100%|██████████| 20/20 [00:26<00:00,  1.32s/it]"
     ]
    },
    {
     "name": "stdout",
     "output_type": "stream",
     "text": [
      "1 errors found\n",
      "\u001b[KWebscraping for company: NSC (105/215)"
     ]
    },
    {
     "name": "stderr",
     "output_type": "stream",
     "text": [
      "\n",
      "100%|██████████| 20/20 [00:19<00:00,  1.01it/s]"
     ]
    },
    {
     "name": "stdout",
     "output_type": "stream",
     "text": [
      "0 errors found\n",
      "\u001b[KWebscraping for company: AEP (106/215)"
     ]
    },
    {
     "name": "stderr",
     "output_type": "stream",
     "text": [
      "\n",
      "100%|██████████| 20/20 [00:44<00:00,  2.22s/it]"
     ]
    },
    {
     "name": "stdout",
     "output_type": "stream",
     "text": [
      "5 errors found\n",
      "\u001b[KWebscraping for company: SPG (107/215)"
     ]
    },
    {
     "name": "stderr",
     "output_type": "stream",
     "text": [
      "\n",
      "100%|██████████| 20/20 [00:48<00:00,  2.43s/it]"
     ]
    },
    {
     "name": "stdout",
     "output_type": "stream",
     "text": [
      "0 errors found\n",
      "\u001b[KWebscraping for company: TRV (108/215)"
     ]
    },
    {
     "name": "stderr",
     "output_type": "stream",
     "text": [
      "\n",
      "100%|██████████| 20/20 [01:11<00:00,  3.59s/it]\n"
     ]
    },
    {
     "name": "stdout",
     "output_type": "stream",
     "text": [
      "0 errors found\n",
      "\u001b[KWebscraping for company: FCX (109/215)"
     ]
    },
    {
     "name": "stderr",
     "output_type": "stream",
     "text": [
      "100%|██████████| 20/20 [01:44<00:00,  5.25s/it]"
     ]
    },
    {
     "name": "stdout",
     "output_type": "stream",
     "text": [
      "0 errors found\n",
      "\u001b[KWebscraping for company: SRE (110/215)"
     ]
    },
    {
     "name": "stderr",
     "output_type": "stream",
     "text": [
      "\n",
      "100%|██████████| 20/20 [00:43<00:00,  2.15s/it]"
     ]
    },
    {
     "name": "stdout",
     "output_type": "stream",
     "text": [
      "11 errors found\n",
      "\u001b[KWebscraping for company: GLW (111/215)"
     ]
    },
    {
     "name": "stderr",
     "output_type": "stream",
     "text": [
      "\n",
      "100%|██████████| 20/20 [00:39<00:00,  1.98s/it]\n"
     ]
    },
    {
     "name": "stdout",
     "output_type": "stream",
     "text": [
      "2 errors found\n",
      "\u001b[KWebscraping for company: AFL (112/215)"
     ]
    },
    {
     "name": "stderr",
     "output_type": "stream",
     "text": [
      "100%|██████████| 20/20 [01:27<00:00,  4.37s/it]\n"
     ]
    },
    {
     "name": "stdout",
     "output_type": "stream",
     "text": [
      "0 errors found\n",
      "\u001b[KWebscraping for company: ALL (113/215)"
     ]
    },
    {
     "name": "stderr",
     "output_type": "stream",
     "text": [
      "100%|██████████| 20/20 [01:40<00:00,  5.01s/it]\n"
     ]
    },
    {
     "name": "stdout",
     "output_type": "stream",
     "text": [
      "0 errors found\n",
      "\u001b[KWebscraping for company: D (114/215)"
     ]
    },
    {
     "name": "stderr",
     "output_type": "stream",
     "text": [
      "100%|██████████| 20/20 [01:13<00:00,  3.67s/it]\n"
     ]
    },
    {
     "name": "stdout",
     "output_type": "stream",
     "text": [
      "1 errors found\n",
      "\u001b[KWebscraping for company: FDX (115/215)"
     ]
    },
    {
     "name": "stderr",
     "output_type": "stream",
     "text": [
      "100%|██████████| 21/21 [00:42<00:00,  2.04s/it]\n"
     ]
    },
    {
     "name": "stdout",
     "output_type": "stream",
     "text": [
      "1 errors found\n",
      "\u001b[KWebscraping for company: PCAR (116/215)"
     ]
    },
    {
     "name": "stderr",
     "output_type": "stream",
     "text": [
      "100%|██████████| 20/20 [00:26<00:00,  1.34s/it]"
     ]
    },
    {
     "name": "stdout",
     "output_type": "stream",
     "text": [
      "1 errors found\n",
      "\u001b[KWebscraping for company: BDX (117/215)"
     ]
    },
    {
     "name": "stderr",
     "output_type": "stream",
     "text": [
      "\n",
      "100%|██████████| 20/20 [00:19<00:00,  1.04it/s]"
     ]
    },
    {
     "name": "stdout",
     "output_type": "stream",
     "text": [
      "1 errors found\n",
      "\u001b[KWebscraping for company: PAYX (118/215)"
     ]
    },
    {
     "name": "stderr",
     "output_type": "stream",
     "text": [
      "\n",
      "100%|██████████| 21/21 [00:21<00:00,  1.05s/it]"
     ]
    },
    {
     "name": "stdout",
     "output_type": "stream",
     "text": [
      "1 errors found\n",
      "\u001b[KWebscraping for company: MET (119/215)"
     ]
    },
    {
     "name": "stderr",
     "output_type": "stream",
     "text": [
      "\n",
      "100%|██████████| 20/20 [03:19<00:00,  9.97s/it]\n"
     ]
    },
    {
     "name": "stdout",
     "output_type": "stream",
     "text": [
      "1 errors found\n",
      "\u001b[KWebscraping for company: SLB (120/215)"
     ]
    },
    {
     "name": "stderr",
     "output_type": "stream",
     "text": [
      "100%|██████████| 20/20 [00:32<00:00,  1.64s/it]\n"
     ]
    },
    {
     "name": "stdout",
     "output_type": "stream",
     "text": [
      "0 errors found\n",
      "\u001b[KWebscraping for company: CMI (121/215)"
     ]
    },
    {
     "name": "stderr",
     "output_type": "stream",
     "text": [
      "100%|██████████| 20/20 [00:43<00:00,  2.16s/it]\n"
     ]
    },
    {
     "name": "stdout",
     "output_type": "stream",
     "text": [
      "0 errors found\n",
      "\u001b[KWebscraping for company: KR (122/215)"
     ]
    },
    {
     "name": "stderr",
     "output_type": "stream",
     "text": [
      "100%|██████████| 21/21 [00:31<00:00,  1.49s/it]\n"
     ]
    },
    {
     "name": "stdout",
     "output_type": "stream",
     "text": [
      "1 errors found\n",
      "\u001b[KWebscraping for company: TGT (123/215)"
     ]
    },
    {
     "name": "stderr",
     "output_type": "stream",
     "text": [
      "100%|██████████| 21/21 [00:22<00:00,  1.08s/it]"
     ]
    },
    {
     "name": "stdout",
     "output_type": "stream",
     "text": [
      "1 errors found\n",
      "\u001b[KWebscraping for company: EXC (124/215)"
     ]
    },
    {
     "name": "stderr",
     "output_type": "stream",
     "text": [
      "\n",
      "100%|██████████| 20/20 [04:26<00:00, 13.34s/it]\n"
     ]
    },
    {
     "name": "stdout",
     "output_type": "stream",
     "text": [
      "0 errors found\n",
      "\u001b[KWebscraping for company: PEG (125/215)"
     ]
    },
    {
     "name": "stderr",
     "output_type": "stream",
     "text": [
      "100%|██████████| 20/20 [01:31<00:00,  4.57s/it]\n"
     ]
    },
    {
     "name": "stdout",
     "output_type": "stream",
     "text": [
      "4 errors found\n",
      "\u001b[KWebscraping for company: AIG (126/215)"
     ]
    },
    {
     "name": "stderr",
     "output_type": "stream",
     "text": [
      "100%|██████████| 20/20 [02:28<00:00,  7.44s/it]\n"
     ]
    },
    {
     "name": "stdout",
     "output_type": "stream",
     "text": [
      "0 errors found\n",
      "\u001b[KWebscraping for company: GWW (127/215)"
     ]
    },
    {
     "name": "stderr",
     "output_type": "stream",
     "text": [
      "100%|██████████| 20/20 [00:19<00:00,  1.02it/s]"
     ]
    },
    {
     "name": "stdout",
     "output_type": "stream",
     "text": [
      "5 errors found\n",
      "\u001b[KWebscraping for company: KMB (128/215)"
     ]
    },
    {
     "name": "stderr",
     "output_type": "stream",
     "text": [
      "\n",
      "100%|██████████| 20/20 [00:25<00:00,  1.26s/it]"
     ]
    },
    {
     "name": "stdout",
     "output_type": "stream",
     "text": [
      "0 errors found\n",
      "\u001b[KWebscraping for company: F (129/215)"
     ]
    },
    {
     "name": "stderr",
     "output_type": "stream",
     "text": [
      "\n",
      "100%|██████████| 20/20 [01:06<00:00,  3.34s/it]"
     ]
    },
    {
     "name": "stdout",
     "output_type": "stream",
     "text": [
      "5 errors found\n",
      "\u001b[KWebscraping for company: OXY (130/215)"
     ]
    },
    {
     "name": "stderr",
     "output_type": "stream",
     "text": [
      "\n",
      "100%|██████████| 20/20 [00:44<00:00,  2.25s/it]\n"
     ]
    },
    {
     "name": "stdout",
     "output_type": "stream",
     "text": [
      "1 errors found\n",
      "\u001b[KWebscraping for company: EBAY (131/215)"
     ]
    },
    {
     "name": "stderr",
     "output_type": "stream",
     "text": [
      "100%|██████████| 20/20 [00:30<00:00,  1.53s/it]\n"
     ]
    },
    {
     "name": "stdout",
     "output_type": "stream",
     "text": [
      "5 errors found\n",
      "\u001b[KWebscraping for company: XEL (132/215)"
     ]
    },
    {
     "name": "stderr",
     "output_type": "stream",
     "text": [
      "100%|██████████| 20/20 [00:55<00:00,  2.80s/it]\n"
     ]
    },
    {
     "name": "stdout",
     "output_type": "stream",
     "text": [
      "0 errors found\n",
      "\u001b[KWebscraping for company: VLO (133/215)"
     ]
    },
    {
     "name": "stderr",
     "output_type": "stream",
     "text": [
      "100%|██████████| 20/20 [00:44<00:00,  2.23s/it]\n"
     ]
    },
    {
     "name": "stdout",
     "output_type": "stream",
     "text": [
      "0 errors found\n",
      "\u001b[KWebscraping for company: YUM (134/215)"
     ]
    },
    {
     "name": "stderr",
     "output_type": "stream",
     "text": [
      "100%|██████████| 20/20 [00:32<00:00,  1.62s/it]\n"
     ]
    },
    {
     "name": "stdout",
     "output_type": "stream",
     "text": [
      "5 errors found\n",
      "\u001b[KWebscraping for company: ETR (135/215)"
     ]
    },
    {
     "name": "stderr",
     "output_type": "stream",
     "text": [
      "100%|██████████| 20/20 [04:44<00:00, 14.25s/it]\n"
     ]
    },
    {
     "name": "stdout",
     "output_type": "stream",
     "text": [
      "11 errors found\n",
      "\u001b[KWebscraping for company: EA (136/215)"
     ]
    },
    {
     "name": "stderr",
     "output_type": "stream",
     "text": [
      "100%|██████████| 21/21 [00:27<00:00,  1.32s/it]\n"
     ]
    },
    {
     "name": "stdout",
     "output_type": "stream",
     "text": [
      "1 errors found\n",
      "\u001b[KWebscraping for company: CCL (137/215)"
     ]
    },
    {
     "name": "stderr",
     "output_type": "stream",
     "text": [
      "100%|██████████| 20/20 [00:15<00:00,  1.30it/s]"
     ]
    },
    {
     "name": "stdout",
     "output_type": "stream",
     "text": [
      "2 errors found\n",
      "\u001b[KWebscraping for company: ROK (138/215)"
     ]
    },
    {
     "name": "stderr",
     "output_type": "stream",
     "text": [
      "\n",
      "100%|██████████| 20/20 [00:24<00:00,  1.21s/it]"
     ]
    },
    {
     "name": "stdout",
     "output_type": "stream",
     "text": [
      "1 errors found\n",
      "\u001b[KWebscraping for company: HSY (139/215)"
     ]
    },
    {
     "name": "stderr",
     "output_type": "stream",
     "text": [
      "\n",
      "100%|██████████| 20/20 [00:23<00:00,  1.20s/it]"
     ]
    },
    {
     "name": "stdout",
     "output_type": "stream",
     "text": [
      "1 errors found\n",
      "\u001b[KWebscraping for company: SYY (140/215)"
     ]
    },
    {
     "name": "stderr",
     "output_type": "stream",
     "text": [
      "\n",
      "100%|██████████| 20/20 [00:30<00:00,  1.51s/it]"
     ]
    },
    {
     "name": "stdout",
     "output_type": "stream",
     "text": [
      "1 errors found\n",
      "\u001b[KWebscraping for company: ED (141/215)"
     ]
    },
    {
     "name": "stderr",
     "output_type": "stream",
     "text": [
      "\n",
      "100%|██████████| 20/20 [00:48<00:00,  2.43s/it]"
     ]
    },
    {
     "name": "stdout",
     "output_type": "stream",
     "text": [
      "1 errors found\n",
      "\u001b[KWebscraping for company: CAH (142/215)"
     ]
    },
    {
     "name": "stderr",
     "output_type": "stream",
     "text": [
      "\n",
      "100%|██████████| 20/20 [00:24<00:00,  1.25s/it]"
     ]
    },
    {
     "name": "stdout",
     "output_type": "stream",
     "text": [
      "11 errors found\n",
      "\u001b[KWebscraping for company: VMC (143/215)"
     ]
    },
    {
     "name": "stderr",
     "output_type": "stream",
     "text": [
      "\n",
      "100%|██████████| 18/18 [00:29<00:00,  1.62s/it]"
     ]
    },
    {
     "name": "stdout",
     "output_type": "stream",
     "text": [
      "0 errors found\n",
      "\u001b[KWebscraping for company: PRU (144/215)"
     ]
    },
    {
     "name": "stderr",
     "output_type": "stream",
     "text": [
      "\n",
      "100%|██████████| 20/20 [02:40<00:00,  8.02s/it]\n"
     ]
    },
    {
     "name": "stdout",
     "output_type": "stream",
     "text": [
      "0 errors found\n",
      "\u001b[KWebscraping for company: HIG (145/215)"
     ]
    },
    {
     "name": "stderr",
     "output_type": "stream",
     "text": [
      "100%|██████████| 20/20 [01:30<00:00,  4.50s/it]\n"
     ]
    },
    {
     "name": "stdout",
     "output_type": "stream",
     "text": [
      "9 errors found\n",
      "\u001b[KWebscraping for company: A (146/215)"
     ]
    },
    {
     "name": "stderr",
     "output_type": "stream",
     "text": [
      "100%|██████████| 20/20 [00:34<00:00,  1.74s/it]"
     ]
    },
    {
     "name": "stdout",
     "output_type": "stream",
     "text": [
      "0 errors found\n",
      "\u001b[KWebscraping for company: NUE (147/215)"
     ]
    },
    {
     "name": "stderr",
     "output_type": "stream",
     "text": [
      "\n",
      "100%|██████████| 20/20 [00:12<00:00,  1.60it/s]"
     ]
    },
    {
     "name": "stdout",
     "output_type": "stream",
     "text": [
      "0 errors found\n",
      "\u001b[KWebscraping for company: STT (148/215)"
     ]
    },
    {
     "name": "stderr",
     "output_type": "stream",
     "text": [
      "\n",
      "100%|██████████| 20/20 [01:19<00:00,  3.99s/it]\n"
     ]
    },
    {
     "name": "stdout",
     "output_type": "stream",
     "text": [
      "5 errors found\n",
      "\u001b[KWebscraping for company: MTB (149/215)"
     ]
    },
    {
     "name": "stderr",
     "output_type": "stream",
     "text": [
      "100%|██████████| 20/20 [01:09<00:00,  3.48s/it]\n"
     ]
    },
    {
     "name": "stdout",
     "output_type": "stream",
     "text": [
      "0 errors found\n",
      "\u001b[KWebscraping for company: HUM (150/215)"
     ]
    },
    {
     "name": "stderr",
     "output_type": "stream",
     "text": [
      "100%|██████████| 20/20 [00:33<00:00,  1.69s/it]"
     ]
    },
    {
     "name": "stdout",
     "output_type": "stream",
     "text": [
      "3 errors found\n",
      "\u001b[KWebscraping for company: EFX (151/215)"
     ]
    },
    {
     "name": "stderr",
     "output_type": "stream",
     "text": [
      "\n",
      "100%|██████████| 20/20 [00:26<00:00,  1.31s/it]"
     ]
    },
    {
     "name": "stdout",
     "output_type": "stream",
     "text": [
      "0 errors found\n",
      "\u001b[KWebscraping for company: DTE (152/215)"
     ]
    },
    {
     "name": "stderr",
     "output_type": "stream",
     "text": [
      "\n",
      "100%|██████████| 20/20 [01:09<00:00,  3.46s/it]\n"
     ]
    },
    {
     "name": "stdout",
     "output_type": "stream",
     "text": [
      "1 errors found\n",
      "\u001b[KWebscraping for company: K (153/215)"
     ]
    },
    {
     "name": "stderr",
     "output_type": "stream",
     "text": [
      "100%|██████████| 21/21 [00:30<00:00,  1.45s/it]"
     ]
    },
    {
     "name": "stdout",
     "output_type": "stream",
     "text": [
      "6 errors found\n",
      "\u001b[KWebscraping for company: AEE (154/215)"
     ]
    },
    {
     "name": "stderr",
     "output_type": "stream",
     "text": [
      "\n",
      "100%|██████████| 20/20 [01:19<00:00,  3.97s/it]\n"
     ]
    },
    {
     "name": "stdout",
     "output_type": "stream",
     "text": [
      "0 errors found\n",
      "\u001b[KWebscraping for company: GIS (155/215)"
     ]
    },
    {
     "name": "stderr",
     "output_type": "stream",
     "text": [
      "100%|██████████| 21/21 [00:31<00:00,  1.48s/it]"
     ]
    },
    {
     "name": "stdout",
     "output_type": "stream",
     "text": [
      "1 errors found\n",
      "\u001b[KWebscraping for company: PPL (156/215)"
     ]
    },
    {
     "name": "stderr",
     "output_type": "stream",
     "text": [
      "\n",
      "100%|██████████| 20/20 [02:25<00:00,  7.26s/it]\n"
     ]
    },
    {
     "name": "stdout",
     "output_type": "stream",
     "text": [
      "0 errors found\n",
      "\u001b[KWebscraping for company: ADM (157/215)"
     ]
    },
    {
     "name": "stderr",
     "output_type": "stream",
     "text": [
      "100%|██████████| 20/20 [00:30<00:00,  1.50s/it]"
     ]
    },
    {
     "name": "stdout",
     "output_type": "stream",
     "text": [
      "1 errors found\n",
      "\u001b[KWebscraping for company: CNP (158/215)"
     ]
    },
    {
     "name": "stderr",
     "output_type": "stream",
     "text": [
      "\n",
      "100%|██████████| 20/20 [00:40<00:00,  2.04s/it]"
     ]
    },
    {
     "name": "stdout",
     "output_type": "stream",
     "text": [
      "6 errors found\n",
      "\u001b[KWebscraping for company: FE (159/215)"
     ]
    },
    {
     "name": "stderr",
     "output_type": "stream",
     "text": [
      "\n",
      "100%|██████████| 20/20 [01:44<00:00,  5.20s/it]"
     ]
    },
    {
     "name": "stdout",
     "output_type": "stream",
     "text": [
      "5 errors found\n",
      "\u001b[KWebscraping for company: EQR (160/215)"
     ]
    },
    {
     "name": "stderr",
     "output_type": "stream",
     "text": [
      "\n",
      "100%|██████████| 20/20 [01:39<00:00,  4.99s/it]\n"
     ]
    },
    {
     "name": "stdout",
     "output_type": "stream",
     "text": [
      "0 errors found\n",
      "\u001b[KWebscraping for company: IP (161/215)"
     ]
    },
    {
     "name": "stderr",
     "output_type": "stream",
     "text": [
      "100%|██████████| 20/20 [00:30<00:00,  1.51s/it]"
     ]
    },
    {
     "name": "stdout",
     "output_type": "stream",
     "text": [
      "0 errors found\n",
      "\u001b[KWebscraping for company: NTRS (162/215)"
     ]
    },
    {
     "name": "stderr",
     "output_type": "stream",
     "text": [
      "\n",
      "100%|██████████| 20/20 [00:44<00:00,  2.24s/it]"
     ]
    },
    {
     "name": "stdout",
     "output_type": "stream",
     "text": [
      "0 errors found\n",
      "\u001b[KWebscraping for company: DOV (163/215)"
     ]
    },
    {
     "name": "stderr",
     "output_type": "stream",
     "text": [
      "\n",
      "100%|██████████| 20/20 [00:26<00:00,  1.34s/it]"
     ]
    },
    {
     "name": "stdout",
     "output_type": "stream",
     "text": [
      "0 errors found\n",
      "\u001b[KWebscraping for company: FOXA (164/215)"
     ]
    },
    {
     "name": "stderr",
     "output_type": "stream",
     "text": [
      "\n",
      "100%|██████████| 6/6 [00:06<00:00,  1.10s/it]"
     ]
    },
    {
     "name": "stdout",
     "output_type": "stream",
     "text": [
      "0 errors found\n",
      "\u001b[KWebscraping for company: DRI (165/215)"
     ]
    },
    {
     "name": "stderr",
     "output_type": "stream",
     "text": [
      "\n",
      "100%|██████████| 21/21 [00:12<00:00,  1.67it/s]"
     ]
    },
    {
     "name": "stdout",
     "output_type": "stream",
     "text": [
      "1 errors found\n",
      "\u001b[KWebscraping for company: PPG (166/215)"
     ]
    },
    {
     "name": "stderr",
     "output_type": "stream",
     "text": [
      "\n",
      "100%|██████████| 20/20 [00:23<00:00,  1.17s/it]"
     ]
    },
    {
     "name": "stdout",
     "output_type": "stream",
     "text": [
      "0 errors found\n",
      "\u001b[KWebscraping for company: HBAN (167/215)"
     ]
    },
    {
     "name": "stderr",
     "output_type": "stream",
     "text": [
      "\n",
      "100%|██████████| 20/20 [01:13<00:00,  3.69s/it]"
     ]
    },
    {
     "name": "stdout",
     "output_type": "stream",
     "text": [
      "0 errors found\n",
      "\u001b[KWebscraping for company: PHM (168/215)"
     ]
    },
    {
     "name": "stderr",
     "output_type": "stream",
     "text": [
      "\n",
      "100%|██████████| 20/20 [00:26<00:00,  1.30s/it]"
     ]
    },
    {
     "name": "stdout",
     "output_type": "stream",
     "text": [
      "0 errors found\n",
      "\u001b[KWebscraping for company: HPQ (169/215)"
     ]
    },
    {
     "name": "stderr",
     "output_type": "stream",
     "text": [
      "\n",
      "100%|██████████| 20/20 [00:36<00:00,  1.82s/it]"
     ]
    },
    {
     "name": "stdout",
     "output_type": "stream",
     "text": [
      "0 errors found\n",
      "\u001b[KWebscraping for company: CINF (170/215)"
     ]
    },
    {
     "name": "stderr",
     "output_type": "stream",
     "text": [
      "\n",
      "100%|██████████| 20/20 [01:04<00:00,  3.21s/it]\n"
     ]
    },
    {
     "name": "stdout",
     "output_type": "stream",
     "text": [
      "5 errors found\n",
      "\u001b[KWebscraping for company: TROW (171/215)"
     ]
    },
    {
     "name": "stderr",
     "output_type": "stream",
     "text": [
      "100%|██████████| 20/20 [00:18<00:00,  1.11it/s]"
     ]
    },
    {
     "name": "stdout",
     "output_type": "stream",
     "text": [
      "0 errors found\n",
      "\u001b[KWebscraping for company: RF (172/215)"
     ]
    },
    {
     "name": "stderr",
     "output_type": "stream",
     "text": [
      "\n",
      "100%|██████████| 20/20 [01:06<00:00,  3.31s/it]\n"
     ]
    },
    {
     "name": "stdout",
     "output_type": "stream",
     "text": [
      "5 errors found\n",
      "\u001b[KWebscraping for company: CMS (173/215)"
     ]
    },
    {
     "name": "stderr",
     "output_type": "stream",
     "text": [
      "100%|██████████| 20/20 [00:49<00:00,  2.48s/it]\n"
     ]
    },
    {
     "name": "stdout",
     "output_type": "stream",
     "text": [
      "3 errors found\n",
      "\u001b[KWebscraping for company: TPR (174/215)"
     ]
    },
    {
     "name": "stderr",
     "output_type": "stream",
     "text": [
      "100%|██████████| 20/20 [00:21<00:00,  1.07s/it]"
     ]
    },
    {
     "name": "stdout",
     "output_type": "stream",
     "text": [
      "1 errors found\n",
      "\u001b[KWebscraping for company: LH (175/215)"
     ]
    },
    {
     "name": "stderr",
     "output_type": "stream",
     "text": [
      "\n",
      "100%|██████████| 21/21 [00:22<00:00,  1.08s/it]"
     ]
    },
    {
     "name": "stdout",
     "output_type": "stream",
     "text": [
      "4 errors found\n",
      "\u001b[KWebscraping for company: DVN (176/215)"
     ]
    },
    {
     "name": "stderr",
     "output_type": "stream",
     "text": [
      "\n",
      "100%|██████████| 20/20 [00:43<00:00,  2.19s/it]\n"
     ]
    },
    {
     "name": "stdout",
     "output_type": "stream",
     "text": [
      "0 errors found\n",
      "\u001b[KWebscraping for company: EIX (177/215)"
     ]
    },
    {
     "name": "stderr",
     "output_type": "stream",
     "text": [
      "100%|██████████| 20/20 [00:42<00:00,  2.13s/it]"
     ]
    },
    {
     "name": "stdout",
     "output_type": "stream",
     "text": [
      "1 errors found\n",
      "\u001b[KWebscraping for company: NTAP (178/215)"
     ]
    },
    {
     "name": "stderr",
     "output_type": "stream",
     "text": [
      "\n",
      "100%|██████████| 21/21 [00:30<00:00,  1.45s/it]\n"
     ]
    },
    {
     "name": "stdout",
     "output_type": "stream",
     "text": [
      "1 errors found\n",
      "\u001b[KWebscraping for company: NI (179/215)"
     ]
    },
    {
     "name": "stderr",
     "output_type": "stream",
     "text": [
      "100%|██████████| 20/20 [00:31<00:00,  1.56s/it]"
     ]
    },
    {
     "name": "stdout",
     "output_type": "stream",
     "text": [
      "2 errors found\n",
      "\u001b[KWebscraping for company: KEY (180/215)"
     ]
    },
    {
     "name": "stderr",
     "output_type": "stream",
     "text": [
      "\n",
      "100%|██████████| 20/20 [01:08<00:00,  3.43s/it]\n"
     ]
    },
    {
     "name": "stdout",
     "output_type": "stream",
     "text": [
      "0 errors found\n",
      "\u001b[KWebscraping for company: DGX (181/215)"
     ]
    },
    {
     "name": "stderr",
     "output_type": "stream",
     "text": [
      "100%|██████████| 20/20 [00:32<00:00,  1.63s/it]\n"
     ]
    },
    {
     "name": "stdout",
     "output_type": "stream",
     "text": [
      "0 errors found\n",
      "\u001b[KWebscraping for company: BIIB (182/215)"
     ]
    },
    {
     "name": "stderr",
     "output_type": "stream",
     "text": [
      "100%|██████████| 20/20 [00:34<00:00,  1.73s/it]\n"
     ]
    },
    {
     "name": "stdout",
     "output_type": "stream",
     "text": [
      "0 errors found\n",
      "\u001b[KWebscraping for company: MKC (183/215)"
     ]
    },
    {
     "name": "stderr",
     "output_type": "stream",
     "text": [
      "100%|██████████| 20/20 [00:14<00:00,  1.35it/s]"
     ]
    },
    {
     "name": "stdout",
     "output_type": "stream",
     "text": [
      "5 errors found\n",
      "\u001b[KWebscraping for company: L (184/215)"
     ]
    },
    {
     "name": "stderr",
     "output_type": "stream",
     "text": [
      "\n",
      "100%|██████████| 20/20 [01:04<00:00,  3.25s/it]\n"
     ]
    },
    {
     "name": "stdout",
     "output_type": "stream",
     "text": [
      "0 errors found\n",
      "\u001b[KWebscraping for company: HAL (185/215)"
     ]
    },
    {
     "name": "stderr",
     "output_type": "stream",
     "text": [
      "100%|██████████| 20/20 [00:20<00:00,  1.00s/it]"
     ]
    },
    {
     "name": "stdout",
     "output_type": "stream",
     "text": [
      "0 errors found\n",
      "\u001b[KWebscraping for company: WY (186/215)"
     ]
    },
    {
     "name": "stderr",
     "output_type": "stream",
     "text": [
      "\n",
      "100%|██████████| 20/20 [00:38<00:00,  1.93s/it]"
     ]
    },
    {
     "name": "stdout",
     "output_type": "stream",
     "text": [
      "0 errors found\n",
      "\u001b[KWebscraping for company: IFF (187/215)"
     ]
    },
    {
     "name": "stderr",
     "output_type": "stream",
     "text": [
      "\n",
      "100%|██████████| 20/20 [00:26<00:00,  1.31s/it]"
     ]
    },
    {
     "name": "stdout",
     "output_type": "stream",
     "text": [
      "0 errors found\n",
      "\u001b[KWebscraping for company: ZBH (188/215)"
     ]
    },
    {
     "name": "stderr",
     "output_type": "stream",
     "text": [
      "\n",
      "100%|██████████| 20/20 [00:28<00:00,  1.44s/it]"
     ]
    },
    {
     "name": "stdout",
     "output_type": "stream",
     "text": [
      "0 errors found\n",
      "\u001b[KWebscraping for company: GPC (189/215)"
     ]
    },
    {
     "name": "stderr",
     "output_type": "stream",
     "text": [
      "\n",
      "100%|██████████| 20/20 [00:14<00:00,  1.35it/s]"
     ]
    },
    {
     "name": "stdout",
     "output_type": "stream",
     "text": [
      "0 errors found\n",
      "\u001b[KWebscraping for company: WAT (190/215)"
     ]
    },
    {
     "name": "stderr",
     "output_type": "stream",
     "text": [
      "\n",
      "100%|██████████| 20/20 [00:24<00:00,  1.21s/it]"
     ]
    },
    {
     "name": "stdout",
     "output_type": "stream",
     "text": [
      "0 errors found\n",
      "\u001b[KWebscraping for company: PFG (191/215)"
     ]
    },
    {
     "name": "stderr",
     "output_type": "stream",
     "text": [
      "\n",
      "100%|██████████| 20/20 [01:46<00:00,  5.33s/it]"
     ]
    },
    {
     "name": "stdout",
     "output_type": "stream",
     "text": [
      "0 errors found\n",
      "\u001b[KWebscraping for company: SNA (192/215)"
     ]
    },
    {
     "name": "stderr",
     "output_type": "stream",
     "text": [
      "\n",
      "100%|██████████| 21/21 [00:32<00:00,  1.55s/it]\n"
     ]
    },
    {
     "name": "stdout",
     "output_type": "stream",
     "text": [
      "2 errors found\n",
      "\u001b[KWebscraping for company: LUV (193/215)"
     ]
    },
    {
     "name": "stderr",
     "output_type": "stream",
     "text": [
      "100%|██████████| 20/20 [00:23<00:00,  1.15s/it]"
     ]
    },
    {
     "name": "stdout",
     "output_type": "stream",
     "text": [
      "0 errors found\n",
      "\u001b[KWebscraping for company: CLX (194/215)"
     ]
    },
    {
     "name": "stderr",
     "output_type": "stream",
     "text": [
      "\n",
      "100%|██████████| 20/20 [00:06<00:00,  2.97it/s]"
     ]
    },
    {
     "name": "stdout",
     "output_type": "stream",
     "text": [
      "1 errors found\n",
      "\u001b[KWebscraping for company: MAS (195/215)"
     ]
    },
    {
     "name": "stderr",
     "output_type": "stream",
     "text": [
      "\n",
      "100%|██████████| 20/20 [00:22<00:00,  1.13s/it]"
     ]
    },
    {
     "name": "stdout",
     "output_type": "stream",
     "text": [
      "1 errors found\n",
      "\u001b[KWebscraping for company: OMC (196/215)"
     ]
    },
    {
     "name": "stderr",
     "output_type": "stream",
     "text": [
      "\n",
      "100%|██████████| 20/20 [00:16<00:00,  1.22it/s]"
     ]
    },
    {
     "name": "stdout",
     "output_type": "stream",
     "text": [
      "2 errors found\n",
      "\u001b[KWebscraping for company: TXT (197/215)"
     ]
    },
    {
     "name": "stderr",
     "output_type": "stream",
     "text": [
      "\n",
      "100%|██████████| 21/21 [00:39<00:00,  1.87s/it]\n"
     ]
    },
    {
     "name": "stdout",
     "output_type": "stream",
     "text": [
      "4 errors found\n",
      "\u001b[KWebscraping for company: BBY (198/215)"
     ]
    },
    {
     "name": "stderr",
     "output_type": "stream",
     "text": [
      "100%|██████████| 20/20 [00:32<00:00,  1.63s/it]"
     ]
    },
    {
     "name": "stdout",
     "output_type": "stream",
     "text": [
      "1 errors found\n",
      "\u001b[KWebscraping for company: AVY (199/215)"
     ]
    },
    {
     "name": "stderr",
     "output_type": "stream",
     "text": [
      "\n",
      "100%|██████████| 21/21 [00:10<00:00,  2.02it/s]"
     ]
    },
    {
     "name": "stdout",
     "output_type": "stream",
     "text": [
      "1 errors found\n",
      "\u001b[KWebscraping for company: BEN (200/215)"
     ]
    },
    {
     "name": "stderr",
     "output_type": "stream",
     "text": [
      "\n",
      "100%|██████████| 20/20 [00:30<00:00,  1.52s/it]"
     ]
    },
    {
     "name": "stdout",
     "output_type": "stream",
     "text": [
      "0 errors found\n",
      "\u001b[KWebscraping for company: BAX (201/215)"
     ]
    },
    {
     "name": "stderr",
     "output_type": "stream",
     "text": [
      "\n",
      "100%|██████████| 20/20 [00:20<00:00,  1.05s/it]"
     ]
    },
    {
     "name": "stdout",
     "output_type": "stream",
     "text": [
      "0 errors found\n",
      "\u001b[KWebscraping for company: PNW (202/215)"
     ]
    },
    {
     "name": "stderr",
     "output_type": "stream",
     "text": [
      "\n",
      "100%|██████████| 20/20 [00:52<00:00,  2.65s/it]\n"
     ]
    },
    {
     "name": "stdout",
     "output_type": "stream",
     "text": [
      "0 errors found\n",
      "\u001b[KWebscraping for company: HAS (203/215)"
     ]
    },
    {
     "name": "stderr",
     "output_type": "stream",
     "text": [
      "100%|██████████| 20/20 [00:22<00:00,  1.14s/it]\n"
     ]
    },
    {
     "name": "stdout",
     "output_type": "stream",
     "text": [
      "0 errors found\n",
      "\u001b[KWebscraping for company: SWK (204/215)"
     ]
    },
    {
     "name": "stderr",
     "output_type": "stream",
     "text": [
      "100%|██████████| 21/21 [00:31<00:00,  1.51s/it]\n"
     ]
    },
    {
     "name": "stdout",
     "output_type": "stream",
     "text": [
      "1 errors found\n",
      "\u001b[KWebscraping for company: WBA (205/215)"
     ]
    },
    {
     "name": "stderr",
     "output_type": "stream",
     "text": [
      "100%|██████████| 10/10 [00:12<00:00,  1.29s/it]"
     ]
    },
    {
     "name": "stdout",
     "output_type": "stream",
     "text": [
      "0 errors found\n",
      "\u001b[KWebscraping for company: TAP (206/215)"
     ]
    },
    {
     "name": "stderr",
     "output_type": "stream",
     "text": [
      "\n",
      "100%|██████████| 20/20 [00:52<00:00,  2.63s/it]"
     ]
    },
    {
     "name": "stdout",
     "output_type": "stream",
     "text": [
      "0 errors found\n",
      "\u001b[KWebscraping for company: CPB (207/215)"
     ]
    },
    {
     "name": "stderr",
     "output_type": "stream",
     "text": [
      "\n",
      "100%|██████████| 20/20 [00:25<00:00,  1.29s/it]"
     ]
    },
    {
     "name": "stdout",
     "output_type": "stream",
     "text": [
      "1 errors found\n",
      "\u001b[KWebscraping for company: AES (208/215)"
     ]
    },
    {
     "name": "stderr",
     "output_type": "stream",
     "text": [
      "\n",
      "100%|██████████| 20/20 [01:07<00:00,  3.36s/it]\n"
     ]
    },
    {
     "name": "stdout",
     "output_type": "stream",
     "text": [
      "0 errors found\n",
      "\u001b[KWebscraping for company: IPG (209/215)"
     ]
    },
    {
     "name": "stderr",
     "output_type": "stream",
     "text": [
      "100%|██████████| 20/20 [00:30<00:00,  1.50s/it]\n"
     ]
    },
    {
     "name": "stdout",
     "output_type": "stream",
     "text": [
      "0 errors found\n",
      "\u001b[KWebscraping for company: CAG (210/215)"
     ]
    },
    {
     "name": "stderr",
     "output_type": "stream",
     "text": [
      "100%|██████████| 21/21 [00:26<00:00,  1.25s/it]"
     ]
    },
    {
     "name": "stdout",
     "output_type": "stream",
     "text": [
      "1 errors found\n",
      "\u001b[KWebscraping for company: EMN (211/215)"
     ]
    },
    {
     "name": "stderr",
     "output_type": "stream",
     "text": [
      "\n",
      "100%|██████████| 20/20 [00:36<00:00,  1.80s/it]"
     ]
    },
    {
     "name": "stdout",
     "output_type": "stream",
     "text": [
      "0 errors found\n",
      "\u001b[KWebscraping for company: APA (212/215)"
     ]
    },
    {
     "name": "stderr",
     "output_type": "stream",
     "text": [
      "\n",
      "100%|██████████| 4/4 [00:04<00:00,  1.11s/it]"
     ]
    },
    {
     "name": "stdout",
     "output_type": "stream",
     "text": [
      "0 errors found\n",
      "\u001b[KWebscraping for company: FITB (213/215)"
     ]
    },
    {
     "name": "stderr",
     "output_type": "stream",
     "text": [
      "\n",
      "100%|██████████| 20/20 [00:58<00:00,  2.92s/it]"
     ]
    },
    {
     "name": "stdout",
     "output_type": "stream",
     "text": [
      "0 errors found\n",
      "\u001b[KWebscraping for company: BF.B (214/215)"
     ]
    },
    {
     "name": "stderr",
     "output_type": "stream",
     "text": [
      "\n",
      "100%|██████████| 21/21 [00:15<00:00,  1.36it/s]"
     ]
    },
    {
     "name": "stdout",
     "output_type": "stream",
     "text": [
      "7 errors found\n",
      "\u001b[KWebscraping for company: HES (215/215)"
     ]
    },
    {
     "name": "stderr",
     "output_type": "stream",
     "text": [
      "\n",
      "100%|██████████| 20/20 [00:32<00:00,  1.63s/it]"
     ]
    },
    {
     "name": "stdout",
     "output_type": "stream",
     "text": [
      "10 errors found\n"
     ]
    },
    {
     "name": "stderr",
     "output_type": "stream",
     "text": [
      "\n"
     ]
    }
   ],
   "source": [
    "# --------------------------Preparation:--------------------------\n",
    "\n",
    "cols_tokeep = [\"accessionNumber\", \"reportDate\", \"primaryDocument\"]\n",
    "\n",
    "#link fragmenting and pattern matching functions:\n",
    "\n",
    "def find_common_ancestor(tag1, tag2):\n",
    "    parents1 = list(tag1.parents)\n",
    "    parents2 = list(tag2.parents)\n",
    "\n",
    "    for p1 in parents1:\n",
    "        if p1 in parents2:\n",
    "            return p1\n",
    "    return None\n",
    "\n",
    "\n",
    "def extract_section_1A(html, start_href, end_href):\n",
    "    \"\"\"\n",
    "    returns a list of text fragments in section 1A from a BeautifulSoup input of an entire 10-k html\n",
    "    \"\"\"\n",
    "    status = \"Starting\"\n",
    "    def fragment(href):\n",
    "        parsed = urlparse(href)\n",
    "        return parsed.fragment if parsed.fragment else href.lstrip(\"#\")\n",
    "    start_id = fragment(start_href)\n",
    "    end_id = fragment(end_href)\n",
    "\n",
    "    start_tag = html.find(id = start_id) or html.find(\"a\", attrs = {\"name\": start_id})\n",
    "    end_tag = html.find(id = end_id) or html.find(\"a\", attrs = {\"name\": end_id})\n",
    "\n",
    "    if not start_tag:\n",
    "        status = f\"Could not locate start anchor #{start_id}\"\n",
    "        content = None\n",
    "    elif not end_tag: \n",
    "        status = f\"Could not locate end anchor #{end_id}\"\n",
    "        content = None\n",
    "    else:\n",
    "        status = \"Worked\"\n",
    "\n",
    "        content = []\n",
    "        for elem in start_tag.next_elements:\n",
    "            if elem == end_tag:\n",
    "                break\n",
    "\n",
    "            if hasattr(elem, \"get_text\") and elem.name in [\"div\", \"p\", \"li\", \"td\", \"section\"]:\n",
    "                text = elem.get_text(separator=\" \", strip=True)\n",
    "                if text:\n",
    "                    content.append(text)\n",
    "    return content, status\n",
    "\n",
    "# patterns to find the appropriate sections:\n",
    "patterns_1A = [re.compile(r'\\bITEM\\s*1A\\b', flags=re.IGNORECASE), re.compile(r'\\brisk\\s*factors\\b', flags=re.IGNORECASE)]\n",
    "patterns_1B = [re.compile(r'\\bITEM\\s*1B\\b', flags=re.IGNORECASE), re.compile(r'\\bunresolved\\s*staff\\s*comments\\b', flags=re.IGNORECASE), re.compile(r'\\bunresolved\\s*sec\\s*staff\\s*comments\\b', flags=re.IGNORECASE)]\n",
    "\n",
    "#creating the directory for the extracted sections:\n",
    "os.makedirs(\"section_1A\", exist_ok = True)\n",
    "\n",
    "#building the skeleton of the errors dataframe:\n",
    "errors = pd.DataFrame({\n",
    "    \"Company\": pd.Series(dtype=\"string\"),\n",
    "    \"FiscalYearEnd\": pd.Series(dtype=\"datetime64[ns]\"),\n",
    "    \"Status\": pd.Series(dtype=\"string\"),\n",
    "    \"URL\": pd.Series(dtype=\"string\")\n",
    "})\n",
    "\n",
    "# --------------------------Full loop:--------------------------\n",
    "total_documents = 0\n",
    "for i_comp, row_comp in company_tickers.iterrows():\n",
    "    status = f'Webscraping for company: {row_comp[\"ticker\"]} ({i_comp+1}/{len(company_tickers)})'\n",
    "    print('\\r\\033[K' + status, end='')\n",
    "    sys.stdout.flush()\n",
    "\n",
    "    cik = row_comp[\"cik\"]\n",
    "    cik_no_zeros = str(int(cik))\n",
    "\n",
    "    # obtaining the document links:\n",
    "    url = f\"https://data.sec.gov/submissions/CIK{cik}.json\"\n",
    "    submissions = get_json(url, headers_data)\n",
    "\n",
    "    comp_ticker = row_comp[\"ticker\"]\n",
    "    filings = submissions[\"filings\"]\n",
    "\n",
    "    recent = pd.DataFrame(filings[\"recent\"])\n",
    "    recent = recent[recent[\"form\"] == \"10-K\"].drop(columns = [col for col in recent.columns if col not in cols_tokeep])\n",
    "    dataframes = [recent]\n",
    "\n",
    "    for file_dict in filings[\"files\"]:\n",
    "        filename = file_dict[\"name\"]\n",
    "        url = f\"https://data.sec.gov/submissions/{filename}\"\n",
    "        older_subm = pd.DataFrame(get_json(url, headers_data))\n",
    "        older_subm = older_subm[older_subm[\"form\"] == \"10-K\"].drop(columns = [col for col in older_subm.columns if col not in cols_tokeep])\n",
    "        dataframes.append(older_subm)\n",
    "    \n",
    "    df = pd.concat(dataframes, ignore_index = True)\n",
    "    df[\"reportDate\"] = pd.to_datetime(df[\"reportDate\"])\n",
    "    df[\"reportYear\"] = df[\"reportDate\"].dt.year\n",
    "    df = df[df[\"reportYear\"] >= 2005]\n",
    "\n",
    "    total_documents += len(df)\n",
    "\n",
    "    df_1A = pd.DataFrame(columns = [\"cik\", \"FiscalYearEnd\", \"URL\", \"section_1A\"])\n",
    "\n",
    "    #iterating over all years for the company in question:\n",
    "    for doc_i, doc_row in tqdm(df.iterrows(), total = len(df)):\n",
    "        accno = doc_row[\"accessionNumber\"]\n",
    "        acc_no_no_dash = accno.replace(\"-\", \"\")\n",
    "        doclink = doc_row[\"primaryDocument\"]\n",
    "        url = f'https://www.sec.gov/Archives/edgar/data/{cik_no_zeros}/{acc_no_no_dash}/{doclink}'\n",
    "        df.at[doc_i, \"url\"] = url\n",
    "        \n",
    "        # downloading the 10-K filing\n",
    "        response = rq.get(url, headers = headers_doc)\n",
    "        content = BeautifulSoup(response.content, \"html.parser\")\n",
    "\n",
    "        link_1A = None\n",
    "        link_1B = None\n",
    "        link_list = [{\"link\": link, \"text\": \" \".join(link.get_text(separator = \" \").split())} for link in content.find_all(\"a\")] \n",
    "\n",
    "        # pattern matching for item 1A:\n",
    "        idx = 0\n",
    "        while link_1A == None and idx < len(patterns_1A):\n",
    "            for link_dict in link_list:\n",
    "                if patterns_1A[idx].search(link_dict[\"text\"]):\n",
    "                    link_1A = link_dict[\"link\"].get(\"href\")\n",
    "                    break\n",
    "            idx += 1\n",
    "        \n",
    "        #pattern matching for item 1B:\n",
    "        idx = 0\n",
    "        while link_1B == None and idx < len(patterns_1B):\n",
    "            for link_dict in link_list:\n",
    "                if patterns_1B[idx].search(link_dict[\"text\"]):\n",
    "                    link_1B = link_dict[\"link\"].get(\"href\")\n",
    "                    break\n",
    "            idx += 1\n",
    "\n",
    "        #updating the status, using the extraction function, if the link finding worked:\n",
    "        if link_1A == None:\n",
    "            sec_1A = None\n",
    "            extract_status = f'Could not find start link'\n",
    "        elif link_1B == None:\n",
    "            sec_1A = None\n",
    "            extract_status = f'Could not find end link'\n",
    "        else:\n",
    "            sec_1A, extract_status = extract_section_1A(content, link_1A, link_1B)\n",
    "        \n",
    "        #attempting to find the headings for the sections, in case the link method did not work\n",
    "        if sec_1A == None:\n",
    "            bold_tags = content.find_all([\"b\", \"strong\"])\n",
    "            styled_bold = content.find_all(\n",
    "                lambda tag: tag.has_attr(\"style\") and \"font-weight\" in tag[\"style\"].lower() and \"bold\" in tag[\"style\"].lower())\n",
    "            all_bold = set(bold_tags + styled_bold)\n",
    "\n",
    "            tag_list = [{\"fulltag\": tag, \"text\": \" \".join(tag.get_text(separator = \" \").split())} for tag in all_bold]\n",
    "            tag_1A = None\n",
    "            tag_1B = None\n",
    "\n",
    "            idx = 0\n",
    "            while tag_1A == None and idx < len(patterns_1A):\n",
    "                for tag_dict in tag_list:\n",
    "                    if patterns_1A[idx].search(tag_dict[\"text\"]):\n",
    "                        tag_1A = tag_dict[\"fulltag\"]\n",
    "                        break\n",
    "                idx += 1\n",
    "            \n",
    "            idx = 0\n",
    "            while tag_1B == None and idx < len(patterns_1B):\n",
    "                for tag_dict in tag_list:\n",
    "                    if patterns_1B[idx].search(tag_dict[\"text\"]):\n",
    "                        tag_1B = tag_dict[\"fulltag\"]\n",
    "                        break\n",
    "                idx += 1\n",
    "            \n",
    "            if tag_1A == None:\n",
    "                extract_status = \"Bold tag Method: Could not find start tag\"\n",
    "            elif tag_1B == None:\n",
    "                extract_status = \"Bold tag Method: Could not find end tag\"\n",
    "            else:\n",
    "                sec_1A = []\n",
    "                for elem in tag_1A.next_elements:\n",
    "                    if elem == tag_1B:\n",
    "                        break\n",
    "\n",
    "                    if hasattr(elem, \"get_text\") and elem.name in [\"div\", \"p\", \"li\", \"td\", \"section\"]:\n",
    "                        text = elem.get_text(separator=\" \", strip=True)\n",
    "                        if text:\n",
    "                            sec_1A.append(text)\n",
    "\n",
    "        elif sec_1A != None and len(sec_1A) == 0:\n",
    "            extract_status = \"Extract function: returned an empty list\"    \n",
    "\n",
    "        #updating the error dict, in case it didn't work\n",
    "        if sec_1A == None or len(sec_1A) == 0:\n",
    "            sec_1A = None\n",
    "            error_row = {\"Company\": comp_ticker,\n",
    "                        \"FiscalYearEnd\": doc_row[\"reportDate\"],\n",
    "                        \"Status\": extract_status,\n",
    "                        \"URL\": url}\n",
    "            errors = pd.concat([errors, pd.DataFrame([error_row])], ignore_index = True)\n",
    "        else:\n",
    "            #cleaning the list:\n",
    "            sec_1A = [text for text in sec_1A if(not re.fullmatch(r\"\\s*\\d+\\s*\", text)) and len(text.strip()) > 5 and text.lower() != \"table of contents\"]\n",
    "            #eliminating any exact duplicates that might be left:\n",
    "            seen = set()\n",
    "            deduped_text_list = []\n",
    "\n",
    "            for text in sec_1A:\n",
    "                if text not in seen:\n",
    "                    seen.add(text)\n",
    "                    deduped_text_list.append(text)\n",
    "            sec_1A = deduped_text_list\n",
    "            \n",
    "            df_1A.loc[doc_i, [\"cik\", \"FiscalYearEnd\", \"URL\", \"section_1A\"]] = [cik, doc_row[\"reportDate\"], url, sec_1A]\n",
    "\n",
    "        del content\n",
    "        gc.collect()\n",
    "\n",
    "    #saving the json file\n",
    "    with open(f'section_1A/{comp_ticker}.pickle', 'wb') as file:\n",
    "        pickle.dump(df_1A, file)\n",
    "    del df_1A\n",
    "\n",
    "    gc.collect()\n",
    "    print(f'{len([row for _, row in errors.iterrows() if row[\"Company\"] == comp_ticker])} errors found')"
   ]
  },
  {
   "cell_type": "code",
   "execution_count": 9,
   "id": "82a0e5cd",
   "metadata": {},
   "outputs": [
    {
     "name": "stdout",
     "output_type": "stream",
     "text": [
      "Errors in total: 348 out of 4242 documents (8.204%)\n"
     ]
    }
   ],
   "source": [
    "print(f'Errors in total: {len(errors)} out of {total_documents} documents ({((len(errors)/total_documents)*100):.3f}%)')\n",
    "\n",
    "with open(\"webscraping_errors.pickle\", \"wb\") as file:\n",
    "    pickle.dump(errors, file)"
   ]
  }
 ],
 "metadata": {
  "kernelspec": {
   "display_name": "Python 3",
   "language": "python",
   "name": "python3"
  },
  "language_info": {
   "codemirror_mode": {
    "name": "ipython",
    "version": 3
   },
   "file_extension": ".py",
   "mimetype": "text/x-python",
   "name": "python",
   "nbconvert_exporter": "python",
   "pygments_lexer": "ipython3",
   "version": "3.13.6"
  }
 },
 "nbformat": 4,
 "nbformat_minor": 5
}
