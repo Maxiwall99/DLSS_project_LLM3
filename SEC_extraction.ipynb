{
 "cells": [
  {
   "cell_type": "code",
   "execution_count": 1,
   "id": "f02d01d2",
   "metadata": {},
   "outputs": [],
   "source": [
    "import requests as rq\n",
    "import pandas as pd\n",
    "from bs4 import BeautifulSoup\n",
    "# !pip install -U sec-edgar-downloader\n",
    "from sec_edgar_downloader import Downloader\n",
    "from tqdm import tqdm\n",
    "import re\n",
    "from urllib.parse import urlparse\n",
    "# import ast\n",
    "import sys\n",
    "import json\n",
    "import os\n",
    "import gc"
   ]
  },
  {
   "cell_type": "markdown",
   "id": "291ff19b",
   "metadata": {},
   "source": [
    "# Preparation"
   ]
  },
  {
   "cell_type": "code",
   "execution_count": 2,
   "id": "0f4745ab",
   "metadata": {},
   "outputs": [],
   "source": [
    "#API extraction function & Definition of headers:\n",
    "\n",
    "headers_data = {\n",
    "    \"User-Agent\": \"Ludwig Kunz (ludwig.kunz@uni-konstanz.de)\",\n",
    "    \"Accept-Encoding\": \"gzip, deflate\",\n",
    "    \"Host\": \"data.sec.gov\"\n",
    "}\n",
    "headers_doc = {\n",
    "        \"User-Agent\": \"Ludwig Kunz (ludwig.kunz@uni-konstanz.de)\",\n",
    "        \"Accept-Encoding\": \"gzip, deflate\",\n",
    "        \"Host\": \"www.sec.gov\"\n",
    "}\n",
    "\n",
    "def get_json(url, headers):\n",
    "    response = rq.get(url, headers = headers)\n",
    "    if response.status_code == 200:\n",
    "        return response.json()\n",
    "    else:\n",
    "        raise ImportError(response.status_code)"
   ]
  },
  {
   "cell_type": "code",
   "execution_count": 11,
   "id": "4ac58fb7",
   "metadata": {},
   "outputs": [
    {
     "name": "stdout",
     "output_type": "stream",
     "text": [
      "Missing ticker(s): ['HES', 'PPL', 'BF.B']\n"
     ]
    },
    {
     "data": {
      "application/vnd.microsoft.datawrangler.viewer.v0+json": {
       "columns": [
        {
         "name": "index",
         "rawType": "int64",
         "type": "integer"
        },
        {
         "name": "ticker",
         "rawType": "object",
         "type": "string"
        },
        {
         "name": "cik",
         "rawType": "object",
         "type": "string"
        }
       ],
       "ref": "a4583395-1463-47d9-b8a1-eea05ad8561e",
       "rows": [
        [
         "0",
         "NVDA",
         "0001045810"
        ],
        [
         "1",
         "MSFT",
         "0000789019"
        ],
        [
         "2",
         "AAPL",
         "0000320193"
        ],
        [
         "3",
         "JPM",
         "0000019617"
        ],
        [
         "4",
         "WMT",
         "0000104169"
        ],
        [
         "5",
         "ORCL",
         "0001341439"
        ],
        [
         "6",
         "LLY",
         "0000059478"
        ],
        [
         "7",
         "XOM",
         "0000034088"
        ],
        [
         "8",
         "COST",
         "0000909832"
        ],
        [
         "9",
         "JNJ",
         "0000200406"
        ],
        [
         "10",
         "HD",
         "0000354950"
        ],
        [
         "11",
         "PG",
         "0000080424"
        ],
        [
         "12",
         "BAC",
         "0000070858"
        ],
        [
         "13",
         "CVX",
         "0000093410"
        ],
        [
         "14",
         "KO",
         "0000021344"
        ],
        [
         "15",
         "GE",
         "0000040545"
        ],
        [
         "16",
         "CSCO",
         "0000858877"
        ],
        [
         "17",
         "WFC",
         "0000072971"
        ],
        [
         "18",
         "IBM",
         "0000051143"
        ],
        [
         "19",
         "MS",
         "0000895421"
        ],
        [
         "20",
         "UNH",
         "0000731766"
        ],
        [
         "21",
         "GS",
         "0000886982"
        ],
        [
         "22",
         "ABT",
         "0000001800"
        ],
        [
         "23",
         "INTU",
         "0000896878"
        ],
        [
         "24",
         "MCD",
         "0000063908"
        ],
        [
         "25",
         "DIS",
         "0001744489"
        ],
        [
         "26",
         "AXP",
         "0000004962"
        ],
        [
         "27",
         "CAT",
         "0000018230"
        ],
        [
         "28",
         "MRK",
         "0000310158"
        ],
        [
         "29",
         "T",
         "0000732717"
        ],
        [
         "30",
         "PEP",
         "0000077476"
        ],
        [
         "31",
         "VZ",
         "0000732712"
        ],
        [
         "32",
         "TMO",
         "0000097745"
        ],
        [
         "33",
         "SCHW",
         "0000316709"
        ],
        [
         "34",
         "C",
         "0000831001"
        ],
        [
         "35",
         "SPGI",
         "0000064040"
        ],
        [
         "36",
         "BA",
         "0000012927"
        ],
        [
         "37",
         "TXN",
         "0000097476"
        ],
        [
         "38",
         "QCOM",
         "0000804328"
        ],
        [
         "39",
         "AMGN",
         "0000318154"
        ],
        [
         "40",
         "BSX",
         "0000885725"
        ],
        [
         "41",
         "ADBE",
         "0000796343"
        ],
        [
         "42",
         "SYK",
         "0000310764"
        ],
        [
         "43",
         "ETN",
         "0001551182"
        ],
        [
         "44",
         "NEE",
         "0000753308"
        ],
        [
         "45",
         "AMAT",
         "0000006951"
        ],
        [
         "46",
         "DHR",
         "0000313616"
        ],
        [
         "47",
         "PGR",
         "0000080661"
        ],
        [
         "48",
         "DE",
         "0000315189"
        ],
        [
         "49",
         "HON",
         "0000773840"
        ]
       ],
       "shape": {
        "columns": 2,
        "rows": 215
       }
      },
      "text/html": [
       "<div>\n",
       "<style scoped>\n",
       "    .dataframe tbody tr th:only-of-type {\n",
       "        vertical-align: middle;\n",
       "    }\n",
       "\n",
       "    .dataframe tbody tr th {\n",
       "        vertical-align: top;\n",
       "    }\n",
       "\n",
       "    .dataframe thead th {\n",
       "        text-align: right;\n",
       "    }\n",
       "</style>\n",
       "<table border=\"1\" class=\"dataframe\">\n",
       "  <thead>\n",
       "    <tr style=\"text-align: right;\">\n",
       "      <th></th>\n",
       "      <th>ticker</th>\n",
       "      <th>cik</th>\n",
       "    </tr>\n",
       "  </thead>\n",
       "  <tbody>\n",
       "    <tr>\n",
       "      <th>0</th>\n",
       "      <td>NVDA</td>\n",
       "      <td>0001045810</td>\n",
       "    </tr>\n",
       "    <tr>\n",
       "      <th>1</th>\n",
       "      <td>MSFT</td>\n",
       "      <td>0000789019</td>\n",
       "    </tr>\n",
       "    <tr>\n",
       "      <th>2</th>\n",
       "      <td>AAPL</td>\n",
       "      <td>0000320193</td>\n",
       "    </tr>\n",
       "    <tr>\n",
       "      <th>3</th>\n",
       "      <td>JPM</td>\n",
       "      <td>0000019617</td>\n",
       "    </tr>\n",
       "    <tr>\n",
       "      <th>4</th>\n",
       "      <td>WMT</td>\n",
       "      <td>0000104169</td>\n",
       "    </tr>\n",
       "    <tr>\n",
       "      <th>...</th>\n",
       "      <td>...</td>\n",
       "      <td>...</td>\n",
       "    </tr>\n",
       "    <tr>\n",
       "      <th>210</th>\n",
       "      <td>APA</td>\n",
       "      <td>0001841666</td>\n",
       "    </tr>\n",
       "    <tr>\n",
       "      <th>211</th>\n",
       "      <td>FITB</td>\n",
       "      <td>0000035527</td>\n",
       "    </tr>\n",
       "    <tr>\n",
       "      <th>212</th>\n",
       "      <td>HES</td>\n",
       "      <td>0000004447</td>\n",
       "    </tr>\n",
       "    <tr>\n",
       "      <th>213</th>\n",
       "      <td>PPL</td>\n",
       "      <td>0000922224</td>\n",
       "    </tr>\n",
       "    <tr>\n",
       "      <th>214</th>\n",
       "      <td>BF.B</td>\n",
       "      <td>0000014693</td>\n",
       "    </tr>\n",
       "  </tbody>\n",
       "</table>\n",
       "<p>215 rows × 2 columns</p>\n",
       "</div>"
      ],
      "text/plain": [
       "    ticker         cik\n",
       "0     NVDA  0001045810\n",
       "1     MSFT  0000789019\n",
       "2     AAPL  0000320193\n",
       "3      JPM  0000019617\n",
       "4      WMT  0000104169\n",
       "..     ...         ...\n",
       "210    APA  0001841666\n",
       "211   FITB  0000035527\n",
       "212    HES  0000004447\n",
       "213    PPL  0000922224\n",
       "214   BF.B  0000014693\n",
       "\n",
       "[215 rows x 2 columns]"
      ]
     },
     "metadata": {},
     "output_type": "display_data"
    }
   ],
   "source": [
    "sp500_changes = pd.read_csv(\"s&p500_hist_changes.csv\") # from https://github.com/fja05680/sp500\n",
    "sp500_changes[\"date\"] = pd.to_datetime(sp500_changes[\"date\"])\n",
    "sp500_changes[\"year\"] = sp500_changes[\"date\"].dt.year \n",
    "sp500_changes = sp500_changes[((sp500_changes[\"year\"] >= 2005) & (sp500_changes[\"year\"] < 2025))]\n",
    "sp500_changes.reset_index(drop = True,inplace=True)\n",
    "sp500_changes[\"tickers\"] = sp500_changes[\"tickers\"].apply(lambda x: x.split(\",\"))\n",
    "\n",
    "sp500_changes\n",
    "\n",
    "#iterating over the dataset and creating intersections, to get permanent constituents\n",
    "common_tickers = set(sp500_changes.iloc[0][\"tickers\"])\n",
    "for _, row in sp500_changes[1:].iterrows():\n",
    "    common_tickers &= set(row[\"tickers\"])\n",
    "common_tickers = list(common_tickers)\n",
    "\n",
    "#converting the permanent constituents tickers to ciks\n",
    "url = \"https://www.sec.gov/files/company_tickers.json\"\n",
    "company_tickers = get_json(url, headers_doc)\n",
    "company_tickers = list(company_tickers.values())\n",
    "company_tickers = pd.DataFrame(company_tickers)\n",
    "company_tickers\n",
    "\n",
    "company_tickers = company_tickers[company_tickers[\"ticker\"].isin(common_tickers)]\n",
    "company_tickers[\"cik\"] = company_tickers[\"cik_str\"].apply(str).str.zfill(10)\n",
    "company_tickers = company_tickers[[\"ticker\", \"cik\"]]\n",
    "matched_tickers = set(company_tickers[\"ticker\"])\n",
    "missing_tickers = list(set(common_tickers) - matched_tickers)\n",
    "\n",
    "df_missing = pd.DataFrame({\n",
    "    \"ticker\": missing_tickers,\n",
    "    \"cik\": [pd.NA] * len(missing_tickers)\n",
    "})\n",
    "\n",
    "company_tickers = pd.concat([company_tickers, df_missing], ignore_index=True)\n",
    "\n",
    "print(\"Missing ticker(s):\", missing_tickers)\n",
    "\n",
    "#manually filling the missing CIKs:\n",
    "company_tickers.loc[company_tickers[\"ticker\"] == \"BF.B\", \"cik\"] = \"0000014693\"\n",
    "company_tickers.loc[company_tickers[\"ticker\"] == \"HES\", \"cik\"] = \"0000004447\"\n",
    "company_tickers.loc[company_tickers[\"ticker\"] == \"PPL\", \"cik\"] = \"0000922224\"\n",
    "\n",
    "# company_tickers = company_tickers[-1:] #shortening, for checks and bug fixing\n",
    "# company_tickers = company_tickers[company_tickers[\"ticker\"] == \"ORCL\"]\n",
    "\n",
    "display(company_tickers)"
   ]
  },
  {
   "cell_type": "markdown",
   "id": "e839aaed",
   "metadata": {},
   "source": [
    "# Webscraping"
   ]
  },
  {
   "cell_type": "code",
   "execution_count": null,
   "id": "b4e26ed8",
   "metadata": {},
   "outputs": [
    {
     "name": "stdout",
     "output_type": "stream",
     "text": [
      "\u001b[KWebscraping for company: NVDA (1/215)"
     ]
    },
    {
     "name": "stderr",
     "output_type": "stream",
     "text": [
      "100%|██████████| 21/21 [00:25<00:00,  1.20s/it]"
     ]
    },
    {
     "name": "stdout",
     "output_type": "stream",
     "text": [
      "3 errors found\n",
      "\u001b[KWebscraping for company: MSFT (2/215)"
     ]
    },
    {
     "name": "stderr",
     "output_type": "stream",
     "text": [
      "\n",
      "100%|██████████| 21/21 [00:40<00:00,  1.91s/it]\n"
     ]
    },
    {
     "name": "stdout",
     "output_type": "stream",
     "text": [
      "1 errors found\n",
      "\u001b[KWebscraping for company: AAPL (3/215)"
     ]
    },
    {
     "name": "stderr",
     "output_type": "stream",
     "text": [
      "100%|██████████| 20/20 [00:21<00:00,  1.07s/it]\n"
     ]
    },
    {
     "name": "stdout",
     "output_type": "stream",
     "text": [
      "7 errors found\n",
      "\u001b[KWebscraping for company: JPM (4/215)"
     ]
    },
    {
     "name": "stderr",
     "output_type": "stream",
     "text": [
      "100%|██████████| 20/20 [04:16<00:00, 12.82s/it]\n"
     ]
    },
    {
     "name": "stdout",
     "output_type": "stream",
     "text": [
      "2 errors found\n",
      "\u001b[KWebscraping for company: WMT (5/215)"
     ]
    },
    {
     "name": "stderr",
     "output_type": "stream",
     "text": [
      "100%|██████████| 21/21 [00:21<00:00,  1.00s/it]"
     ]
    },
    {
     "name": "stdout",
     "output_type": "stream",
     "text": [
      "7 errors found\n",
      "\u001b[KWebscraping for company: ORCL (6/215)"
     ]
    },
    {
     "name": "stderr",
     "output_type": "stream",
     "text": [
      "\n",
      "100%|██████████| 20/20 [00:35<00:00,  1.75s/it]\n"
     ]
    },
    {
     "name": "stdout",
     "output_type": "stream",
     "text": [
      "0 errors found\n",
      "\u001b[KWebscraping for company: LLY (7/215)"
     ]
    },
    {
     "name": "stderr",
     "output_type": "stream",
     "text": [
      "100%|██████████| 20/20 [00:26<00:00,  1.32s/it]\n"
     ]
    },
    {
     "name": "stdout",
     "output_type": "stream",
     "text": [
      "5 errors found\n",
      "\u001b[KWebscraping for company: XOM (8/215)"
     ]
    },
    {
     "name": "stderr",
     "output_type": "stream",
     "text": [
      "100%|██████████| 20/20 [01:07<00:00,  3.38s/it]\n"
     ]
    },
    {
     "name": "stdout",
     "output_type": "stream",
     "text": [
      "13 errors found\n",
      "\u001b[KWebscraping for company: COST (9/215)"
     ]
    },
    {
     "name": "stderr",
     "output_type": "stream",
     "text": [
      "100%|██████████| 20/20 [00:22<00:00,  1.14s/it]\n"
     ]
    },
    {
     "name": "stdout",
     "output_type": "stream",
     "text": [
      "1 errors found\n",
      "\u001b[KWebscraping for company: JNJ (10/215)"
     ]
    },
    {
     "name": "stderr",
     "output_type": "stream",
     "text": [
      "100%|██████████| 21/21 [00:25<00:00,  1.23s/it]"
     ]
    },
    {
     "name": "stdout",
     "output_type": "stream",
     "text": [
      "5 errors found\n",
      "\u001b[KWebscraping for company: HD (11/215)"
     ]
    },
    {
     "name": "stderr",
     "output_type": "stream",
     "text": [
      "\n",
      "100%|██████████| 21/21 [00:19<00:00,  1.09it/s]"
     ]
    },
    {
     "name": "stdout",
     "output_type": "stream",
     "text": [
      "3 errors found\n",
      "\u001b[KWebscraping for company: PG (12/215)"
     ]
    },
    {
     "name": "stderr",
     "output_type": "stream",
     "text": [
      "\n",
      "100%|██████████| 20/20 [00:20<00:00,  1.02s/it]"
     ]
    },
    {
     "name": "stdout",
     "output_type": "stream",
     "text": [
      "8 errors found\n",
      "\u001b[KWebscraping for company: BAC (13/215)"
     ]
    },
    {
     "name": "stderr",
     "output_type": "stream",
     "text": [
      "\n",
      "100%|██████████| 20/20 [04:13<00:00, 12.68s/it]\n"
     ]
    },
    {
     "name": "stdout",
     "output_type": "stream",
     "text": [
      "4 errors found\n",
      "\u001b[KWebscraping for company: CVX (14/215)"
     ]
    },
    {
     "name": "stderr",
     "output_type": "stream",
     "text": [
      "100%|██████████| 20/20 [01:00<00:00,  3.03s/it]\n"
     ]
    },
    {
     "name": "stdout",
     "output_type": "stream",
     "text": [
      "0 errors found\n",
      "\u001b[KWebscraping for company: KO (15/215)"
     ]
    },
    {
     "name": "stderr",
     "output_type": "stream",
     "text": [
      "100%|██████████| 20/20 [00:37<00:00,  1.86s/it]"
     ]
    },
    {
     "name": "stdout",
     "output_type": "stream",
     "text": [
      "1 errors found\n",
      "\u001b[KWebscraping for company: GE (16/215)"
     ]
    },
    {
     "name": "stderr",
     "output_type": "stream",
     "text": [
      "\n",
      "100%|██████████| 20/20 [00:59<00:00,  2.97s/it]"
     ]
    },
    {
     "name": "stdout",
     "output_type": "stream",
     "text": [
      "13 errors found\n",
      "\u001b[KWebscraping for company: CSCO (17/215)"
     ]
    },
    {
     "name": "stderr",
     "output_type": "stream",
     "text": [
      "\n",
      "100%|██████████| 20/20 [00:31<00:00,  1.58s/it]\n"
     ]
    },
    {
     "name": "stdout",
     "output_type": "stream",
     "text": [
      "1 errors found\n",
      "\u001b[KWebscraping for company: WFC (18/215)"
     ]
    },
    {
     "name": "stderr",
     "output_type": "stream",
     "text": [
      "100%|██████████| 20/20 [00:14<00:00,  1.40it/s]"
     ]
    },
    {
     "name": "stdout",
     "output_type": "stream",
     "text": [
      "11 errors found\n",
      "\u001b[KWebscraping for company: IBM (19/215)"
     ]
    },
    {
     "name": "stderr",
     "output_type": "stream",
     "text": [
      "\n",
      "100%|██████████| 20/20 [00:11<00:00,  1.68it/s]"
     ]
    },
    {
     "name": "stdout",
     "output_type": "stream",
     "text": [
      "0 errors found\n",
      "\u001b[KWebscraping for company: MS (20/215)"
     ]
    },
    {
     "name": "stderr",
     "output_type": "stream",
     "text": [
      "\n",
      "100%|██████████| 20/20 [01:40<00:00,  5.00s/it]\n"
     ]
    },
    {
     "name": "stdout",
     "output_type": "stream",
     "text": [
      "0 errors found\n",
      "\u001b[KWebscraping for company: UNH (21/215)"
     ]
    },
    {
     "name": "stderr",
     "output_type": "stream",
     "text": [
      "100%|██████████| 20/20 [00:32<00:00,  1.61s/it]\n"
     ]
    },
    {
     "name": "stdout",
     "output_type": "stream",
     "text": [
      "1 errors found\n",
      "\u001b[KWebscraping for company: GS (22/215)"
     ]
    },
    {
     "name": "stderr",
     "output_type": "stream",
     "text": [
      "100%|██████████| 20/20 [01:40<00:00,  5.01s/it]\n"
     ]
    },
    {
     "name": "stdout",
     "output_type": "stream",
     "text": [
      "3 errors found\n",
      "\u001b[KWebscraping for company: ABT (23/215)"
     ]
    },
    {
     "name": "stderr",
     "output_type": "stream",
     "text": [
      "100%|██████████| 20/20 [00:30<00:00,  1.52s/it]"
     ]
    },
    {
     "name": "stdout",
     "output_type": "stream",
     "text": [
      "11 errors found\n",
      "\u001b[KWebscraping for company: INTU (24/215)"
     ]
    },
    {
     "name": "stderr",
     "output_type": "stream",
     "text": [
      "\n",
      "100%|██████████| 20/20 [00:34<00:00,  1.72s/it]\n"
     ]
    },
    {
     "name": "stdout",
     "output_type": "stream",
     "text": [
      "1 errors found\n",
      "\u001b[KWebscraping for company: MCD (25/215)"
     ]
    },
    {
     "name": "stderr",
     "output_type": "stream",
     "text": [
      "100%|██████████| 20/20 [00:30<00:00,  1.54s/it]\n"
     ]
    },
    {
     "name": "stdout",
     "output_type": "stream",
     "text": [
      "6 errors found\n",
      "\u001b[KWebscraping for company: DIS (26/215)"
     ]
    },
    {
     "name": "stderr",
     "output_type": "stream",
     "text": [
      "100%|██████████| 6/6 [00:11<00:00,  1.91s/it]\n"
     ]
    },
    {
     "name": "stdout",
     "output_type": "stream",
     "text": [
      "0 errors found\n",
      "\u001b[KWebscraping for company: AXP (27/215)"
     ]
    },
    {
     "name": "stderr",
     "output_type": "stream",
     "text": [
      "100%|██████████| 20/20 [00:40<00:00,  2.03s/it]\n"
     ]
    },
    {
     "name": "stdout",
     "output_type": "stream",
     "text": [
      "0 errors found\n",
      "\u001b[KWebscraping for company: CAT (28/215)"
     ]
    },
    {
     "name": "stderr",
     "output_type": "stream",
     "text": [
      "100%|██████████| 21/21 [00:59<00:00,  2.81s/it]"
     ]
    },
    {
     "name": "stdout",
     "output_type": "stream",
     "text": [
      "1 errors found\n",
      "\u001b[KWebscraping for company: MRK (29/215)"
     ]
    },
    {
     "name": "stderr",
     "output_type": "stream",
     "text": [
      "\n",
      "100%|██████████| 20/20 [00:46<00:00,  2.34s/it]\n"
     ]
    },
    {
     "name": "stdout",
     "output_type": "stream",
     "text": [
      "1 errors found\n",
      "\u001b[KWebscraping for company: T (30/215)"
     ]
    },
    {
     "name": "stderr",
     "output_type": "stream",
     "text": [
      "100%|██████████| 20/20 [00:20<00:00,  1.03s/it]"
     ]
    },
    {
     "name": "stdout",
     "output_type": "stream",
     "text": [
      "19 errors found\n",
      "\u001b[KWebscraping for company: PEP (31/215)"
     ]
    },
    {
     "name": "stderr",
     "output_type": "stream",
     "text": [
      "\n",
      "100%|██████████| 20/20 [00:43<00:00,  2.17s/it]\n"
     ]
    },
    {
     "name": "stdout",
     "output_type": "stream",
     "text": [
      "0 errors found\n",
      "\u001b[KWebscraping for company: VZ (32/215)"
     ]
    },
    {
     "name": "stderr",
     "output_type": "stream",
     "text": [
      "100%|██████████| 20/20 [00:17<00:00,  1.16it/s]\n"
     ]
    },
    {
     "name": "stdout",
     "output_type": "stream",
     "text": [
      "0 errors found\n",
      "\u001b[KWebscraping for company: TMO (33/215)"
     ]
    },
    {
     "name": "stderr",
     "output_type": "stream",
     "text": [
      "100%|██████████| 20/20 [00:39<00:00,  1.95s/it]"
     ]
    },
    {
     "name": "stdout",
     "output_type": "stream",
     "text": [
      "0 errors found\n",
      "\u001b[KWebscraping for company: SCHW (34/215)"
     ]
    },
    {
     "name": "stderr",
     "output_type": "stream",
     "text": [
      "\n",
      "100%|██████████| 20/20 [00:47<00:00,  2.35s/it]"
     ]
    },
    {
     "name": "stdout",
     "output_type": "stream",
     "text": [
      "12 errors found\n",
      "\u001b[KWebscraping for company: C (35/215)"
     ]
    },
    {
     "name": "stderr",
     "output_type": "stream",
     "text": [
      "\n",
      "100%|██████████| 20/20 [03:31<00:00, 10.55s/it]\n"
     ]
    },
    {
     "name": "stdout",
     "output_type": "stream",
     "text": [
      "17 errors found\n",
      "\u001b[KWebscraping for company: SPGI (36/215)"
     ]
    },
    {
     "name": "stderr",
     "output_type": "stream",
     "text": [
      "100%|██████████| 20/20 [00:34<00:00,  1.71s/it]\n"
     ]
    },
    {
     "name": "stdout",
     "output_type": "stream",
     "text": [
      "0 errors found\n",
      "\u001b[KWebscraping for company: BA (37/215)"
     ]
    },
    {
     "name": "stderr",
     "output_type": "stream",
     "text": [
      "100%|██████████| 20/20 [00:36<00:00,  1.85s/it]\n"
     ]
    },
    {
     "name": "stdout",
     "output_type": "stream",
     "text": [
      "0 errors found\n",
      "\u001b[KWebscraping for company: TXN (38/215)"
     ]
    },
    {
     "name": "stderr",
     "output_type": "stream",
     "text": [
      "100%|██████████| 20/20 [00:19<00:00,  1.01it/s]"
     ]
    },
    {
     "name": "stdout",
     "output_type": "stream",
     "text": [
      "14 errors found\n",
      "\u001b[KWebscraping for company: QCOM (39/215)"
     ]
    },
    {
     "name": "stderr",
     "output_type": "stream",
     "text": [
      "\n",
      "100%|██████████| 20/20 [00:23<00:00,  1.18s/it]\n"
     ]
    },
    {
     "name": "stdout",
     "output_type": "stream",
     "text": [
      "1 errors found\n",
      "\u001b[KWebscraping for company: AMGN (40/215)"
     ]
    },
    {
     "name": "stderr",
     "output_type": "stream",
     "text": [
      "100%|██████████| 20/20 [00:33<00:00,  1.66s/it]\n"
     ]
    },
    {
     "name": "stdout",
     "output_type": "stream",
     "text": [
      "0 errors found\n",
      "\u001b[KWebscraping for company: BSX (41/215)"
     ]
    },
    {
     "name": "stderr",
     "output_type": "stream",
     "text": [
      "100%|██████████| 20/20 [00:35<00:00,  1.75s/it]\n"
     ]
    },
    {
     "name": "stdout",
     "output_type": "stream",
     "text": [
      "2 errors found\n",
      "\u001b[KWebscraping for company: ADBE (42/215)"
     ]
    },
    {
     "name": "stderr",
     "output_type": "stream",
     "text": [
      "100%|██████████| 20/20 [00:32<00:00,  1.63s/it]"
     ]
    },
    {
     "name": "stdout",
     "output_type": "stream",
     "text": [
      "0 errors found\n",
      "\u001b[KWebscraping for company: SYK (43/215)"
     ]
    },
    {
     "name": "stderr",
     "output_type": "stream",
     "text": [
      "\n",
      "100%|██████████| 20/20 [00:20<00:00,  1.04s/it]"
     ]
    },
    {
     "name": "stdout",
     "output_type": "stream",
     "text": [
      "6 errors found\n",
      "\u001b[KWebscraping for company: ETN (44/215)"
     ]
    },
    {
     "name": "stderr",
     "output_type": "stream",
     "text": [
      "\n",
      "100%|██████████| 13/13 [00:23<00:00,  1.77s/it]"
     ]
    },
    {
     "name": "stdout",
     "output_type": "stream",
     "text": [
      "0 errors found\n",
      "\u001b[KWebscraping for company: NEE (45/215)"
     ]
    },
    {
     "name": "stderr",
     "output_type": "stream",
     "text": [
      "\n",
      "100%|██████████| 20/20 [00:57<00:00,  2.89s/it]"
     ]
    },
    {
     "name": "stdout",
     "output_type": "stream",
     "text": [
      "3 errors found\n",
      "\u001b[KWebscraping for company: AMAT (46/215)"
     ]
    },
    {
     "name": "stderr",
     "output_type": "stream",
     "text": [
      "\n",
      "100%|██████████| 20/20 [00:30<00:00,  1.55s/it]\n"
     ]
    },
    {
     "name": "stdout",
     "output_type": "stream",
     "text": [
      "1 errors found\n",
      "\u001b[KWebscraping for company: DHR (47/215)"
     ]
    },
    {
     "name": "stderr",
     "output_type": "stream",
     "text": [
      "100%|██████████| 20/20 [00:27<00:00,  1.35s/it]\n"
     ]
    },
    {
     "name": "stdout",
     "output_type": "stream",
     "text": [
      "0 errors found\n",
      "\u001b[KWebscraping for company: PGR (48/215)"
     ]
    },
    {
     "name": "stderr",
     "output_type": "stream",
     "text": [
      "100%|██████████| 20/20 [00:14<00:00,  1.42it/s]"
     ]
    },
    {
     "name": "stdout",
     "output_type": "stream",
     "text": [
      "10 errors found\n",
      "\u001b[KWebscraping for company: DE (49/215)"
     ]
    },
    {
     "name": "stderr",
     "output_type": "stream",
     "text": [
      "\n",
      "100%|██████████| 20/20 [00:50<00:00,  2.52s/it]"
     ]
    },
    {
     "name": "stdout",
     "output_type": "stream",
     "text": [
      "9 errors found\n",
      "\u001b[KWebscraping for company: HON (50/215)"
     ]
    },
    {
     "name": "stderr",
     "output_type": "stream",
     "text": [
      "\n",
      "100%|██████████| 20/20 [00:43<00:00,  2.17s/it]\n"
     ]
    },
    {
     "name": "stdout",
     "output_type": "stream",
     "text": [
      "0 errors found\n",
      "\u001b[KWebscraping for company: GILD (51/215)"
     ]
    },
    {
     "name": "stderr",
     "output_type": "stream",
     "text": [
      "100%|██████████| 20/20 [00:33<00:00,  1.66s/it]\n"
     ]
    },
    {
     "name": "stdout",
     "output_type": "stream",
     "text": [
      "0 errors found\n",
      "\u001b[KWebscraping for company: TJX (52/215)"
     ]
    },
    {
     "name": "stderr",
     "output_type": "stream",
     "text": [
      "100%|██████████| 21/21 [00:22<00:00,  1.09s/it]\n"
     ]
    },
    {
     "name": "stdout",
     "output_type": "stream",
     "text": [
      "10 errors found\n",
      "\u001b[KWebscraping for company: COF (53/215)"
     ]
    },
    {
     "name": "stderr",
     "output_type": "stream",
     "text": [
      "100%|██████████| 20/20 [01:58<00:00,  5.92s/it]\n"
     ]
    },
    {
     "name": "stdout",
     "output_type": "stream",
     "text": [
      "0 errors found\n",
      "\u001b[KWebscraping for company: PFE (54/215)"
     ]
    },
    {
     "name": "stderr",
     "output_type": "stream",
     "text": [
      "100%|██████████| 20/20 [00:18<00:00,  1.07it/s]"
     ]
    },
    {
     "name": "stdout",
     "output_type": "stream",
     "text": [
      "8 errors found\n",
      "\u001b[KWebscraping for company: UNP (55/215)"
     ]
    },
    {
     "name": "stderr",
     "output_type": "stream",
     "text": [
      "\n",
      "100%|██████████| 20/20 [00:25<00:00,  1.30s/it]\n"
     ]
    },
    {
     "name": "stdout",
     "output_type": "stream",
     "text": [
      "0 errors found\n",
      "\u001b[KWebscraping for company: ADP (56/215)"
     ]
    },
    {
     "name": "stderr",
     "output_type": "stream",
     "text": [
      "100%|██████████| 20/20 [00:26<00:00,  1.33s/it]"
     ]
    },
    {
     "name": "stdout",
     "output_type": "stream",
     "text": [
      "6 errors found\n",
      "\u001b[KWebscraping for company: LOW (57/215)"
     ]
    },
    {
     "name": "stderr",
     "output_type": "stream",
     "text": [
      "\n",
      "100%|██████████| 21/21 [00:20<00:00,  1.02it/s]"
     ]
    },
    {
     "name": "stdout",
     "output_type": "stream",
     "text": [
      "2 errors found\n",
      "\u001b[KWebscraping for company: CMCSA (58/215)"
     ]
    },
    {
     "name": "stderr",
     "output_type": "stream",
     "text": [
      "\n",
      "100%|██████████| 20/20 [00:38<00:00,  1.94s/it]\n"
     ]
    },
    {
     "name": "stdout",
     "output_type": "stream",
     "text": [
      "0 errors found\n",
      "\u001b[KWebscraping for company: MU (59/215)"
     ]
    },
    {
     "name": "stderr",
     "output_type": "stream",
     "text": [
      "100%|██████████| 20/20 [00:27<00:00,  1.39s/it]"
     ]
    },
    {
     "name": "stdout",
     "output_type": "stream",
     "text": [
      "5 errors found\n",
      "\u001b[KWebscraping for company: COP (60/215)"
     ]
    },
    {
     "name": "stderr",
     "output_type": "stream",
     "text": [
      "\n",
      "100%|██████████| 20/20 [01:13<00:00,  3.68s/it]\n"
     ]
    },
    {
     "name": "stdout",
     "output_type": "stream",
     "text": [
      "0 errors found\n",
      "\u001b[KWebscraping for company: KLAC (61/215)"
     ]
    },
    {
     "name": "stderr",
     "output_type": "stream",
     "text": [
      "100%|██████████| 20/20 [00:29<00:00,  1.50s/it]\n"
     ]
    },
    {
     "name": "stdout",
     "output_type": "stream",
     "text": [
      "1 errors found\n",
      "\u001b[KWebscraping for company: MDT (62/215)"
     ]
    },
    {
     "name": "stderr",
     "output_type": "stream",
     "text": [
      "100%|██████████| 11/11 [00:30<00:00,  2.74s/it]\n"
     ]
    },
    {
     "name": "stdout",
     "output_type": "stream",
     "text": [
      "0 errors found\n",
      "\u001b[KWebscraping for company: ADI (63/215)"
     ]
    },
    {
     "name": "stderr",
     "output_type": "stream",
     "text": [
      "100%|██████████| 20/20 [00:27<00:00,  1.35s/it]\n"
     ]
    },
    {
     "name": "stdout",
     "output_type": "stream",
     "text": [
      "3 errors found\n",
      "\u001b[KWebscraping for company: NKE (64/215)"
     ]
    },
    {
     "name": "stderr",
     "output_type": "stream",
     "text": [
      "100%|██████████| 21/21 [00:29<00:00,  1.41s/it]\n"
     ]
    },
    {
     "name": "stdout",
     "output_type": "stream",
     "text": [
      "1 errors found\n",
      "\u001b[KWebscraping for company: CB (65/215)"
     ]
    },
    {
     "name": "stderr",
     "output_type": "stream",
     "text": [
      "100%|██████████| 20/20 [01:52<00:00,  5.63s/it]\n"
     ]
    },
    {
     "name": "stdout",
     "output_type": "stream",
     "text": [
      "0 errors found\n",
      "\u001b[KWebscraping for company: MO (66/215)"
     ]
    },
    {
     "name": "stderr",
     "output_type": "stream",
     "text": [
      "100%|██████████| 20/20 [00:32<00:00,  1.64s/it]\n"
     ]
    },
    {
     "name": "stdout",
     "output_type": "stream",
     "text": [
      "0 errors found\n",
      "\u001b[KWebscraping for company: SO (67/215)"
     ]
    },
    {
     "name": "stderr",
     "output_type": "stream",
     "text": [
      "100%|██████████| 20/20 [05:19<00:00, 16.00s/it]\n"
     ]
    },
    {
     "name": "stdout",
     "output_type": "stream",
     "text": [
      "0 errors found\n",
      "\u001b[KWebscraping for company: SBUX (68/215)"
     ]
    },
    {
     "name": "stderr",
     "output_type": "stream",
     "text": [
      "100%|██████████| 20/20 [00:36<00:00,  1.83s/it]\n"
     ]
    },
    {
     "name": "stdout",
     "output_type": "stream",
     "text": [
      "0 errors found\n",
      "\u001b[KWebscraping for company: PLD (69/215)"
     ]
    },
    {
     "name": "stderr",
     "output_type": "stream",
     "text": [
      "100%|██████████| 20/20 [01:42<00:00,  5.14s/it]\n"
     ]
    },
    {
     "name": "stdout",
     "output_type": "stream",
     "text": [
      "1 errors found\n",
      "\u001b[KWebscraping for company: MMC (70/215)"
     ]
    },
    {
     "name": "stderr",
     "output_type": "stream",
     "text": [
      "100%|██████████| 20/20 [00:37<00:00,  1.89s/it]\n"
     ]
    },
    {
     "name": "stdout",
     "output_type": "stream",
     "text": [
      "2 errors found\n",
      "\u001b[KWebscraping for company: LMT (71/215)"
     ]
    },
    {
     "name": "stderr",
     "output_type": "stream",
     "text": [
      "100%|██████████| 20/20 [00:27<00:00,  1.35s/it]\n"
     ]
    },
    {
     "name": "stdout",
     "output_type": "stream",
     "text": [
      "0 errors found\n",
      "\u001b[KWebscraping for company: DUK (72/215)"
     ]
    },
    {
     "name": "stderr",
     "output_type": "stream",
     "text": [
      "100%|██████████| 19/19 [03:46<00:00, 11.94s/it]\n"
     ]
    },
    {
     "name": "stdout",
     "output_type": "stream",
     "text": [
      "2 errors found\n",
      "\u001b[KWebscraping for company: PH (73/215)"
     ]
    },
    {
     "name": "stderr",
     "output_type": "stream",
     "text": [
      "100%|██████████| 20/20 [00:18<00:00,  1.11it/s]"
     ]
    },
    {
     "name": "stdout",
     "output_type": "stream",
     "text": [
      "7 errors found\n",
      "\u001b[KWebscraping for company: MCO (74/215)"
     ]
    },
    {
     "name": "stderr",
     "output_type": "stream",
     "text": [
      "\n",
      "100%|██████████| 20/20 [00:39<00:00,  1.96s/it]\n"
     ]
    },
    {
     "name": "stdout",
     "output_type": "stream",
     "text": [
      "3 errors found\n",
      "\u001b[KWebscraping for company: WM (75/215)"
     ]
    },
    {
     "name": "stderr",
     "output_type": "stream",
     "text": [
      "100%|██████████| 20/20 [00:40<00:00,  2.04s/it]\n"
     ]
    },
    {
     "name": "stdout",
     "output_type": "stream",
     "text": [
      "0 errors found\n",
      "\u001b[KWebscraping for company: CTAS (76/215)"
     ]
    },
    {
     "name": "stderr",
     "output_type": "stream",
     "text": [
      "100%|██████████| 21/21 [00:32<00:00,  1.56s/it]\n"
     ]
    },
    {
     "name": "stdout",
     "output_type": "stream",
     "text": [
      "3 errors found\n",
      "\u001b[KWebscraping for company: BMY (77/215)"
     ]
    },
    {
     "name": "stderr",
     "output_type": "stream",
     "text": [
      "100%|██████████| 20/20 [00:48<00:00,  2.44s/it]\n"
     ]
    },
    {
     "name": "stdout",
     "output_type": "stream",
     "text": [
      "8 errors found\n",
      "\u001b[KWebscraping for company: MCK (78/215)"
     ]
    },
    {
     "name": "stderr",
     "output_type": "stream",
     "text": [
      "100%|██████████| 21/21 [00:33<00:00,  1.60s/it]\n"
     ]
    },
    {
     "name": "stdout",
     "output_type": "stream",
     "text": [
      "1 errors found\n",
      "\u001b[KWebscraping for company: INTC (79/215)"
     ]
    },
    {
     "name": "stderr",
     "output_type": "stream",
     "text": [
      "100%|██████████| 20/20 [00:42<00:00,  2.15s/it]\n"
     ]
    },
    {
     "name": "stdout",
     "output_type": "stream",
     "text": [
      "5 errors found\n",
      "\u001b[KWebscraping for company: GD (80/215)"
     ]
    },
    {
     "name": "stderr",
     "output_type": "stream",
     "text": [
      "100%|██████████| 20/20 [00:31<00:00,  1.60s/it]\n"
     ]
    },
    {
     "name": "stdout",
     "output_type": "stream",
     "text": [
      "0 errors found\n",
      "\u001b[KWebscraping for company: SHW (81/215)"
     ]
    },
    {
     "name": "stderr",
     "output_type": "stream",
     "text": [
      "100%|██████████| 20/20 [00:14<00:00,  1.39it/s]"
     ]
    },
    {
     "name": "stdout",
     "output_type": "stream",
     "text": [
      "2 errors found\n",
      "\u001b[KWebscraping for company: NOC (82/215)"
     ]
    },
    {
     "name": "stderr",
     "output_type": "stream",
     "text": [
      "\n",
      "100%|██████████| 20/20 [00:30<00:00,  1.52s/it]\n"
     ]
    },
    {
     "name": "stdout",
     "output_type": "stream",
     "text": [
      "0 errors found\n",
      "\u001b[KWebscraping for company: EMR (83/215)"
     ]
    },
    {
     "name": "stderr",
     "output_type": "stream",
     "text": [
      "100%|██████████| 20/20 [00:14<00:00,  1.41it/s]"
     ]
    },
    {
     "name": "stdout",
     "output_type": "stream",
     "text": [
      "9 errors found\n",
      "\u001b[KWebscraping for company: MMM (84/215)"
     ]
    },
    {
     "name": "stderr",
     "output_type": "stream",
     "text": [
      "\n",
      "100%|██████████| 20/20 [00:53<00:00,  2.66s/it]\n"
     ]
    },
    {
     "name": "stdout",
     "output_type": "stream",
     "text": [
      "0 errors found\n",
      "\u001b[KWebscraping for company: CVS (85/215)"
     ]
    },
    {
     "name": "stderr",
     "output_type": "stream",
     "text": [
      "100%|██████████| 21/21 [00:18<00:00,  1.12it/s]"
     ]
    },
    {
     "name": "stdout",
     "output_type": "stream",
     "text": [
      "1 errors found\n",
      "\u001b[KWebscraping for company: AON (86/215)"
     ]
    },
    {
     "name": "stderr",
     "output_type": "stream",
     "text": [
      "\n",
      "100%|██████████| 20/20 [00:45<00:00,  2.28s/it]\n"
     ]
    },
    {
     "name": "stdout",
     "output_type": "stream",
     "text": [
      "1 errors found\n",
      "\u001b[KWebscraping for company: PNC (87/215)"
     ]
    },
    {
     "name": "stderr",
     "output_type": "stream",
     "text": [
      "100%|██████████| 20/20 [01:35<00:00,  4.78s/it]\n"
     ]
    },
    {
     "name": "stdout",
     "output_type": "stream",
     "text": [
      "0 errors found\n",
      "\u001b[KWebscraping for company: ITW (88/215)"
     ]
    },
    {
     "name": "stderr",
     "output_type": "stream",
     "text": [
      "100%|██████████| 20/20 [00:28<00:00,  1.43s/it]"
     ]
    },
    {
     "name": "stdout",
     "output_type": "stream",
     "text": [
      "5 errors found\n",
      "\u001b[KWebscraping for company: ECL (89/215)"
     ]
    },
    {
     "name": "stderr",
     "output_type": "stream",
     "text": [
      "\n",
      "100%|██████████| 20/20 [00:37<00:00,  1.89s/it]"
     ]
    },
    {
     "name": "stdout",
     "output_type": "stream",
     "text": [
      "3 errors found\n",
      "\u001b[KWebscraping for company: MSI (90/215)"
     ]
    },
    {
     "name": "stderr",
     "output_type": "stream",
     "text": [
      "\n",
      "100%|██████████| 20/20 [00:36<00:00,  1.84s/it]\n"
     ]
    },
    {
     "name": "stdout",
     "output_type": "stream",
     "text": [
      "7 errors found\n",
      "\u001b[KWebscraping for company: UPS (91/215)"
     ]
    },
    {
     "name": "stderr",
     "output_type": "stream",
     "text": [
      "100%|██████████| 20/20 [00:43<00:00,  2.17s/it]"
     ]
    },
    {
     "name": "stdout",
     "output_type": "stream",
     "text": [
      "3 errors found\n",
      "\u001b[KWebscraping for company: WMB (92/215)"
     ]
    },
    {
     "name": "stderr",
     "output_type": "stream",
     "text": [
      "\n",
      "100%|██████████| 20/20 [00:53<00:00,  2.66s/it]\n"
     ]
    },
    {
     "name": "stdout",
     "output_type": "stream",
     "text": [
      "0 errors found\n",
      "\u001b[KWebscraping for company: CI (93/215)"
     ]
    },
    {
     "name": "stderr",
     "output_type": "stream",
     "text": [
      "100%|██████████| 7/7 [00:15<00:00,  2.28s/it]\n"
     ]
    },
    {
     "name": "stdout",
     "output_type": "stream",
     "text": [
      "1 errors found\n",
      "\u001b[KWebscraping for company: MAR (94/215)"
     ]
    },
    {
     "name": "stderr",
     "output_type": "stream",
     "text": [
      "100%|██████████| 20/20 [00:33<00:00,  1.67s/it]\n"
     ]
    },
    {
     "name": "stdout",
     "output_type": "stream",
     "text": [
      "0 errors found\n",
      "\u001b[KWebscraping for company: BK (95/215)"
     ]
    },
    {
     "name": "stderr",
     "output_type": "stream",
     "text": [
      "100%|██████████| 18/18 [00:08<00:00,  2.14it/s]"
     ]
    },
    {
     "name": "stdout",
     "output_type": "stream",
     "text": [
      "1 errors found\n",
      "\u001b[KWebscraping for company: USB (96/215)"
     ]
    },
    {
     "name": "stderr",
     "output_type": "stream",
     "text": [
      "\n",
      "100%|██████████| 20/20 [00:14<00:00,  1.36it/s]\n"
     ]
    },
    {
     "name": "stdout",
     "output_type": "stream",
     "text": [
      "15 errors found\n",
      "\u001b[KWebscraping for company: JCI (97/215)"
     ]
    },
    {
     "name": "stderr",
     "output_type": "stream",
     "text": [
      "100%|██████████| 20/20 [00:50<00:00,  2.50s/it]\n"
     ]
    },
    {
     "name": "stdout",
     "output_type": "stream",
     "text": [
      "3 errors found\n",
      "\u001b[KWebscraping for company: CL (98/215)"
     ]
    },
    {
     "name": "stderr",
     "output_type": "stream",
     "text": [
      "100%|██████████| 20/20 [00:35<00:00,  1.78s/it]"
     ]
    },
    {
     "name": "stdout",
     "output_type": "stream",
     "text": [
      "8 errors found\n",
      "\u001b[KWebscraping for company: NEM (99/215)"
     ]
    },
    {
     "name": "stderr",
     "output_type": "stream",
     "text": [
      "\n",
      "100%|██████████| 20/20 [01:16<00:00,  3.82s/it]"
     ]
    },
    {
     "name": "stdout",
     "output_type": "stream",
     "text": [
      "16 errors found\n",
      "\u001b[KWebscraping for company: CSX (100/215)"
     ]
    },
    {
     "name": "stderr",
     "output_type": "stream",
     "text": [
      "\n",
      "100%|██████████| 20/20 [00:35<00:00,  1.77s/it]"
     ]
    },
    {
     "name": "stdout",
     "output_type": "stream",
     "text": [
      "0 errors found\n",
      "\u001b[KWebscraping for company: EOG (101/215)"
     ]
    },
    {
     "name": "stderr",
     "output_type": "stream",
     "text": [
      "\n",
      "100%|██████████| 20/20 [00:34<00:00,  1.72s/it]"
     ]
    },
    {
     "name": "stdout",
     "output_type": "stream",
     "text": [
      "11 errors found\n",
      "\u001b[KWebscraping for company: ADSK (102/215)"
     ]
    },
    {
     "name": "stderr",
     "output_type": "stream",
     "text": [
      "\n",
      "100%|██████████| 21/21 [00:32<00:00,  1.54s/it]\n"
     ]
    },
    {
     "name": "stdout",
     "output_type": "stream",
     "text": [
      "1 errors found\n",
      "\u001b[KWebscraping for company: APD (103/215)"
     ]
    },
    {
     "name": "stderr",
     "output_type": "stream",
     "text": [
      "100%|██████████| 20/20 [00:33<00:00,  1.70s/it]\n"
     ]
    },
    {
     "name": "stdout",
     "output_type": "stream",
     "text": [
      "1 errors found\n",
      "\u001b[KWebscraping for company: AZO (104/215)"
     ]
    },
    {
     "name": "stderr",
     "output_type": "stream",
     "text": [
      "100%|██████████| 20/20 [00:20<00:00,  1.02s/it]\n"
     ]
    },
    {
     "name": "stdout",
     "output_type": "stream",
     "text": [
      "3 errors found\n",
      "\u001b[KWebscraping for company: NSC (105/215)"
     ]
    },
    {
     "name": "stderr",
     "output_type": "stream",
     "text": [
      "100%|██████████| 20/20 [00:26<00:00,  1.32s/it]\n"
     ]
    },
    {
     "name": "stdout",
     "output_type": "stream",
     "text": [
      "7 errors found\n",
      "\u001b[KWebscraping for company: SPG (106/215)"
     ]
    },
    {
     "name": "stderr",
     "output_type": "stream",
     "text": [
      "100%|██████████| 20/20 [00:57<00:00,  2.87s/it]"
     ]
    },
    {
     "name": "stdout",
     "output_type": "stream",
     "text": [
      "3 errors found\n",
      "\u001b[KWebscraping for company: AEP (107/215)"
     ]
    },
    {
     "name": "stderr",
     "output_type": "stream",
     "text": [
      "\n",
      "100%|██████████| 20/20 [00:50<00:00,  2.53s/it]"
     ]
    },
    {
     "name": "stdout",
     "output_type": "stream",
     "text": [
      "7 errors found\n",
      "\u001b[KWebscraping for company: TRV (108/215)"
     ]
    },
    {
     "name": "stderr",
     "output_type": "stream",
     "text": [
      "\n",
      "100%|██████████| 20/20 [01:22<00:00,  4.12s/it]\n"
     ]
    },
    {
     "name": "stdout",
     "output_type": "stream",
     "text": [
      "0 errors found\n",
      "\u001b[KWebscraping for company: FCX (109/215)"
     ]
    },
    {
     "name": "stderr",
     "output_type": "stream",
     "text": [
      "100%|██████████| 20/20 [01:58<00:00,  5.90s/it]\n"
     ]
    },
    {
     "name": "stdout",
     "output_type": "stream",
     "text": [
      "0 errors found\n",
      "\u001b[KWebscraping for company: ALL (110/215)"
     ]
    },
    {
     "name": "stderr",
     "output_type": "stream",
     "text": [
      "100%|██████████| 20/20 [01:49<00:00,  5.46s/it]\n"
     ]
    },
    {
     "name": "stdout",
     "output_type": "stream",
     "text": [
      "5 errors found\n",
      "\u001b[KWebscraping for company: GLW (111/215)"
     ]
    },
    {
     "name": "stderr",
     "output_type": "stream",
     "text": [
      "100%|██████████| 20/20 [00:43<00:00,  2.15s/it]\n"
     ]
    },
    {
     "name": "stdout",
     "output_type": "stream",
     "text": [
      "16 errors found\n",
      "\u001b[KWebscraping for company: AFL (112/215)"
     ]
    },
    {
     "name": "stderr",
     "output_type": "stream",
     "text": [
      "100%|██████████| 20/20 [01:29<00:00,  4.50s/it]\n"
     ]
    },
    {
     "name": "stdout",
     "output_type": "stream",
     "text": [
      "0 errors found\n",
      "\u001b[KWebscraping for company: SRE (113/215)"
     ]
    },
    {
     "name": "stderr",
     "output_type": "stream",
     "text": [
      "100%|██████████| 20/20 [00:48<00:00,  2.44s/it]\n"
     ]
    },
    {
     "name": "stdout",
     "output_type": "stream",
     "text": [
      "11 errors found\n",
      "\u001b[KWebscraping for company: FDX (114/215)"
     ]
    },
    {
     "name": "stderr",
     "output_type": "stream",
     "text": [
      "100%|██████████| 21/21 [00:42<00:00,  2.03s/it]\n"
     ]
    },
    {
     "name": "stdout",
     "output_type": "stream",
     "text": [
      "1 errors found\n",
      "\u001b[KWebscraping for company: PAYX (115/215)"
     ]
    },
    {
     "name": "stderr",
     "output_type": "stream",
     "text": [
      "100%|██████████| 21/21 [00:25<00:00,  1.23s/it]"
     ]
    },
    {
     "name": "stdout",
     "output_type": "stream",
     "text": [
      "1 errors found\n",
      "\u001b[KWebscraping for company: PCAR (116/215)"
     ]
    },
    {
     "name": "stderr",
     "output_type": "stream",
     "text": [
      "\n",
      "100%|██████████| 20/20 [00:28<00:00,  1.40s/it]"
     ]
    },
    {
     "name": "stdout",
     "output_type": "stream",
     "text": [
      "8 errors found\n",
      "\u001b[KWebscraping for company: BDX (117/215)"
     ]
    },
    {
     "name": "stderr",
     "output_type": "stream",
     "text": [
      "\n",
      "100%|██████████| 20/20 [00:24<00:00,  1.21s/it]\n"
     ]
    },
    {
     "name": "stdout",
     "output_type": "stream",
     "text": [
      "4 errors found\n",
      "\u001b[KWebscraping for company: MET (118/215)"
     ]
    },
    {
     "name": "stderr",
     "output_type": "stream",
     "text": [
      "100%|██████████| 20/20 [03:19<00:00,  9.98s/it]\n"
     ]
    },
    {
     "name": "stdout",
     "output_type": "stream",
     "text": [
      "1 errors found\n",
      "\u001b[KWebscraping for company: CMI (119/215)"
     ]
    },
    {
     "name": "stderr",
     "output_type": "stream",
     "text": [
      "100%|██████████| 20/20 [00:45<00:00,  2.27s/it]\n"
     ]
    },
    {
     "name": "stdout",
     "output_type": "stream",
     "text": [
      "0 errors found\n",
      "\u001b[KWebscraping for company: SLB (120/215)"
     ]
    },
    {
     "name": "stderr",
     "output_type": "stream",
     "text": [
      "100%|██████████| 20/20 [00:46<00:00,  2.31s/it]\n"
     ]
    },
    {
     "name": "stdout",
     "output_type": "stream",
     "text": [
      "0 errors found\n",
      "\u001b[KWebscraping for company: GWW (121/215)"
     ]
    },
    {
     "name": "stderr",
     "output_type": "stream",
     "text": [
      "100%|██████████| 20/20 [00:22<00:00,  1.13s/it]\n"
     ]
    },
    {
     "name": "stdout",
     "output_type": "stream",
     "text": [
      "9 errors found\n",
      "\u001b[KWebscraping for company: D (122/215)"
     ]
    },
    {
     "name": "stderr",
     "output_type": "stream",
     "text": [
      "100%|██████████| 20/20 [01:28<00:00,  4.42s/it]\n"
     ]
    },
    {
     "name": "stdout",
     "output_type": "stream",
     "text": [
      "1 errors found\n",
      "\u001b[KWebscraping for company: KR (123/215)"
     ]
    },
    {
     "name": "stderr",
     "output_type": "stream",
     "text": [
      "100%|██████████| 21/21 [00:38<00:00,  1.85s/it]\n"
     ]
    },
    {
     "name": "stdout",
     "output_type": "stream",
     "text": [
      "15 errors found\n",
      "\u001b[KWebscraping for company: TGT (124/215)"
     ]
    },
    {
     "name": "stderr",
     "output_type": "stream",
     "text": [
      "100%|██████████| 21/21 [00:27<00:00,  1.32s/it]"
     ]
    },
    {
     "name": "stdout",
     "output_type": "stream",
     "text": [
      "2 errors found\n",
      "\u001b[KWebscraping for company: AIG (125/215)"
     ]
    },
    {
     "name": "stderr",
     "output_type": "stream",
     "text": [
      "\n",
      "100%|██████████| 20/20 [02:53<00:00,  8.68s/it]\n"
     ]
    },
    {
     "name": "stdout",
     "output_type": "stream",
     "text": [
      "2 errors found\n",
      "\u001b[KWebscraping for company: EXC (126/215)"
     ]
    },
    {
     "name": "stderr",
     "output_type": "stream",
     "text": [
      "100%|██████████| 20/20 [05:03<00:00, 15.17s/it]\n"
     ]
    },
    {
     "name": "stdout",
     "output_type": "stream",
     "text": [
      "0 errors found\n",
      "\u001b[KWebscraping for company: PEG (127/215)"
     ]
    },
    {
     "name": "stderr",
     "output_type": "stream",
     "text": [
      "100%|██████████| 20/20 [01:44<00:00,  5.24s/it]\n"
     ]
    },
    {
     "name": "stdout",
     "output_type": "stream",
     "text": [
      "6 errors found\n",
      "\u001b[KWebscraping for company: F (128/215)"
     ]
    },
    {
     "name": "stderr",
     "output_type": "stream",
     "text": [
      "100%|██████████| 20/20 [01:20<00:00,  4.05s/it]\n"
     ]
    },
    {
     "name": "stdout",
     "output_type": "stream",
     "text": [
      "6 errors found\n",
      "\u001b[KWebscraping for company: OXY (129/215)"
     ]
    },
    {
     "name": "stderr",
     "output_type": "stream",
     "text": [
      "100%|██████████| 20/20 [00:55<00:00,  2.79s/it]\n"
     ]
    },
    {
     "name": "stdout",
     "output_type": "stream",
     "text": [
      "5 errors found\n",
      "\u001b[KWebscraping for company: VLO (130/215)"
     ]
    },
    {
     "name": "stderr",
     "output_type": "stream",
     "text": [
      "100%|██████████| 20/20 [00:51<00:00,  2.57s/it]\n"
     ]
    },
    {
     "name": "stdout",
     "output_type": "stream",
     "text": [
      "0 errors found\n",
      "\u001b[KWebscraping for company: EBAY (131/215)"
     ]
    },
    {
     "name": "stderr",
     "output_type": "stream",
     "text": [
      "100%|██████████| 20/20 [00:36<00:00,  1.81s/it]\n"
     ]
    },
    {
     "name": "stdout",
     "output_type": "stream",
     "text": [
      "5 errors found\n",
      "\u001b[KWebscraping for company: XEL (132/215)"
     ]
    },
    {
     "name": "stderr",
     "output_type": "stream",
     "text": [
      "100%|██████████| 20/20 [01:07<00:00,  3.39s/it]\n"
     ]
    },
    {
     "name": "stdout",
     "output_type": "stream",
     "text": [
      "0 errors found\n",
      "\u001b[KWebscraping for company: KMB (133/215)"
     ]
    },
    {
     "name": "stderr",
     "output_type": "stream",
     "text": [
      "100%|██████████| 20/20 [00:29<00:00,  1.47s/it]\n"
     ]
    },
    {
     "name": "stdout",
     "output_type": "stream",
     "text": [
      "0 errors found\n",
      "\u001b[KWebscraping for company: CCL (134/215)"
     ]
    },
    {
     "name": "stderr",
     "output_type": "stream",
     "text": [
      "100%|██████████| 20/20 [00:14<00:00,  1.36it/s]"
     ]
    },
    {
     "name": "stdout",
     "output_type": "stream",
     "text": [
      "6 errors found\n",
      "\u001b[KWebscraping for company: YUM (135/215)"
     ]
    },
    {
     "name": "stderr",
     "output_type": "stream",
     "text": [
      "\n",
      "100%|██████████| 20/20 [00:36<00:00,  1.85s/it]"
     ]
    },
    {
     "name": "stdout",
     "output_type": "stream",
     "text": [
      "7 errors found\n",
      "\u001b[KWebscraping for company: ETR (136/215)"
     ]
    },
    {
     "name": "stderr",
     "output_type": "stream",
     "text": [
      "\n",
      "100%|██████████| 20/20 [05:07<00:00, 15.36s/it]\n"
     ]
    },
    {
     "name": "stdout",
     "output_type": "stream",
     "text": [
      "16 errors found\n",
      "\u001b[KWebscraping for company: ROK (137/215)"
     ]
    },
    {
     "name": "stderr",
     "output_type": "stream",
     "text": [
      "100%|██████████| 20/20 [00:28<00:00,  1.43s/it]"
     ]
    },
    {
     "name": "stdout",
     "output_type": "stream",
     "text": [
      "3 errors found\n",
      "\u001b[KWebscraping for company: EA (138/215)"
     ]
    },
    {
     "name": "stderr",
     "output_type": "stream",
     "text": [
      "\n",
      "100%|██████████| 21/21 [00:28<00:00,  1.36s/it]\n"
     ]
    },
    {
     "name": "stdout",
     "output_type": "stream",
     "text": [
      "1 errors found\n",
      "\u001b[KWebscraping for company: SYY (139/215)"
     ]
    },
    {
     "name": "stderr",
     "output_type": "stream",
     "text": [
      "100%|██████████| 20/20 [00:36<00:00,  1.84s/it]\n"
     ]
    },
    {
     "name": "stdout",
     "output_type": "stream",
     "text": [
      "6 errors found\n",
      "\u001b[KWebscraping for company: HSY (140/215)"
     ]
    },
    {
     "name": "stderr",
     "output_type": "stream",
     "text": [
      "100%|██████████| 20/20 [00:30<00:00,  1.51s/it]"
     ]
    },
    {
     "name": "stdout",
     "output_type": "stream",
     "text": [
      "7 errors found\n",
      "\u001b[KWebscraping for company: CAH (141/215)"
     ]
    },
    {
     "name": "stderr",
     "output_type": "stream",
     "text": [
      "\n",
      "100%|██████████| 20/20 [00:26<00:00,  1.33s/it]\n"
     ]
    },
    {
     "name": "stdout",
     "output_type": "stream",
     "text": [
      "11 errors found\n",
      "\u001b[KWebscraping for company: ED (142/215)"
     ]
    },
    {
     "name": "stderr",
     "output_type": "stream",
     "text": [
      "100%|██████████| 20/20 [00:59<00:00,  2.98s/it]\n"
     ]
    },
    {
     "name": "stdout",
     "output_type": "stream",
     "text": [
      "1 errors found\n",
      "\u001b[KWebscraping for company: PRU (143/215)"
     ]
    },
    {
     "name": "stderr",
     "output_type": "stream",
     "text": [
      "100%|██████████| 20/20 [03:02<00:00,  9.10s/it]\n"
     ]
    },
    {
     "name": "stdout",
     "output_type": "stream",
     "text": [
      "0 errors found\n",
      "\u001b[KWebscraping for company: VMC (144/215)"
     ]
    },
    {
     "name": "stderr",
     "output_type": "stream",
     "text": [
      "100%|██████████| 18/18 [00:30<00:00,  1.72s/it]\n"
     ]
    },
    {
     "name": "stdout",
     "output_type": "stream",
     "text": [
      "0 errors found\n",
      "\u001b[KWebscraping for company: HIG (145/215)"
     ]
    },
    {
     "name": "stderr",
     "output_type": "stream",
     "text": [
      "100%|██████████| 20/20 [01:44<00:00,  5.25s/it]\n"
     ]
    },
    {
     "name": "stdout",
     "output_type": "stream",
     "text": [
      "9 errors found\n",
      "\u001b[KWebscraping for company: NUE (146/215)"
     ]
    },
    {
     "name": "stderr",
     "output_type": "stream",
     "text": [
      "100%|██████████| 20/20 [00:15<00:00,  1.33it/s]\n"
     ]
    },
    {
     "name": "stdout",
     "output_type": "stream",
     "text": [
      "0 errors found\n",
      "\u001b[KWebscraping for company: A (147/215)"
     ]
    },
    {
     "name": "stderr",
     "output_type": "stream",
     "text": [
      "100%|██████████| 20/20 [00:34<00:00,  1.74s/it]"
     ]
    },
    {
     "name": "stdout",
     "output_type": "stream",
     "text": [
      "1 errors found\n",
      "\u001b[KWebscraping for company: STT (148/215)"
     ]
    },
    {
     "name": "stderr",
     "output_type": "stream",
     "text": [
      "\n",
      "100%|██████████| 20/20 [01:27<00:00,  4.36s/it]\n"
     ]
    },
    {
     "name": "stdout",
     "output_type": "stream",
     "text": [
      "6 errors found\n",
      "\u001b[KWebscraping for company: MTB (149/215)"
     ]
    },
    {
     "name": "stderr",
     "output_type": "stream",
     "text": [
      "100%|██████████| 20/20 [01:35<00:00,  4.78s/it]\n"
     ]
    },
    {
     "name": "stdout",
     "output_type": "stream",
     "text": [
      "1 errors found\n",
      "\u001b[KWebscraping for company: HUM (150/215)"
     ]
    },
    {
     "name": "stderr",
     "output_type": "stream",
     "text": [
      "100%|██████████| 20/20 [00:40<00:00,  2.03s/it]\n"
     ]
    },
    {
     "name": "stdout",
     "output_type": "stream",
     "text": [
      "3 errors found\n",
      "\u001b[KWebscraping for company: EFX (151/215)"
     ]
    },
    {
     "name": "stderr",
     "output_type": "stream",
     "text": [
      "100%|██████████| 20/20 [00:28<00:00,  1.40s/it]"
     ]
    },
    {
     "name": "stdout",
     "output_type": "stream",
     "text": [
      "4 errors found\n",
      "\u001b[KWebscraping for company: DTE (152/215)"
     ]
    },
    {
     "name": "stderr",
     "output_type": "stream",
     "text": [
      "\n",
      "100%|██████████| 20/20 [01:17<00:00,  3.89s/it]\n"
     ]
    },
    {
     "name": "stdout",
     "output_type": "stream",
     "text": [
      "1 errors found\n",
      "\u001b[KWebscraping for company: K (153/215)"
     ]
    },
    {
     "name": "stderr",
     "output_type": "stream",
     "text": [
      "100%|██████████| 21/21 [00:35<00:00,  1.70s/it]"
     ]
    },
    {
     "name": "stdout",
     "output_type": "stream",
     "text": [
      "12 errors found\n",
      "\u001b[KWebscraping for company: AEE (154/215)"
     ]
    },
    {
     "name": "stderr",
     "output_type": "stream",
     "text": [
      "\n",
      "100%|██████████| 20/20 [01:29<00:00,  4.47s/it]\n"
     ]
    },
    {
     "name": "stdout",
     "output_type": "stream",
     "text": [
      "0 errors found\n",
      "\u001b[KWebscraping for company: GIS (155/215)"
     ]
    },
    {
     "name": "stderr",
     "output_type": "stream",
     "text": [
      "100%|██████████| 21/21 [00:37<00:00,  1.80s/it]\n"
     ]
    },
    {
     "name": "stdout",
     "output_type": "stream",
     "text": [
      "2 errors found\n",
      "\u001b[KWebscraping for company: ADM (156/215)"
     ]
    },
    {
     "name": "stderr",
     "output_type": "stream",
     "text": [
      "100%|██████████| 20/20 [00:37<00:00,  1.88s/it]"
     ]
    },
    {
     "name": "stdout",
     "output_type": "stream",
     "text": [
      "3 errors found\n",
      "\u001b[KWebscraping for company: CNP (157/215)"
     ]
    },
    {
     "name": "stderr",
     "output_type": "stream",
     "text": [
      "\n",
      "100%|██████████| 20/20 [00:47<00:00,  2.39s/it]\n"
     ]
    },
    {
     "name": "stdout",
     "output_type": "stream",
     "text": [
      "6 errors found\n",
      "\u001b[KWebscraping for company: DOV (158/215)"
     ]
    },
    {
     "name": "stderr",
     "output_type": "stream",
     "text": [
      "100%|██████████| 20/20 [00:31<00:00,  1.58s/it]\n"
     ]
    },
    {
     "name": "stdout",
     "output_type": "stream",
     "text": [
      "2 errors found\n",
      "\u001b[KWebscraping for company: NTRS (159/215)"
     ]
    },
    {
     "name": "stderr",
     "output_type": "stream",
     "text": [
      "100%|██████████| 20/20 [1:00:32<00:00, 181.61s/it]\n"
     ]
    },
    {
     "name": "stdout",
     "output_type": "stream",
     "text": [
      "0 errors found\n",
      "\u001b[KWebscraping for company: EQR (160/215)"
     ]
    },
    {
     "name": "stderr",
     "output_type": "stream",
     "text": [
      "100%|██████████| 20/20 [01:41<00:00,  5.10s/it]\n"
     ]
    },
    {
     "name": "stdout",
     "output_type": "stream",
     "text": [
      "0 errors found\n",
      "\u001b[KWebscraping for company: IP (161/215)"
     ]
    },
    {
     "name": "stderr",
     "output_type": "stream",
     "text": [
      "100%|██████████| 20/20 [00:36<00:00,  1.83s/it]\n"
     ]
    },
    {
     "name": "stdout",
     "output_type": "stream",
     "text": [
      "0 errors found\n",
      "\u001b[KWebscraping for company: FE (162/215)"
     ]
    },
    {
     "name": "stderr",
     "output_type": "stream",
     "text": [
      "100%|██████████| 20/20 [01:48<00:00,  5.41s/it]\n"
     ]
    },
    {
     "name": "stdout",
     "output_type": "stream",
     "text": [
      "7 errors found\n",
      "\u001b[KWebscraping for company: HBAN (163/215)"
     ]
    },
    {
     "name": "stderr",
     "output_type": "stream",
     "text": [
      "100%|██████████| 20/20 [01:22<00:00,  4.13s/it]\n"
     ]
    },
    {
     "name": "stdout",
     "output_type": "stream",
     "text": [
      "0 errors found\n",
      "\u001b[KWebscraping for company: PPG (164/215)"
     ]
    },
    {
     "name": "stderr",
     "output_type": "stream",
     "text": [
      "100%|██████████| 20/20 [00:27<00:00,  1.37s/it]\n"
     ]
    },
    {
     "name": "stdout",
     "output_type": "stream",
     "text": [
      "0 errors found\n",
      "\u001b[KWebscraping for company: FOXA (165/215)"
     ]
    },
    {
     "name": "stderr",
     "output_type": "stream",
     "text": [
      "100%|██████████| 6/6 [00:07<00:00,  1.23s/it]"
     ]
    },
    {
     "name": "stdout",
     "output_type": "stream",
     "text": [
      "0 errors found\n",
      "\u001b[KWebscraping for company: DRI (166/215)"
     ]
    },
    {
     "name": "stderr",
     "output_type": "stream",
     "text": [
      "\n",
      "100%|██████████| 21/21 [00:15<00:00,  1.39it/s]\n"
     ]
    },
    {
     "name": "stdout",
     "output_type": "stream",
     "text": [
      "2 errors found\n",
      "\u001b[KWebscraping for company: HPQ (167/215)"
     ]
    },
    {
     "name": "stderr",
     "output_type": "stream",
     "text": [
      "100%|██████████| 20/20 [00:45<00:00,  2.29s/it]\n"
     ]
    },
    {
     "name": "stdout",
     "output_type": "stream",
     "text": [
      "0 errors found\n",
      "\u001b[KWebscraping for company: CINF (168/215)"
     ]
    },
    {
     "name": "stderr",
     "output_type": "stream",
     "text": [
      "100%|██████████| 20/20 [01:12<00:00,  3.63s/it]\n"
     ]
    },
    {
     "name": "stdout",
     "output_type": "stream",
     "text": [
      "5 errors found\n",
      "\u001b[KWebscraping for company: RF (169/215)"
     ]
    },
    {
     "name": "stderr",
     "output_type": "stream",
     "text": [
      "100%|██████████| 20/20 [01:12<00:00,  3.63s/it]\n"
     ]
    },
    {
     "name": "stdout",
     "output_type": "stream",
     "text": [
      "5 errors found\n",
      "\u001b[KWebscraping for company: TROW (170/215)"
     ]
    },
    {
     "name": "stderr",
     "output_type": "stream",
     "text": [
      "100%|██████████| 20/20 [00:18<00:00,  1.09it/s]"
     ]
    },
    {
     "name": "stdout",
     "output_type": "stream",
     "text": [
      "1 errors found\n",
      "\u001b[KWebscraping for company: TPR (171/215)"
     ]
    },
    {
     "name": "stderr",
     "output_type": "stream",
     "text": [
      "\n",
      "100%|██████████| 20/20 [00:22<00:00,  1.12s/it]"
     ]
    },
    {
     "name": "stdout",
     "output_type": "stream",
     "text": [
      "1 errors found\n",
      "\u001b[KWebscraping for company: PHM (172/215)"
     ]
    },
    {
     "name": "stderr",
     "output_type": "stream",
     "text": [
      "\n",
      "100%|██████████| 20/20 [00:29<00:00,  1.46s/it]\n"
     ]
    },
    {
     "name": "stdout",
     "output_type": "stream",
     "text": [
      "0 errors found\n",
      "\u001b[KWebscraping for company: CMS (173/215)"
     ]
    },
    {
     "name": "stderr",
     "output_type": "stream",
     "text": [
      "100%|██████████| 20/20 [00:54<00:00,  2.73s/it]\n"
     ]
    },
    {
     "name": "stdout",
     "output_type": "stream",
     "text": [
      "3 errors found\n",
      "\u001b[KWebscraping for company: LH (174/215)"
     ]
    },
    {
     "name": "stderr",
     "output_type": "stream",
     "text": [
      "100%|██████████| 21/21 [00:26<00:00,  1.27s/it]\n"
     ]
    },
    {
     "name": "stdout",
     "output_type": "stream",
     "text": [
      "5 errors found\n",
      "\u001b[KWebscraping for company: DVN (175/215)"
     ]
    },
    {
     "name": "stderr",
     "output_type": "stream",
     "text": [
      "100%|██████████| 20/20 [00:50<00:00,  2.51s/it]\n"
     ]
    },
    {
     "name": "stdout",
     "output_type": "stream",
     "text": [
      "0 errors found\n",
      "\u001b[KWebscraping for company: NTAP (176/215)"
     ]
    },
    {
     "name": "stderr",
     "output_type": "stream",
     "text": [
      "100%|██████████| 21/21 [00:34<00:00,  1.65s/it]\n"
     ]
    },
    {
     "name": "stdout",
     "output_type": "stream",
     "text": [
      "1 errors found\n",
      "\u001b[KWebscraping for company: KEY (177/215)"
     ]
    },
    {
     "name": "stderr",
     "output_type": "stream",
     "text": [
      "100%|██████████| 20/20 [01:15<00:00,  3.79s/it]\n"
     ]
    },
    {
     "name": "stdout",
     "output_type": "stream",
     "text": [
      "0 errors found\n",
      "\u001b[KWebscraping for company: NI (178/215)"
     ]
    },
    {
     "name": "stderr",
     "output_type": "stream",
     "text": [
      "100%|██████████| 20/20 [00:35<00:00,  1.78s/it]\n"
     ]
    },
    {
     "name": "stdout",
     "output_type": "stream",
     "text": [
      "2 errors found\n",
      "\u001b[KWebscraping for company: EIX (179/215)"
     ]
    },
    {
     "name": "stderr",
     "output_type": "stream",
     "text": [
      "100%|██████████| 20/20 [00:51<00:00,  2.58s/it]\n"
     ]
    },
    {
     "name": "stdout",
     "output_type": "stream",
     "text": [
      "1 errors found\n",
      "\u001b[KWebscraping for company: L (180/215)"
     ]
    },
    {
     "name": "stderr",
     "output_type": "stream",
     "text": [
      "100%|██████████| 20/20 [01:21<00:00,  4.10s/it]\n"
     ]
    },
    {
     "name": "stdout",
     "output_type": "stream",
     "text": [
      "2 errors found\n",
      "\u001b[KWebscraping for company: MKC (181/215)"
     ]
    },
    {
     "name": "stderr",
     "output_type": "stream",
     "text": [
      "100%|██████████| 20/20 [00:21<00:00,  1.06s/it]"
     ]
    },
    {
     "name": "stdout",
     "output_type": "stream",
     "text": [
      "12 errors found\n",
      "\u001b[KWebscraping for company: HAL (182/215)"
     ]
    },
    {
     "name": "stderr",
     "output_type": "stream",
     "text": [
      "\n",
      "100%|██████████| 20/20 [00:23<00:00,  1.19s/it]\n"
     ]
    },
    {
     "name": "stdout",
     "output_type": "stream",
     "text": [
      "5 errors found\n",
      "\u001b[KWebscraping for company: DGX (183/215)"
     ]
    },
    {
     "name": "stderr",
     "output_type": "stream",
     "text": [
      "100%|██████████| 20/20 [00:41<00:00,  2.08s/it]\n"
     ]
    },
    {
     "name": "stdout",
     "output_type": "stream",
     "text": [
      "0 errors found\n",
      "\u001b[KWebscraping for company: BIIB (184/215)"
     ]
    },
    {
     "name": "stderr",
     "output_type": "stream",
     "text": [
      "100%|██████████| 20/20 [00:42<00:00,  2.13s/it]\n"
     ]
    },
    {
     "name": "stdout",
     "output_type": "stream",
     "text": [
      "0 errors found\n",
      "\u001b[KWebscraping for company: IFF (185/215)"
     ]
    },
    {
     "name": "stderr",
     "output_type": "stream",
     "text": [
      "100%|██████████| 20/20 [00:33<00:00,  1.66s/it]\n"
     ]
    },
    {
     "name": "stdout",
     "output_type": "stream",
     "text": [
      "3 errors found\n",
      "\u001b[KWebscraping for company: ZBH (186/215)"
     ]
    },
    {
     "name": "stderr",
     "output_type": "stream",
     "text": [
      "100%|██████████| 20/20 [00:35<00:00,  1.75s/it]\n"
     ]
    },
    {
     "name": "stdout",
     "output_type": "stream",
     "text": [
      "0 errors found\n",
      "\u001b[KWebscraping for company: WY (187/215)"
     ]
    },
    {
     "name": "stderr",
     "output_type": "stream",
     "text": [
      "100%|██████████| 20/20 [00:47<00:00,  2.40s/it]\n"
     ]
    },
    {
     "name": "stdout",
     "output_type": "stream",
     "text": [
      "0 errors found\n",
      "\u001b[KWebscraping for company: GPC (188/215)"
     ]
    },
    {
     "name": "stderr",
     "output_type": "stream",
     "text": [
      "100%|██████████| 20/20 [00:20<00:00,  1.01s/it]"
     ]
    },
    {
     "name": "stdout",
     "output_type": "stream",
     "text": [
      "6 errors found\n",
      "\u001b[KWebscraping for company: PFG (189/215)"
     ]
    },
    {
     "name": "stderr",
     "output_type": "stream",
     "text": [
      "\n",
      "100%|██████████| 20/20 [02:00<00:00,  6.02s/it]\n"
     ]
    },
    {
     "name": "stdout",
     "output_type": "stream",
     "text": [
      "0 errors found\n",
      "\u001b[KWebscraping for company: WAT (190/215)"
     ]
    },
    {
     "name": "stderr",
     "output_type": "stream",
     "text": [
      "100%|██████████| 20/20 [00:26<00:00,  1.31s/it]\n"
     ]
    },
    {
     "name": "stdout",
     "output_type": "stream",
     "text": [
      "0 errors found\n",
      "\u001b[KWebscraping for company: SNA (191/215)"
     ]
    },
    {
     "name": "stderr",
     "output_type": "stream",
     "text": [
      "100%|██████████| 21/21 [00:37<00:00,  1.76s/it]\n"
     ]
    },
    {
     "name": "stdout",
     "output_type": "stream",
     "text": [
      "2 errors found\n",
      "\u001b[KWebscraping for company: LUV (192/215)"
     ]
    },
    {
     "name": "stderr",
     "output_type": "stream",
     "text": [
      "100%|██████████| 20/20 [00:26<00:00,  1.34s/it]\n"
     ]
    },
    {
     "name": "stdout",
     "output_type": "stream",
     "text": [
      "0 errors found\n",
      "\u001b[KWebscraping for company: CLX (193/215)"
     ]
    },
    {
     "name": "stderr",
     "output_type": "stream",
     "text": [
      "100%|██████████| 20/20 [00:09<00:00,  2.17it/s]"
     ]
    },
    {
     "name": "stdout",
     "output_type": "stream",
     "text": [
      "3 errors found\n",
      "\u001b[KWebscraping for company: MAS (194/215)"
     ]
    },
    {
     "name": "stderr",
     "output_type": "stream",
     "text": [
      "\n",
      "100%|██████████| 20/20 [00:27<00:00,  1.35s/it]\n"
     ]
    },
    {
     "name": "stdout",
     "output_type": "stream",
     "text": [
      "1 errors found\n",
      "\u001b[KWebscraping for company: OMC (195/215)"
     ]
    },
    {
     "name": "stderr",
     "output_type": "stream",
     "text": [
      "100%|██████████| 20/20 [00:21<00:00,  1.08s/it]\n"
     ]
    },
    {
     "name": "stdout",
     "output_type": "stream",
     "text": [
      "5 errors found\n",
      "\u001b[KWebscraping for company: TXT (196/215)"
     ]
    },
    {
     "name": "stderr",
     "output_type": "stream",
     "text": [
      "100%|██████████| 21/21 [00:37<00:00,  1.77s/it]\n"
     ]
    },
    {
     "name": "stdout",
     "output_type": "stream",
     "text": [
      "7 errors found\n",
      "\u001b[KWebscraping for company: BBY (197/215)"
     ]
    },
    {
     "name": "stderr",
     "output_type": "stream",
     "text": [
      "100%|██████████| 20/20 [00:39<00:00,  1.98s/it]"
     ]
    },
    {
     "name": "stdout",
     "output_type": "stream",
     "text": [
      "1 errors found\n",
      "\u001b[KWebscraping for company: AVY (198/215)"
     ]
    },
    {
     "name": "stderr",
     "output_type": "stream",
     "text": [
      "\n",
      "100%|██████████| 21/21 [00:15<00:00,  1.34it/s]\n"
     ]
    },
    {
     "name": "stdout",
     "output_type": "stream",
     "text": [
      "2 errors found\n",
      "\u001b[KWebscraping for company: BEN (199/215)"
     ]
    },
    {
     "name": "stderr",
     "output_type": "stream",
     "text": [
      "100%|██████████| 20/20 [00:35<00:00,  1.76s/it]\n"
     ]
    },
    {
     "name": "stdout",
     "output_type": "stream",
     "text": [
      "0 errors found\n",
      "\u001b[KWebscraping for company: BAX (200/215)"
     ]
    },
    {
     "name": "stderr",
     "output_type": "stream",
     "text": [
      "100%|██████████| 20/20 [00:25<00:00,  1.27s/it]\n"
     ]
    },
    {
     "name": "stdout",
     "output_type": "stream",
     "text": [
      "3 errors found\n",
      "\u001b[KWebscraping for company: PNW (201/215)"
     ]
    },
    {
     "name": "stderr",
     "output_type": "stream",
     "text": [
      "100%|██████████| 20/20 [01:01<00:00,  3.09s/it]\n"
     ]
    },
    {
     "name": "stdout",
     "output_type": "stream",
     "text": [
      "0 errors found\n",
      "\u001b[KWebscraping for company: HAS (202/215)"
     ]
    },
    {
     "name": "stderr",
     "output_type": "stream",
     "text": [
      "100%|██████████| 20/20 [00:27<00:00,  1.38s/it]\n"
     ]
    },
    {
     "name": "stdout",
     "output_type": "stream",
     "text": [
      "0 errors found\n",
      "\u001b[KWebscraping for company: SWK (203/215)"
     ]
    },
    {
     "name": "stderr",
     "output_type": "stream",
     "text": [
      "100%|██████████| 21/21 [00:37<00:00,  1.81s/it]\n"
     ]
    },
    {
     "name": "stdout",
     "output_type": "stream",
     "text": [
      "4 errors found\n",
      "\u001b[KWebscraping for company: WBA (204/215)"
     ]
    },
    {
     "name": "stderr",
     "output_type": "stream",
     "text": [
      "100%|██████████| 10/10 [00:15<00:00,  1.56s/it]\n"
     ]
    },
    {
     "name": "stdout",
     "output_type": "stream",
     "text": [
      "1 errors found\n",
      "\u001b[KWebscraping for company: TAP (205/215)"
     ]
    },
    {
     "name": "stderr",
     "output_type": "stream",
     "text": [
      "100%|██████████| 20/20 [01:03<00:00,  3.19s/it]\n"
     ]
    },
    {
     "name": "stdout",
     "output_type": "stream",
     "text": [
      "0 errors found\n",
      "\u001b[KWebscraping for company: CPB (206/215)"
     ]
    },
    {
     "name": "stderr",
     "output_type": "stream",
     "text": [
      "100%|██████████| 20/20 [00:30<00:00,  1.53s/it]\n"
     ]
    },
    {
     "name": "stdout",
     "output_type": "stream",
     "text": [
      "2 errors found\n",
      "\u001b[KWebscraping for company: AES (207/215)"
     ]
    },
    {
     "name": "stderr",
     "output_type": "stream",
     "text": [
      "100%|██████████| 20/20 [01:17<00:00,  3.88s/it]\n"
     ]
    },
    {
     "name": "stdout",
     "output_type": "stream",
     "text": [
      "4 errors found\n",
      "\u001b[KWebscraping for company: IPG (208/215)"
     ]
    },
    {
     "name": "stderr",
     "output_type": "stream",
     "text": [
      "100%|██████████| 20/20 [00:37<00:00,  1.87s/it]\n"
     ]
    },
    {
     "name": "stdout",
     "output_type": "stream",
     "text": [
      "0 errors found\n",
      "\u001b[KWebscraping for company: CAG (209/215)"
     ]
    },
    {
     "name": "stderr",
     "output_type": "stream",
     "text": [
      "100%|██████████| 21/21 [00:33<00:00,  1.57s/it]\n"
     ]
    },
    {
     "name": "stdout",
     "output_type": "stream",
     "text": [
      "3 errors found\n",
      "\u001b[KWebscraping for company: EMN (210/215)"
     ]
    },
    {
     "name": "stderr",
     "output_type": "stream",
     "text": [
      "100%|██████████| 20/20 [00:46<00:00,  2.30s/it]\n"
     ]
    },
    {
     "name": "stdout",
     "output_type": "stream",
     "text": [
      "1 errors found\n",
      "\u001b[KWebscraping for company: APA (211/215)"
     ]
    },
    {
     "name": "stderr",
     "output_type": "stream",
     "text": [
      "100%|██████████| 4/4 [00:05<00:00,  1.45s/it]\n"
     ]
    },
    {
     "name": "stdout",
     "output_type": "stream",
     "text": [
      "0 errors found\n",
      "\u001b[KWebscraping for company: FITB (212/215)"
     ]
    },
    {
     "name": "stderr",
     "output_type": "stream",
     "text": [
      "100%|██████████| 20/20 [01:11<00:00,  3.59s/it]\n"
     ]
    },
    {
     "name": "stdout",
     "output_type": "stream",
     "text": [
      "13 errors found\n",
      "\u001b[KWebscraping for company: BF.B (213/215)"
     ]
    },
    {
     "name": "stderr",
     "output_type": "stream",
     "text": [
      "100%|██████████| 21/21 [00:20<00:00,  1.04it/s]"
     ]
    },
    {
     "name": "stdout",
     "output_type": "stream",
     "text": [
      "8 errors found\n",
      "\u001b[KWebscraping for company: HES (214/215)"
     ]
    },
    {
     "name": "stderr",
     "output_type": "stream",
     "text": [
      "\n",
      "100%|██████████| 20/20 [00:43<00:00,  2.20s/it]"
     ]
    },
    {
     "name": "stdout",
     "output_type": "stream",
     "text": [
      "10 errors found\n",
      "\u001b[KWebscraping for company: PPL (215/215)"
     ]
    },
    {
     "name": "stderr",
     "output_type": "stream",
     "text": [
      "\n",
      "100%|██████████| 20/20 [02:53<00:00,  8.69s/it]\n"
     ]
    },
    {
     "name": "stdout",
     "output_type": "stream",
     "text": [
      "0 errors found\n"
     ]
    }
   ],
   "source": [
    "# --------------------------Preparation:--------------------------\n",
    "\n",
    "cols_tokeep = [\"accessionNumber\", \"reportDate\", \"primaryDocument\"]\n",
    "\n",
    "#link fragmenting and pattern matching functions:\n",
    "\n",
    "\n",
    "def extract_section_1A(html, start_href, end_href):\n",
    "    \"\"\"\n",
    "    returns a list of text fragments in section 1A from a BeautifulSoup input of an entire 10-k html\n",
    "    \"\"\"\n",
    "    status = \"Starting\"\n",
    "    def fragment(href):\n",
    "        parsed = urlparse(href)\n",
    "        return parsed.fragment if parsed.fragment else href.lstrip(\"#\")\n",
    "    start_id = fragment(start_href)\n",
    "    end_id = fragment(end_href)\n",
    "\n",
    "    start_tag = html.find(id = start_id) or html.find(\"a\", attrs = {\"name\": start_id})\n",
    "    end_tag = html.find(id = end_id) or html.find(\"a\", attrs = {\"name\": end_id})\n",
    "\n",
    "    if not start_tag:\n",
    "        status = f\"Could not locate start anchor #{start_id}\"\n",
    "        content = None\n",
    "    elif not end_tag: \n",
    "        status = f\"Could not locate end anchor #{end_id}\"\n",
    "        content = None\n",
    "    else:\n",
    "        status = \"Worked\"\n",
    "        content_fragments = []\n",
    "        for sib in start_tag.next_elements: #problem here?\n",
    "            if sib is end_tag:\n",
    "                break\n",
    "            content_fragments.append(sib)\n",
    "        content = []\n",
    "        for element in content_fragments:\n",
    "            if hasattr(element, \"get_text\"):\n",
    "                text = element.get_text(strip = True)\n",
    "            else:\n",
    "                text = str(element).strip()\n",
    "            if text:\n",
    "                content.append(text)\n",
    "    return content, status\n",
    "\n",
    "# patterns to find the appropriate sections:\n",
    "patterns_1A = [re.compile(r'\\bITEM\\s*1A\\b', flags=re.IGNORECASE), re.compile(r'\\brisk\\s*factors\\b', flags=re.IGNORECASE)]\n",
    "patterns_1B = [re.compile(r'\\bITEM\\s*1B\\b', flags=re.IGNORECASE), re.compile(r'\\bunresolved\\s*staff\\s*comments\\b', flags=re.IGNORECASE), re.compile(r'\\bunresolved\\s*sec\\s*staff\\s*comments\\b', flags=re.IGNORECASE)]\n",
    "\n",
    "#creating the directory for the extracted sections:\n",
    "os.makedirs(\"section_1A\", exist_ok = True)\n",
    "\n",
    "#building the skeleton of the errors dataframe:\n",
    "errors = pd.DataFrame({\n",
    "    \"Company\": pd.Series(dtype=\"string\"),\n",
    "    \"FiscalYearEnd\": pd.Series(dtype=\"datetime64[ns]\"),\n",
    "    \"Status\": pd.Series(dtype=\"string\"),\n",
    "    \"URL\": pd.Series(dtype=\"string\")\n",
    "})\n",
    "\n",
    "# --------------------------Full loop:--------------------------\n",
    "\n",
    "total_documents = 0\n",
    "for i_comp, row_comp in company_tickers.iterrows():\n",
    "    status = f'Webscraping for company: {row_comp[\"ticker\"]} ({i_comp+1}/{len(company_tickers)})'\n",
    "    print('\\r\\033[K' + status, end='')\n",
    "    sys.stdout.flush()\n",
    "\n",
    "    cik = row_comp[\"cik\"]\n",
    "    cik_no_zeros = str(int(cik))\n",
    "\n",
    "    # obtaining the document links:\n",
    "    url = f\"https://data.sec.gov/submissions/CIK{cik}.json\"\n",
    "    submissions = get_json(url, headers_data)\n",
    "\n",
    "    comp_ticker = row_comp[\"ticker\"]\n",
    "    filings = submissions[\"filings\"]\n",
    "\n",
    "    recent = pd.DataFrame(filings[\"recent\"])\n",
    "    recent = recent[recent[\"form\"] == \"10-K\"].drop(columns = [col for col in recent.columns if col not in cols_tokeep])\n",
    "    dataframes = [recent]\n",
    "\n",
    "    for file_dict in filings[\"files\"]:\n",
    "        filename = file_dict[\"name\"]\n",
    "        url = f\"https://data.sec.gov/submissions/{filename}\"\n",
    "        older_subm = pd.DataFrame(get_json(url, headers_data))\n",
    "        older_subm = older_subm[older_subm[\"form\"] == \"10-K\"].drop(columns = [col for col in older_subm.columns if col not in cols_tokeep])\n",
    "        dataframes.append(older_subm)\n",
    "    \n",
    "    df = pd.concat(dataframes, ignore_index = True)\n",
    "    df[\"reportDate\"] = pd.to_datetime(df[\"reportDate\"])\n",
    "    df[\"reportYear\"] = df[\"reportDate\"].dt.year\n",
    "    df = df[df[\"reportYear\"] >= 2005]\n",
    "\n",
    "    total_documents += len(df)\n",
    "\n",
    "    dict_1A = {}\n",
    "\n",
    "    #iterating over all years for the company in question:\n",
    "    for doc_i, doc_row in tqdm(df.iterrows(), total = len(df)):\n",
    "        accno = doc_row[\"accessionNumber\"]\n",
    "        acc_no_no_dash = accno.replace(\"-\", \"\")\n",
    "        doclink = doc_row[\"primaryDocument\"]\n",
    "        url = f'https://www.sec.gov/Archives/edgar/data/{cik_no_zeros}/{acc_no_no_dash}/{doclink}'\n",
    "        df.at[doc_i, \"url\"] = url\n",
    "        \n",
    "        # downloading the 10-K filing\n",
    "        response = rq.get(url, headers = headers_doc)\n",
    "        content = BeautifulSoup(response.content, \"html.parser\")\n",
    "\n",
    "        link_1A = None\n",
    "        link_1B = None\n",
    "        link_list = [{\"link\": link, \"text\": \" \".join(link.get_text(separator = \" \").split())} for link in content.find_all(\"a\")] \n",
    "\n",
    "        # pattern matching for item 1A:\n",
    "        idx = 0\n",
    "        while link_1A == None and idx < len(patterns_1A):\n",
    "            for link_dict in link_list:\n",
    "                if patterns_1A[idx].search(link_dict[\"text\"]):\n",
    "                    link_1A = link_dict[\"link\"].get(\"href\")\n",
    "                    break\n",
    "            idx += 1\n",
    "        \n",
    "        #pattern matching for item 1B:\n",
    "        idx = 0\n",
    "        while link_1B == None and idx < len(patterns_1B):\n",
    "            for link_dict in link_list:\n",
    "                if patterns_1B[idx].search(link_dict[\"text\"]):\n",
    "                    link_1B = link_dict[\"link\"].get(\"href\")\n",
    "                    break\n",
    "            idx += 1\n",
    "\n",
    "        #updating the status, using the extraction function, if the link finding worked:\n",
    "        if link_1A == None:\n",
    "            sec_1A = None\n",
    "            extract_status = f'Could not find start link'\n",
    "        elif link_1B == None:\n",
    "            sec_1A = None\n",
    "            extract_status = f'Could not find end link'\n",
    "        else:\n",
    "            sec_1A, extract_status = extract_section_1A(content, link_1A, link_1B)\n",
    "        \n",
    "        #attempting to find the headings for the sections, in case the link method did not work\n",
    "        if sec_1A == None:\n",
    "            bold_tags = content.find_all([\"b\", \"strong\"])\n",
    "            styled_bold = content.find_all(\n",
    "                lambda tag: tag.has_attr(\"style\") and \"font-weight\" in tag[\"style\"].lower() and \"bold\" in tag[\"style\"].lower())\n",
    "            all_bold = set(bold_tags + styled_bold)\n",
    "\n",
    "            tag_list = [{\"fulltag\": tag, \"text\": \" \".join(tag.get_text(separator = \" \").split())} for tag in all_bold]\n",
    "            tag_1A = None\n",
    "            tag_1B = None\n",
    "\n",
    "            idx = 0\n",
    "            while tag_1A == None and idx < len(patterns_1A):\n",
    "                for tag_dict in tag_list:\n",
    "                    if patterns_1A[idx].search(tag_dict[\"text\"]):\n",
    "                        tag_1A = tag_dict[\"fulltag\"]\n",
    "                        break\n",
    "                idx += 1\n",
    "            \n",
    "            idx = 0\n",
    "            while tag_1B == None and idx < len(patterns_1B):\n",
    "                for tag_dict in tag_list:\n",
    "                    if patterns_1B[idx].search(tag_dict[\"text\"]):\n",
    "                        tag_1B = tag_dict[\"fulltag\"]\n",
    "                        break\n",
    "                idx += 1\n",
    "            \n",
    "            if tag_1A == None:\n",
    "                extract_status = \"Bold tag Method: Could not find start tag\"\n",
    "            elif tag_1B == None:\n",
    "                extract_status = \"Bold tag Method: Could not find end tag\"\n",
    "            else:\n",
    "                divlist = content.find_all(\"div\")\n",
    "                start_idx = None\n",
    "                end_idx = None\n",
    "\n",
    "                for div_i, div in enumerate(divlist):\n",
    "                    if tag_1A in div:\n",
    "                        start_idx = div_i\n",
    "                    if tag_1B in div:\n",
    "                        end_idx = div_i\n",
    "                \n",
    "                if start_idx == None:\n",
    "                    extract_status = \"Bold tag Method: start index could not be located\" \n",
    "                elif end_idx == None:\n",
    "                    extract_status = \"Bold tag Method: end index could not be located\"\n",
    "                elif start_idx >= end_idx:\n",
    "                    extract_status = \"Bold tag Method: start index is not smaller than end index\"\n",
    "                else:\n",
    "                    content_fragments = divlist[start_idx:end_idx]\n",
    "                    sec_1A = []\n",
    "                    for element in content_fragments:\n",
    "                        if hasattr(element, \"get_text\"):\n",
    "                            text = element.get_text(strip = True)\n",
    "                        else:\n",
    "                            text = str(element).strip()\n",
    "                        if text: sec_1A.append(text)\n",
    "                    \n",
    "                    if len(sec_1A) == 0:\n",
    "                        extract_status = \"Bold tag method returned an empty list\"\n",
    "\n",
    "        elif len(sec_1A) == 0:\n",
    "            extract_status = \"Extract function: returned an empty list\"    \n",
    "\n",
    "        #passing the (hopefully) extracted section to its dictionary\n",
    "        dict_1A.update({doc_row[\"reportYear\"]: {\"link_1A\": link_1A, \n",
    "                                                \"link_1B\": link_1B,\n",
    "                                                \"URL\": url,\n",
    "                                                \"section_1A\": sec_1A}\n",
    "                                                })\n",
    "        \n",
    "        #updating the error dict, in case it didn't work\n",
    "        if sec_1A == None or len(sec_1A) == 0:\n",
    "            error_row = {\"Company\": comp_ticker,\n",
    "                        \"FiscalYearEnd\": doc_row[\"reportDate\"],\n",
    "                        \"Status\": extract_status,\n",
    "                        \"URL\": url}\n",
    "            errors = pd.concat([errors, pd.DataFrame([error_row])], ignore_index = True)\n",
    "\n",
    "        del content\n",
    "        gc.collect()\n",
    "\n",
    "    #saving the json file\n",
    "    with open(f'section_1A/{comp_ticker}.json', 'w') as file:\n",
    "        json.dump(dict_1A, file)\n",
    "    del dict_1A\n",
    "\n",
    "    gc.collect()\n",
    "    print(f'{len([row for _, row in errors.iterrows() if row[\"Company\"] == comp_ticker])} errors found')"
   ]
  },
  {
   "cell_type": "code",
   "execution_count": 5,
   "id": "82a0e5cd",
   "metadata": {},
   "outputs": [
    {
     "name": "stdout",
     "output_type": "stream",
     "text": [
      "Errors in total: 716 out of 4241 documents (16.883%)\n"
     ]
    }
   ],
   "source": [
    "print(f'Errors in total: {len(errors)} out of {total_documents} documents ({((len(errors)/total_documents)*100):.3f}%)')\n",
    "errors.to_csv(\"webscraping_errors.csv\", index = False)"
   ]
  },
  {
   "cell_type": "code",
   "execution_count": 14,
   "id": "fde2058b",
   "metadata": {},
   "outputs": [
    {
     "data": {
      "text/plain": [
       "{'(',\n",
       " '(All Registrants)',\n",
       " '(PPL and LG&E)',\n",
       " '(PPL and PPL Electric)',\n",
       " '(PPL)',\n",
       " '(PPL, LG&E and KU)',\n",
       " ')',\n",
       " '17',\n",
       " '18',\n",
       " '19',\n",
       " '20',\n",
       " '21',\n",
       " '22',\n",
       " '23',\n",
       " 'A downgrade in our credit ratings could negatively affect our ability to access capital and increase the cost of maintaining our credit facilities and any new debt.',\n",
       " 'A pandemic health event and related remediation efforts could present challenges to businesses, communities, workforces, markets and supply chains. At this time, the Registrants cannot predict the ways in which and the extent to which these or other pandemic-related factors may affect their business, earnings or other financial results.',\n",
       " 'A.',\n",
       " 'A. Risk Related to Registrant Holding Company',\n",
       " 'A.Risks Related to Registrant Holding Company',\n",
       " 'AI technologies are still in their early stages of development and deployment. Ineffective or inadequate AI development or deployment practices by PPL, its subsidiaries or third-party vendors could result in unintended consequences. While we seek contractual protections with our third-party vendors regarding the use of AI technology, we may not have full awareness of, or control or visibility over, the quality, performance, security or compliance of the products and services that incorporate AI-related technology used by such vendors. AI algorithms that we or our third-party vendors use may be flawed or may be based on datasets that are biased or insufficient. These limitations or failures, or inaccurate results generated as a result of our employees’, contractors’ or vendors’ use or misuse of AI technologies could lead to operational interruptions or otherwise adversely affect our business, reputation or financial results. Developing, testing, and deploying resource-intensive AI systems may require additional investment and increase our costs. In addition, the rapidly evolving nature of AI technologies may cause new laws and regulations to be enacted which could dramatically affect business practices, including the costs to comply with such new laws and regulations. We cannot predict the future development of AI technologies and the nature of any related new laws and regulations, and their costs and consequences.',\n",
       " 'All Registrants',\n",
       " 'Although we maintain insurance coverage for certain of these risks, we do not carry insurance for all of these risks and no assurance can be given that such insurance coverage will be sufficient to compensate us in the event losses occur.',\n",
       " 'Artificial intelligence (AI) is an emerging area of technology that has the potential to impact various aspects of our business operations and customer interactions.',\n",
       " 'As used in this Item 1A., the terms \"we,\" \"our\" and \"us\" generally refer to PPL and its consolidated subsidiaries taken as a whole, or PPL Electric and its consolidated subsidiaries taken as a whole within the Pennsylvania Regulated segment discussion, LG&E, KU and their consolidated subsidiaries taken as a whole within the Kentucky Regulated segment discussion, and RIE within the Rhode Island Regulated segment discussion.',\n",
       " 'B.',\n",
       " 'B. Risks Related to Regulated Utility Operations',\n",
       " 'B.Risks Related to Regulated Utility Operations',\n",
       " \"Because PPL is a holding company, its debt and guaranty obligations are structurally subordinated to all existing and future liabilities of its subsidiaries. Although certain agreements to which certain subsidiaries are parties limit their ability to incur additional indebtedness, PPL and its subsidiaries retain the ability to incur substantial additional indebtedness and other liabilities. Therefore, PPL's rights and the rights of its creditors, including rights of debt holders, to participate in the assets of any of its subsidiaries, in the event that such a subsidiary is liquidated or reorganized, will be subject to the prior claims of such subsidiary's creditors.\",\n",
       " 'C.',\n",
       " 'C. Risks Specific to Kentucky Regulated Segment',\n",
       " 'C.Risks Specific to Kentucky Regulated Segment',\n",
       " 'Changes in tax law as well as the inherent difficulty in quantifying potential tax effects of business decisions could negatively impact our results of operations and cash flows. We are required to make judgments in order to estimate our obligations to taxing authorities. These tax obligations include income, property, gross receipts, franchise, sales and use, employment-related and other taxes. We also estimate our ability to utilize deferred tax assets and tax credits. Dependent upon the revenue needs of the jurisdictions in which our businesses operate, various tax and fee increases may be proposed or considered. We cannot predict changes in tax law or regulation or the effect of any such changes on our businesses. Any such changes could increase tax expense and could have a significant negative impact on our results of operations and cash flows. We continue to evaluate the application of relevant laws, including the TCJA and the IRA in calculating income tax expense.',\n",
       " \"Climate change may produce changes in weather or other environmental conditions, including temperature or precipitation levels, and thus may impact consumer demand for electricity. In addition, the potential physical effects of climate change, such as increased frequency and severity of storms, floods, and other climatic events, could disrupt our operations and cause us to incur significant costs to prepare for or respond to these effects. Climate change may also contribute to heightened risk or severity of wildfires, which could disrupt our operations and cause us to incur significant costs, though the annual FEMA National Risk Index for wildfires in the jurisdictions in which we provide service is very low to relatively moderate. These or other meteorological changes could lead to increased operating costs, capital expenses or power purchase costs. Greenhouse gas regulation such as the EPA’s May 2024 rule governing emissions from certain fossil fuel-fired electric generating units could increase the cost of electricity, and such increases could have a depressive effect on regional economies. Reduced economic and consumer activity in our service areas -- both generally and specific to certain industries and consumers accustomed to previously lower cost power -- could reduce demand for the power we generate, market and deliver. Also, demand for our energy-related services could be similarly lowered by consumers' preferences or market factors favoring energy efficiency, low-carbon power sources or reduced electricity usage. The Registrants' responses to such climate-related risks include compliance with evolving governmental policy and developing and implementing strategies designed to meet net zero carbon emissions goals, which may affect our financial condition, results of operations or cash flows.\",\n",
       " 'Credit ratings assigned by Moody\\'s and S&P to our businesses and their financial obligations have a significant impact on the cost of capital incurred by our businesses. A ratings downgrade could increase our short-term borrowing costs and negatively affect our ability to fund liquidity needs and access new long-term debt at acceptable interest rates. See \"Item\\xa07. Combined Management\\'s Discussion and Analysis of Financial Condition and Results of Operations - Financial Condition - Liquidity and Capital Resources - Ratings Triggers\" for additional information on the financial impact of a downgrade in our credit ratings.',\n",
       " 'D.',\n",
       " 'D. Risks Specific to Pennsylvania Regulated Segment',\n",
       " 'D.Risks Specific to Pennsylvania Regulated Segment',\n",
       " 'E.',\n",
       " 'E. Risks Specific to the Rhode Island Regulated Segment',\n",
       " 'E.Risks Specific to Rhode Island Regulated Segment',\n",
       " 'Energy consumption is significantly impacted by overall levels of economic activity and costs of energy supplies. Economic downturns or periods of high energy supply costs can lead to changes in or the development of legislative and regulatory policy designed to promote reductions in energy consumption and increased energy efficiency, alternative and renewable energy',\n",
       " \"Extensive federal, state and local environmental laws and regulations are applicable to LG&E's and KU's generation supply, including its air emissions, water discharges (ELGs) and the management of hazardous and solid wastes (CCRs), among other business-related activities, and the costs of compliance or alleged non-compliance cannot be predicted and could be material. In addition, our costs may increase significantly if the requirements or scope of environmental laws, regulations or similar rules are expanded or changed as the environmental standards governing LG&E’s and KU’s businesses, particularly as applicable to coal-fired generation and related activities, continue to be subject to uncertainties due to rulemaking and other regulatory developments, legislative activities and litigation, administrative and permit challenges. In recent years, the federal government has undertaken various efforts aimed at addressing climate change, some of which remain subject to legal challenge, that may affect these costs. The Registrants are unable to predict changes in regulations, regulatory guidance, legal interpretations, policy positions, and implementation actions that may result from the change in Presidential administrations. Depending on the extent, frequency and timing of such changes, LG&E and KU may face higher risks of unsuccessful implementation of environmental-related business plans, noncompliance with applicable environmental rules, delayed or incomplete rate recovery or increased costs of implementation. Costs may take the form of increased capital expenditures or operating and maintenance expenses, monetary fines, penalties or forfeitures, operational changes, permit limitations or other restrictions. At some of our older generating facilities it may be uneconomic for us to install necessary pollution control equipment, which could cause us to retire those units. Our ability to retire plants we believe are uneconomic is expected to be subject to receipt of regulatory approvals. Market prices for energy and capacity also affect this cost-effectiveness analysis. Many of these environmental law considerations are also applicable to the operations of our key suppliers or customers, such as coal producers, power producers and industrial power users, and may impact the costs of their products and demand for our services.\",\n",
       " 'F.',\n",
       " 'F. Risks Related to All Segments',\n",
       " 'F.Risks Related to All Segments',\n",
       " 'FERC Order 1000, issued in July 2011, establishes certain procedural and substantive requirements relating to participation, cost allocation and non-incumbent developer aspects of regional and inter-regional electricity transmission planning activities. The PPL Electric transmission business, operating under a FERC-approved PJM Open Access Transmission Tariff, is subject to competition pursuant to FERC Order 1000 from entities that are not incumbent PJM transmission owners with respect to the construction and ownership of transmission facilities within PJM. Increased competition can result in lower rate base growth.',\n",
       " 'Failure to complete our capital projects on schedule or on budget, or at all, could adversely affect our financial performance, operations and future growth if such expenditures are not granted rate recovery by our regulators.',\n",
       " 'ITEM 1A. RISK FACTORS',\n",
       " 'In addition to regulating the rates we charge, various federal and state regulatory authorities regulate many aspects of our utility operations, including:',\n",
       " 'In addition, under the Energy Policy Act of 2005, users, owners and operators of the bulk power transmission system, including PPL Electric, LG&E, KU and RIE, are subject to mandatory reliability standards promulgated by NERC and enforced by the FERC. As an operator of natural gas distribution systems, LG&E is also subject to mandatory reliability standards of the U.S. Department of Transportation and is also subject to certain security directives related to cybersecurity issued by the Department of Homeland Security (DHS) Transportation Security Administration (TSA) in 2021. The TSA has determined that LG&E is critical, while RIE has not been notified of this distinction and is therefore not currently subject to the security directives. Failure to comply with these standards could result in the imposition of fines or civil penalties, and potential exposure to third party claims for alleged violations of the standards.',\n",
       " 'In connection with various divestitures, and certain other transactions, we have indemnified or guaranteed parties against certain liabilities. These indemnities and guarantees relate, among other things, to liabilities which may arise with respect to the period during which we or our subsidiaries operated a divested business, and to certain ongoing contractual relationships and entitlements with respect to which we or our subsidiaries made commitments in connection with a divestiture. See \"Guarantees and Other Assurances\" in Note 12 to the Financial Statements.',\n",
       " 'Increases in electricity prices and/or a weak economy can lead to changes in legislative and regulatory policy, including the promotion of energy efficiency, conservation and distributed generation or self-generation, which may adversely impact our business.',\n",
       " 'Natural disasters or operational accidents (such as wildfires, earthquakes, hurricanes or natural gas transmission pipeline explosions) could have direct or indirect impacts on the Registrants or key contractors or suppliers. Further, the generation of electricity and the transportation and storage of natural gas involve inherent operating risks that may result in accidents involving serious injury or loss of life, environmental damage or property damage. Such events could affect the Registrants through civil or criminal legal proceedings or changes to policies, laws and regulations the compliance costs of which may have a significant impact on the Registrants’ results of operations, financial position and cash flows. Existing insurance policies may not cover all of the potential exposures in connection with such incidents. Any losses not covered by insurance, or any increases in the cost of applicable insurance as a result of such incidents, could have a material adverse effect on the results of operations, financial position and cash flows of the Registrants.',\n",
       " 'Natural disasters or operational accidents may adversely affect the Registrants’ operating results.',\n",
       " 'Numerous functions affecting the efficient operation of our businesses are dependent on the secure and reliable storage, processing and communication of electronic data and the use of sophisticated computer hardware and software systems and network infrastructure. The operation of our transmission and distribution systems, including gas distribution systems, as well as our generation plants, are all reliant on cyber-based, complex and integrated technologies. Systemic issues could arise as a result of upgrades to particular software or human error. In addition, these complex systems are subject to the risk that they could be the target of disruptive actions by terrorists, nation state actors or criminals or otherwise be compromised. Attacks may come through ransomware, software updates or patches, use of opensource software, firmware that hackers can manipulate to include malicious codes for exploitation at a later date, or',\n",
       " \"Numerous functions affecting the efficient operation of our businesses are dependent on the secure and reliable storage, processing and communication of electronic data and the use of sophisticated computer hardware and software systems and network infrastructure. The operation of our transmission and distribution systems, including gas distribution systems, as well as our generation plants, are all reliant on cyber-based, complex and integrated technologies. Systemic issues could arise as a result of upgrades to particular software or human error. In addition, these complex systems are subject to the risk that they could be the target of disruptive actions by terrorists, nation state actors or criminals or otherwise be compromised. Attacks may come through ransomware, software updates or patches, use of opensource software, firmware that hackers can manipulate to include malicious codes for exploitation at a later date, orthe compromising of hardware by bad actors, creating serious risks to our security, the security of our customers' information, and potentially to our ability to provide power. Attacks could also target our personnel or contractors through attempts to gain access or credentials that could be used to breach our systems. As a result, operations could be interrupted, property could be damaged and sensitive customer information lost or stolen, causing us to incur significant losses of revenues, other substantial liabilities and damages, costs to replace or repair damaged equipment\",\n",
       " 'Operation of power plants, transmission and distribution facilities, information technology systems and other assets and activities subjects us to a variety of risks, including the breakdown or failure of equipment, accidents, security breaches, viruses or outages affecting information technology systems, labor disputes, obsolescence, delivery/transportation problems and disruptions of fuel supply and performance below expected levels. These events may impact our ability to conduct our businesses efficiently and lead to increased costs, expenses or losses. Operation of our delivery systems below our expectations may result in lost revenue and increased expense, including higher maintenance costs, which may not be recoverable from customers. Planned and unplanned outages at our power plants may require us to purchase power at then-current market prices to satisfy our commitments or, in the alternative, pay penalties and damages for failure to satisfy them.',\n",
       " 'Order of Subsection Presentation',\n",
       " 'Our business operations are continually subject to cyber-based security and data integrity risks from vulnerabilities related to our IT systems, operational technology infrastructure and supply chain relationships.',\n",
       " 'Our businesses are capital-intensive and, in the ordinary course of business, we are reliant upon adequate long-term and short-term financing to fund our significant capital expenditures, debt service and operating needs. As a result, we are sensitive to developments in interest rates, credit rating considerations, insurance, security or collateral requirements, market liquidity and credit availability and refinancing opportunities necessary or advisable to respond to credit market changes. Changes in these conditions could result in increased costs and decreased availability of credit. In addition, certain sources of debt and equity capital have expressed reservations about investing in companies that rely on fossil fuels. If sources of our capital are reduced, capital costs could increase materially.',\n",
       " 'Our businesses are subject to physical, market and economic risks relating to potential',\n",
       " 'Our businesses are subject to physical, market and economic risks relating to potentialeffects of climate change.',\n",
       " 'Our businesses are subject to seasonal demand cycles. For example, in some markets demand for, and market prices of, electricity peak during hot summer months, while in other markets such peaks occur in cold winter months. As a result, our overall operating results may fluctuate substantially on a seasonal basis if weather conditions diverge adversely from seasonal norms. Extreme weather and other significant disruptive events could significantly affect our profitability or operations by causing outages, damaging infrastructure and requiring significant repair costs. Storm outages and damage often directly decrease revenues and increase expenses, due to reduced usage and restoration costs. The effects of climate change may cause, contribute to or magnify fluctuations in our operating results.',\n",
       " 'Our businesses depend upon our ability to employ and retain key officers and other skilled professional and technical employees. We experience attrition due primarily to retiring employees, with the risk that critical knowledge will be lost and that it may be difficult to replace departed personnel, and to attract and retain new personnel, with appropriate skills and experience.',\n",
       " 'Our cost or inability to obtain and comply with the permits and approvals required for our operations could have a material adverse effect on our operations and cash flows. In addition, new environmental legislation or regulations, if enacted, or changed interpretations of existing laws may elicit claims that historical routine modification activities at our facilities violated applicable laws and regulations. In addition to the possible imposition of fines in such cases, we may be required to undertake significant capital investments in pollution control technology and obtain additional operating permits or approvals, which could have an adverse impact on our business, results of operations, cash flows and financial condition.',\n",
       " 'Our facilities may not operate as planned, which may increase our expenses and decrease our revenues and have an adverse effect on our financial performance.',\n",
       " 'Our operating revenues could fluctuate on a seasonal basis, especially as a result of extreme weather conditions, including storms, or from changes in average temperatures for extended periods, which may be caused or exacerbated by climate change.',\n",
       " 'Our profitability is highly dependent on our ability to recover the costs of providing energy and utility services to our customers and earn an adequate return on our capital investments. Regulators may not approve the rates we request and existing rates may be challenged.',\n",
       " 'Our regulated businesses undertake significant capital projects and these activities are subject',\n",
       " 'Our regulated businesses undertake significant capital projects and these activities are subjectto unforeseen costs, delays or failures, as well as risk of inadequate recovery ofresulting costs.',\n",
       " 'Our regulated utility businesses face many of the same risks, in addition to those risks that are unique to each of the Kentucky Regulated, Pennsylvania Regulated and Rhode Island Regulated segments. Set forth below are risk factors common to the regulated segments, followed by sections identifying separately the risks specific to each of these segments.',\n",
       " 'Our utility businesses are subject to significant and complex governmental',\n",
       " 'Our utility businesses are subject to significant and complex governmentalregulation.',\n",
       " 'PPL',\n",
       " 'PPL Electric is subject to Act 129, which contains requirements for energy efficiency and conservation programs and for the use of smart metering technology, imposes PLR electricity supply procurement rules, provides remedies for market misconduct, and made changes to the existing Alternative Energy Portfolio Standard. The law also requires electric utilities to meet specified goals for reduction in customer electricity usage and peak demand. Utilities not meeting these Act 129 requirements are subject to significant penalties that cannot be recovered in rates. Numerous factors outside of our control could prevent compliance with these requirements and result in penalties to us.',\n",
       " 'PPL and LG&E',\n",
       " 'PPL and PPL Electric',\n",
       " \"PPL is a holding company and conducts its operations primarily through subsidiaries. Substantially all of the consolidated assets of PPL are held by its subsidiaries. Accordingly, PPL's cash flows and ability to meet debt and guaranty obligations, as well as PPL's ability to pay dividends, are largely dependent upon the earnings of those subsidiaries and the distribution or other payment of such earnings in the form of dividends, distributions, loans, advances or repayment of loans and advances. The subsidiaries are separate legal entities and have no obligation to pay dividends or distributions to their parents or to make funds available for such a payment. The ability of PPL's subsidiaries to pay dividends or distributions in the future will depend on the subsidiaries' future earnings and cash flows and the needs of their businesses, and may be restricted by their obligations to holders of their outstanding debt and other creditors, as well as any contractual or legal restrictions in effect at such time, including the requirements of state corporate law applicable to payment of dividends and distributions, and regulatory requirements, including restrictions on the ability of PPL Electric, LG&E, KU, and RIE to pay dividends under Section 305(a) of the Federal Power Act.\",\n",
       " 'PPL is a holding company and its cash flows and ability to meet its obligations with respect to indebtedness and under guarantees, and its ability to pay dividends, largely depends on the financial performance of its respective subsidiaries and, as a result, is effectively subordinated to all existing and future liabilities of those subsidiaries.',\n",
       " \"PPL may not realize the anticipated benefits of the RIE acquisition, which could materially adversely affect PPL's business, financial condition and results of operations.\",\n",
       " 'PPL may not realize the anticipated financial and operational benefits from the RIE acquisition. PPL has incurred significant costs in connection with the integration, and additional unanticipated costs may arise. No assurance can be given that the anticipated long-term benefits from the acquisition will be achieved or, if achieved, the timing of their achievement. These risks and their consequences could result in increased costs or decreases in the amount of expected revenues associated with the',\n",
       " 'PPL, LG&E and KU',\n",
       " 'Pandemic health events and their impact on business and economic conditions could negatively affect our business.',\n",
       " \"Rhode Island Regulated segment and could have a material adverse effect on PPL's business, financial condition and results of operations.\",\n",
       " 'Risks Related to All Segments',\n",
       " 'Risks Related to Registrant Holding Company',\n",
       " 'Risks Related to Regulated Utility Operations',\n",
       " 'Risks Specific to Kentucky Regulated Segment',\n",
       " 'Risks Specific to Pennsylvania Regulated Segment',\n",
       " 'Risks Specific to Rhode Island Regulated Segment',\n",
       " 'Significant increases in our operation and maintenance expenses, including health care and pension costs, could adversely affect our future earnings and liquidity.',\n",
       " 'Statements. We cannot predict the ultimate outcome of these matters, nor can we reasonably estimate the costs or liabilities that could potentially result from a negative outcome in each case.',\n",
       " 'Such regulations or changes thereto may subject us to higher operating costs or increased capital expenditures and failure to comply could result in sanctions or possible penalties which may not be recoverable from customers.',\n",
       " 'Table of Contents',\n",
       " 'The PHMSA enforces regulations that govern the design, construction, operation and maintenance of pipeline facilities. Failure to comply with these regulations could result in the assessment of fines or penalties against LG&E. These regulations require, among other things, that pipeline operators take certain measures with respect to pipeline integrity. Depending on the results of integrity tests and other integrity program activities, we could incur significant and unexpected costs to perform remedial activities on our natural gas infrastructure to ensure our continued safe and reliable operation. Recent pipeline incidents in the U.S. have also led to the introduction of proposed rules and possible federal legislative actions which could impose restrictions on LG&E’s operations or require more stringent testing to ensure pipeline integrity. Implementation of these regulations could increase our costs to comply with pipeline integrity and safety regulations.',\n",
       " 'The PHMSA enforces regulations that govern the design, construction, operation and maintenance of pipeline facilities. Failure to comply with these regulations could result in the assessment of fines or penalties against RIE. These regulations require, among other things, that pipeline operators take certain measures with respect to pipeline integrity. Depending on the results of integrity tests and other integrity program activities, we could incur significant and unexpected costs to perform remedial activities on our natural gas infrastructure to ensure our continued safe and reliable operation.',\n",
       " 'The Registrants face various risks associated with their businesses. Our businesses, financial condition, cash flows or results of operations could be materially adversely affected by any of these risks. In addition, this report also contains forward-looking and other statements about our businesses that are subject to numerous risks and uncertainties. See \"Forward-Looking Information,\" \"Item 1. Business,\" \"Item\\xa07. Combined Management\\'s Discussion and Analysis of Financial Condition and Results of Operations\" and Note 12 to the Financial Statements for additional information concerning the risks described below and for other risks, uncertainties and factors that could affect our businesses and financial results.',\n",
       " 'The conduct of our physical and commercial operations subjects us to many risks, including risks of potential physical injury, property damage or other financial liability, caused to or by employees, customers, contractors, vendors, contractual or financial counterparties and other third parties.',\n",
       " 'The rates we charge our utility customers must be approved by one or more federal or state regulatory commissions, including the FERC, KPSC, VSCC, PAPUC and RIPUC. Although rate regulation is generally premised on the recovery of prudently incurred costs and a reasonable rate of return on invested capital, there can be no assurance that regulatory authorities will consider all of our costs to have been prudently incurred or that the regulatory process by which rates are determined will always result in rates that achieve full or timely recovery of our costs or an adequate return on our capital investments. Federal or state agencies, intervenors and other permitted parties may challenge our current or future rate requests, structures or mechanisms, and ultimately reduce, alter or limit the rates we receive. The requests for rate increases and the frequency of rate cases could face resistance from customers and other stakeholders, especially in a rising cost environment. Although our rates are generally regulated based on an analysis of our costs incurred in a base year or on future projected costs, the rates we are allowed to charge may or may not match our costs at any given time. Our regulated utility businesses are subject to substantial capital expenditure requirements over the next several years, which may require rate increase requests to the regulators in the future. If our costs are not adequately recovered through rates, it could have an adverse effect on our business, results of operations, cash flows and financial condition.',\n",
       " 'The regulated utility businesses are capital intensive and require significant investments in energy generation (in the case of LG&E and KU) and transmission, distribution and other infrastructure projects, such as projects for environmental compliance and system reliability. The completion of these projects without delays or cost overruns is subject to risks in many areas, including:',\n",
       " 'War, other armed conflicts or terrorist attacks could have a material adverse effect on our business.',\n",
       " \"War, terrorist attacks and unrest have caused and may continue to cause instability in the world's financial and commercial markets. In addition, unrest could lead to acts of terrorism in the United States or elsewhere, and acts of terrorism could be directed against companies such as ours. Armed conflicts and terrorism and their effects on us or our markets may significantly affect our business and results of operations in the future. In addition, we may incur increased costs for security, including additional physical plant security and security personnel or increased capability following a terrorist incident.\",\n",
       " 'We are involved in legal proceedings, claims and litigation and periodically are subject to state and federal investigations arising out of our business operations, the most significant of which are summarized in Item 1. Business and \"Regulatory Matters\" in Note 7 to the Financial Statements and in \"Legal Matters\" and \"Regulatory Issues\" in Note 12 to the Financial',\n",
       " 'We are or may be subject to costs of remediation of environmental contamination at facilities that are currently owned by us or that are owned or operated by our former subsidiaries.',\n",
       " 'We are required to obtain, and to comply with, government permits and approvals.',\n",
       " 'We are required to obtain, and to comply with, numerous permits, approvals, licenses and certificates from governmental agencies. The process of obtaining and renewing necessary permits can be lengthy and complex and sometimes result in the establishment of permit conditions that make the project or activity for which a permit was sought unprofitable or otherwise unattractive. In addition, such permits or approvals may be subject to denial, revocation or modification under certain circumstances. Failure to obtain or comply with the conditions of permits or approvals, or failure to comply with any applicable laws or regulations, may result in delay or temporary suspension of our operations and electricity sales or the curtailment of our power delivery and may subject us to penalties and other sanctions. Although various regulators routinely renew existing licenses, renewal could be denied or jeopardized by various factors, including failure to provide adequate financial assurance for closure; failure to comply with environmental, health and safety laws and regulations or permit conditions; local community, political or other opposition; and executive, legislative or regulatory action.',\n",
       " 'We are subject to counterparty performance, credit or other risk in the provision of goods or services to us, which could adversely affect our ability to operate our facilities or conduct business activities.',\n",
       " 'We are subject to financial, operational, regulatory and other risks related to requirements, developments and uncertainties in environmental regulation, including those affecting coal-fired generation facilities.',\n",
       " 'We are subject to liability risks relating to our generation,',\n",
       " 'We are subject to liability risks relating to our generation,transmission and distribution operations.',\n",
       " 'We are subject to regulatory and other risks regarding natural gas supply infrastructure in Rhode Island.',\n",
       " 'We are subject to regulatory and other risks regarding natural gas supply infrastructure.',\n",
       " 'We are subject to risks associated with federal and state tax laws and regulations.',\n",
       " 'We are subject to the risk that our workforce and its knowledge base may become depleted in coming years.',\n",
       " 'We cannot predict the outcome of legal proceedings or investigations related to our businesses in which we are periodically involved. An unfavorable outcome or determination in any of these matters could have a material adverse effect on our financial condition, results of operations or cash flows.',\n",
       " 'We continually focus on limiting and reducing our operation and maintenance expenses. However, we expect to continue to face increased cost pressures in our operations. Increased costs of materials and labor may result from general inflation, increased regulatory requirements (especially in respect of environmental regulations), the need for higher-cost expertise in the workforce or other factors. In addition, pursuant to collective bargaining agreements, we are contractually committed to provide specified levels of health care and pension benefits to certain current employees and retirees. These benefits give rise to significant expenses. Due to general inflation with respect to such costs, the aging demographics of our workforce and other factors, we have experienced significant health care cost inflation in recent years, and we expect our health care costs, including prescription drug coverage, to continue to increase despite measures that we have taken and expect to take to require employees and retirees to bear a higher portion of the costs of their health care benefits. In addition, we expect to continue to incur significant costs with respect to the defined benefit pension plans for our employees and retirees. The measurement of our expected future health care and pension obligations, costs and liabilities is highly dependent on a variety of assumptions, most of which relate to factors beyond our control. These assumptions include investment returns, interest rates, health care cost trends, inflation rates, benefit improvements, salary increases and the demographics of plan participants. If our assumptions prove to be inaccurate, our future costs and cash contribution requirements to fund these benefits could increase significantly.',\n",
       " 'We could be negatively affected by rising interest rates, downgrades to our credit ratings, adverse credit market conditions or other negative developments in our ability to access capital markets.',\n",
       " 'We could be subject to higher costs and/or penalties related to Pennsylvania Conservation and Energy Efficiency Programs.',\n",
       " 'We face competition for transmission projects, which could adversely affect our rate base growth.',\n",
       " 'We may be subject to liability for the costs of environmental remediation of property now or formerly owned by us with respect to substances that we may have generated regardless of whether the liabilities arose before, during or after the time we owned or operated the facilities. We also have current or previous ownership interests in sites associated with the production of manufactured gas for which we may be liable for additional costs related to investigation, remediation and monitoring of these sites. Remediation activities associated with our former manufactured gas plant operations are one source of such costs. Citizen groups or others may bring litigation regarding environmental issues including claims of various types, such as property damage, personal injury and citizen challenges to compliance decisions on the enforcement of environmental requirements, which could subject us to penalties, injunctive relief and the cost of litigation. We cannot predict the amount and timing of future expenditures (including the potential or magnitude of fines or penalties) related to such environmental matters, although they could be material.',\n",
       " 'We may incur liabilities in connection with divestitures.',\n",
       " 'We purchase from a variety of suppliers energy, capacity, fuel, natural gas, transmission service and certain commodities used in the physical operation of our businesses, as well as goods or services, including information technology rights and services, used in the administration of our businesses. Delivery of these goods and services is dependent on the continuing operational performance and financial viability of our contractual counterparties and also the markets, infrastructure or third parties they use to provide such goods and services to us. As a result, we are subject to risks of disruptions, curtailments or increased costs in the operation of our businesses if such goods or services are unavailable or become subject to price spikes or if a counterparty fails to perform. Such disruptions could adversely affect our ability to operate our facilities or deliver services and collect revenues, which could result in lower sales and/or higher costs and thereby adversely affect our results of operations. The performance of coal markets and producers may be the subject of increased counterparty risk to LG&E and KU currently due to weaknesses in such markets and suppliers. The coal industry is subject to increasing competitive pressures from natural gas markets, political pressures and new or more stringent environmental regulation, including regulation of combustion byproducts and water inputs or discharges.',\n",
       " 'accounting, depreciation and cost allocation methodologies;',\n",
       " 'acquisition, retirement and disposal of utility assets; and',\n",
       " 'affiliate transactions;',\n",
       " 'and damage to our reputation. Threats to our systems and operations continue to emerge as new ways to compromise components of our systems or networks are developed. Additionally, cybersecurity risks also threaten our supply chains, including aspects that are not under our control, such as the incorporation of opensource software in systems or software that we use, that despite our efforts do not meet our current security standards.',\n",
       " 'approval, licensing and permitting;',\n",
       " 'construction problems or delays, including disputes with third-party intervenors;',\n",
       " 'contractor performance.',\n",
       " 'effects of climate change.',\n",
       " 'financial and capital structure matters, and issuance of securities;',\n",
       " 'increases in commodity prices or labor rates;',\n",
       " 'land acquisition and the availability of suitable land;',\n",
       " 'mandatory reliability and safety standards under the Energy Policy Act of 2005 and other standards of conduct;',\n",
       " 'potential supply chain disruptions or delays; and',\n",
       " 'regulation.',\n",
       " 'resulting costs.',\n",
       " 'siting, construction and operation of facilities;',\n",
       " 'skilled labor or equipment shortages;',\n",
       " 'sources, and distributed or self-generation by customers. This focus on conservation, energy efficiency and self-generation may result in a decline in electricity demand, which could adversely affect our business.',\n",
       " 'tax matters;',\n",
       " \"the compromising of hardware by bad actors, creating serious risks to our security, the security of our customers' information, and potentially to our ability to provide power. Attacks could also target our personnel or contractors through attempts to gain access or credentials that could be used to breach our systems. As a result, operations could be interrupted, property could be damaged and sensitive customer information lost or stolen, causing us to incur significant losses of revenues, other substantial liabilities and damages, costs to replace or repair damaged equipment\",\n",
       " 'the terms and conditions of our service and operations;',\n",
       " 'to unforeseen costs, delays or failures, as well as risk of inadequate recovery of',\n",
       " 'transmission and distribution operations.',\n",
       " 'various other matters, including energy efficiency.',\n",
       " '•',\n",
       " '•accounting, depreciation and cost allocation methodologies;',\n",
       " '•acquisition, retirement and disposal of utility assets; and',\n",
       " '•affiliate transactions;',\n",
       " '•approval, licensing and permitting;',\n",
       " '•construction problems or delays, including disputes with third-party intervenors;',\n",
       " '•contractor performance.',\n",
       " '•financial and capital structure matters, and issuance of securities;',\n",
       " '•increases in commodity prices or labor rates;',\n",
       " '•land acquisition and the availability of suitable land;',\n",
       " '•mandatory reliability and safety standards under the Energy Policy Act of 2005 and other standards of conduct;',\n",
       " '•potential supply chain disruptions or delays; and',\n",
       " '•siting, construction and operation of facilities;',\n",
       " '•skilled labor or equipment shortages;',\n",
       " '•tax matters;',\n",
       " '•the terms and conditions of our service and operations;',\n",
       " '•various other matters, including energy efficiency.'}"
      ]
     },
     "execution_count": 14,
     "metadata": {},
     "output_type": "execute_result"
    }
   ],
   "source": [
    "with open(\"section_1A/PPL.json\", \"r\") as file:\n",
    "    test_json = json.load(file)\n",
    "\n",
    "test_json\n",
    "\n",
    "\n",
    "#pickle file mit Datensatz, columns = [cik, date, section]; Nones rauslassen\n",
    "#\n",
    "\n",
    "sec_1A = test_json[\"2024\"][\"section_1A\"]\n",
    "sec_1A = set(sec_1A)\n",
    "sec_1A"
   ]
  }
 ],
 "metadata": {
  "kernelspec": {
   "display_name": "Python 3",
   "language": "python",
   "name": "python3"
  },
  "language_info": {
   "codemirror_mode": {
    "name": "ipython",
    "version": 3
   },
   "file_extension": ".py",
   "mimetype": "text/x-python",
   "name": "python",
   "nbconvert_exporter": "python",
   "pygments_lexer": "ipython3",
   "version": "3.13.5"
  }
 },
 "nbformat": 4,
 "nbformat_minor": 5
}
